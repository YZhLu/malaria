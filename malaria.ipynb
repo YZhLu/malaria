{
  "nbformat": 4,
  "nbformat_minor": 0,
  "metadata": {
    "colab": {
      "provenance": [],
      "toc_visible": true
    },
    "kernelspec": {
      "name": "python3",
      "display_name": "Python 3"
    },
    "language_info": {
      "name": "python"
    }
  },
  "cells": [
    {
      "cell_type": "markdown",
      "metadata": {
        "id": "RMsSYJxcArYA"
      },
      "source": [
        "# Briefing"
      ]
    },
    {
      "cell_type": "markdown",
      "metadata": {
        "id": "oaVEwLReA3am"
      },
      "source": [
        "Utilização de Classificadores de Aprendizado de Máquina na Detecção de Células Parazitadas pelo Protozoário da Malária.\n",
        "\n",
        "A malária é transmitida pela fêmea do mosquito do gênero *Anopheles*, e seu agente etiológico é um protozoário do gênero *Plasmodium* (Figura 1) [Rita et al. 2013]\n",
        "\n",
        "**Figura 1** - *Plasmodium Falciparum* MSP1 *Protein*\n",
        "\n",
        "![download.jfif](data:image/jpeg;base64,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)\n",
        "\n",
        "Estando presentes em mais de **90 países**, embora com prevalência diferente. Os mais comprometidos são a Índia, Brasil (**cerca de 300 mil casos por ano**), Afeganistão e países asiáticos, inclusive a China. Sendo tipicamente uma doença do mundo subdesenvolvido (MUÑOZ; FERNANDES, [201?])\n",
        "\n",
        "Em 2019, a contagem global de casos de malária foi de **229 milhões**, uma estimativa anual que permaneceu praticamente inalterada nos últimos 4 anos. A doença ceifou cerca de **409 mil vidas em 2019** (ORGANIZAÇÃO PAN-AMERICANA DA SAÚDE, 2020)."
      ]
    },
    {
      "cell_type": "markdown",
      "source": [
        "\n",
        "O diagnóstico confirmatório da malária baseia-se no encontro de parasitos no sangue.\n",
        "\n",
        "O método mais utilizado é a microscopia de gota espressa de sangue, colhida por punção digital e corada pelo método de Walker.\n",
        "\n",
        "O exame cuidadoso da lâmina é considerado o \"padrão-ouro\" para a detecção e a identificação dos parasitos, que possibilita detectar densidades baixas de parasitos (5-10 parasitos/µL de sangue) quando é feito por **profissional experiente**. Contudo, nas condições de campo, a  capacidade de detecção é de 100 parasitos/µL de sangue (BRASIL, 2020).\n",
        "\n",
        "60 minutos para detecção.\n"
      ],
      "metadata": {
        "id": "ujrHgVACUnrv"
      }
    },
    {
      "cell_type": "markdown",
      "source": [
        "Aplicar e avaliar a viabilidade do uso de uma rede neural *MultiLayer Perceptron* no auxílio do diagnóstico de malária.\n",
        "\n",
        "Para isso utilizaresmos a biblioteca disponível:\n",
        "\n",
        "https://scikit-learn.org/stable/modules/neural_networks_supervised.html"
      ],
      "metadata": {
        "id": "otCJ6ee3UpSl"
      }
    },
    {
      "cell_type": "markdown",
      "metadata": {
        "id": "dMgoKS0IBwxV"
      },
      "source": [
        "# Imports"
      ]
    },
    {
      "cell_type": "markdown",
      "metadata": {
        "id": "ew3zM6f2COFV"
      },
      "source": [
        "## Libraries\n"
      ]
    },
    {
      "cell_type": "code",
      "metadata": {
        "id": "XWSLo0jsAeWg"
      },
      "source": [
        "import cv2\n",
        "import numpy as np\n",
        "import pandas as pd\n",
        "from sklearn.decomposition import PCA\n",
        "import skimage.feature as ski\n",
        "from google.colab import drive\n",
        "\n",
        "#Pré-processamento\n",
        "from sklearn.preprocessing import StandardScaler\n",
        "\n",
        "# Cross Validation\n",
        "from sklearn.model_selection import cross_val_score\n",
        "# Hold-out\n",
        "from sklearn.model_selection import train_test_split\n",
        "\n",
        "\n",
        "# Classificadores\n",
        "## Tree\n",
        "from sklearn.tree import DecisionTreeClassifier\n",
        "## SVM\n",
        "from sklearn import svm\n",
        "## k-nn\n",
        "from sklearn.neighbors import KNeighborsClassifier\n",
        "## MLP\n",
        "from sklearn.neural_network import MLPClassifier\n",
        "\n",
        "# Métricas\n",
        "from sklearn.metrics import accuracy_score\n"
      ],
      "execution_count": null,
      "outputs": []
    },
    {
      "cell_type": "markdown",
      "metadata": {
        "id": "UUFSeU0LV9yJ"
      },
      "source": [
        "##Data\n"
      ]
    },
    {
      "cell_type": "code",
      "metadata": {
        "colab": {
          "base_uri": "https://localhost:8080/"
        },
        "id": "XN6B2fjPjgjO",
        "outputId": "352b43de-d00b-4305-c545-371c5840431a"
      },
      "source": [
        "drive.mount('/content/gdrive')"
      ],
      "execution_count": null,
      "outputs": [
        {
          "output_type": "stream",
          "name": "stdout",
          "text": [
            "Mounted at /content/gdrive\n"
          ]
        }
      ]
    },
    {
      "cell_type": "code",
      "metadata": {
        "id": "lnjjsCu3khTf"
      },
      "source": [
        "folder = '/content/gdrive/MyDrive/malaria/dataset/'"
      ],
      "execution_count": null,
      "outputs": []
    },
    {
      "cell_type": "code",
      "metadata": {
        "colab": {
          "base_uri": "https://localhost:8080/",
          "height": 487
        },
        "id": "ZwgSQtb1ku8-",
        "outputId": "48e74067-ccd0-4b0c-92bf-e24d16ba2ff5"
      },
      "source": [
        "base_completa = pd.read_csv(folder+'base_completa.csv')\n",
        "base_completa"
      ],
      "execution_count": null,
      "outputs": [
        {
          "output_type": "execute_result",
          "data": {
            "text/html": [
              "\n",
              "  <div id=\"df-e55c6af4-b93d-4906-a5bd-b48939b0271b\">\n",
              "    <div class=\"colab-df-container\">\n",
              "      <div>\n",
              "<style scoped>\n",
              "    .dataframe tbody tr th:only-of-type {\n",
              "        vertical-align: middle;\n",
              "    }\n",
              "\n",
              "    .dataframe tbody tr th {\n",
              "        vertical-align: top;\n",
              "    }\n",
              "\n",
              "    .dataframe thead th {\n",
              "        text-align: right;\n",
              "    }\n",
              "</style>\n",
              "<table border=\"1\" class=\"dataframe\">\n",
              "  <thead>\n",
              "    <tr style=\"text-align: right;\">\n",
              "      <th></th>\n",
              "      <th>0</th>\n",
              "      <th>1</th>\n",
              "      <th>2</th>\n",
              "      <th>3</th>\n",
              "      <th>4</th>\n",
              "      <th>5</th>\n",
              "      <th>6</th>\n",
              "      <th>7</th>\n",
              "      <th>8</th>\n",
              "      <th>9</th>\n",
              "      <th>10</th>\n",
              "      <th>11</th>\n",
              "      <th>12</th>\n",
              "      <th>13</th>\n",
              "      <th>14</th>\n",
              "      <th>15</th>\n",
              "      <th>16</th>\n",
              "      <th>17</th>\n",
              "      <th>18</th>\n",
              "      <th>19</th>\n",
              "      <th>20</th>\n",
              "      <th>21</th>\n",
              "      <th>22</th>\n",
              "      <th>23</th>\n",
              "      <th>24</th>\n",
              "      <th>25</th>\n",
              "      <th>26</th>\n",
              "      <th>27</th>\n",
              "      <th>28</th>\n",
              "      <th>29</th>\n",
              "      <th>30</th>\n",
              "      <th>31</th>\n",
              "      <th>32</th>\n",
              "      <th>33</th>\n",
              "      <th>34</th>\n",
              "      <th>35</th>\n",
              "      <th>36</th>\n",
              "      <th>37</th>\n",
              "      <th>38</th>\n",
              "      <th>39</th>\n",
              "      <th>...</th>\n",
              "      <th>985</th>\n",
              "      <th>986</th>\n",
              "      <th>987</th>\n",
              "      <th>988</th>\n",
              "      <th>989</th>\n",
              "      <th>990</th>\n",
              "      <th>991</th>\n",
              "      <th>992</th>\n",
              "      <th>993</th>\n",
              "      <th>994</th>\n",
              "      <th>995</th>\n",
              "      <th>996</th>\n",
              "      <th>997</th>\n",
              "      <th>998</th>\n",
              "      <th>999</th>\n",
              "      <th>1000</th>\n",
              "      <th>1001</th>\n",
              "      <th>1002</th>\n",
              "      <th>1003</th>\n",
              "      <th>1004</th>\n",
              "      <th>1005</th>\n",
              "      <th>1006</th>\n",
              "      <th>1007</th>\n",
              "      <th>1008</th>\n",
              "      <th>1009</th>\n",
              "      <th>1010</th>\n",
              "      <th>1011</th>\n",
              "      <th>1012</th>\n",
              "      <th>1013</th>\n",
              "      <th>1014</th>\n",
              "      <th>1015</th>\n",
              "      <th>1016</th>\n",
              "      <th>1017</th>\n",
              "      <th>1018</th>\n",
              "      <th>1019</th>\n",
              "      <th>1020</th>\n",
              "      <th>1021</th>\n",
              "      <th>1022</th>\n",
              "      <th>1023</th>\n",
              "      <th>classe</th>\n",
              "    </tr>\n",
              "  </thead>\n",
              "  <tbody>\n",
              "    <tr>\n",
              "      <th>0</th>\n",
              "      <td>0.000000</td>\n",
              "      <td>0.000000</td>\n",
              "      <td>0.000000</td>\n",
              "      <td>0.000000</td>\n",
              "      <td>0.000000</td>\n",
              "      <td>0.000000</td>\n",
              "      <td>0.000000</td>\n",
              "      <td>0.000000</td>\n",
              "      <td>0.000000</td>\n",
              "      <td>0.000000</td>\n",
              "      <td>0.000000</td>\n",
              "      <td>0.000000</td>\n",
              "      <td>0.000000</td>\n",
              "      <td>0.000000</td>\n",
              "      <td>0.000000</td>\n",
              "      <td>0.000000</td>\n",
              "      <td>0.000000</td>\n",
              "      <td>0.000000</td>\n",
              "      <td>0.219633</td>\n",
              "      <td>0.007742</td>\n",
              "      <td>0.314732</td>\n",
              "      <td>0.021446</td>\n",
              "      <td>0.314732</td>\n",
              "      <td>0.000000</td>\n",
              "      <td>0.000000</td>\n",
              "      <td>0.000000</td>\n",
              "      <td>0.184849</td>\n",
              "      <td>0.062334</td>\n",
              "      <td>0.000000</td>\n",
              "      <td>0.043870</td>\n",
              "      <td>0.000000</td>\n",
              "      <td>0.031313</td>\n",
              "      <td>0.000000</td>\n",
              "      <td>0.000000</td>\n",
              "      <td>0.000000</td>\n",
              "      <td>0.030734</td>\n",
              "      <td>0.253939</td>\n",
              "      <td>0.019403</td>\n",
              "      <td>0.314732</td>\n",
              "      <td>0.031112</td>\n",
              "      <td>...</td>\n",
              "      <td>0.146076</td>\n",
              "      <td>0.133324</td>\n",
              "      <td>0.090228</td>\n",
              "      <td>0.087201</td>\n",
              "      <td>0.047207</td>\n",
              "      <td>0.132565</td>\n",
              "      <td>0.069277</td>\n",
              "      <td>0.086988</td>\n",
              "      <td>0.122138</td>\n",
              "      <td>0.137808</td>\n",
              "      <td>0.140315</td>\n",
              "      <td>0.108812</td>\n",
              "      <td>0.098524</td>\n",
              "      <td>0.045862</td>\n",
              "      <td>0.154506</td>\n",
              "      <td>0.124193</td>\n",
              "      <td>0.142979</td>\n",
              "      <td>0.078858</td>\n",
              "      <td>0.096465</td>\n",
              "      <td>0.086381</td>\n",
              "      <td>0.101729</td>\n",
              "      <td>0.103286</td>\n",
              "      <td>0.061042</td>\n",
              "      <td>0.104644</td>\n",
              "      <td>0.074939</td>\n",
              "      <td>0.137620</td>\n",
              "      <td>0.202671</td>\n",
              "      <td>0.153179</td>\n",
              "      <td>0.086354</td>\n",
              "      <td>0.066262</td>\n",
              "      <td>0.101736</td>\n",
              "      <td>0.041504</td>\n",
              "      <td>0.156026</td>\n",
              "      <td>0.109238</td>\n",
              "      <td>0.086988</td>\n",
              "      <td>0.093506</td>\n",
              "      <td>0.122649</td>\n",
              "      <td>0.068923</td>\n",
              "      <td>0.085944</td>\n",
              "      <td>saudavel</td>\n",
              "    </tr>\n",
              "    <tr>\n",
              "      <th>1</th>\n",
              "      <td>0.316889</td>\n",
              "      <td>0.039180</td>\n",
              "      <td>0.262214</td>\n",
              "      <td>0.001534</td>\n",
              "      <td>0.316889</td>\n",
              "      <td>0.000584</td>\n",
              "      <td>0.040064</td>\n",
              "      <td>0.001168</td>\n",
              "      <td>0.089610</td>\n",
              "      <td>0.213278</td>\n",
              "      <td>0.004637</td>\n",
              "      <td>0.039349</td>\n",
              "      <td>0.005109</td>\n",
              "      <td>0.316889</td>\n",
              "      <td>0.001661</td>\n",
              "      <td>0.112174</td>\n",
              "      <td>0.002341</td>\n",
              "      <td>0.000951</td>\n",
              "      <td>0.277758</td>\n",
              "      <td>0.004390</td>\n",
              "      <td>0.215117</td>\n",
              "      <td>0.002659</td>\n",
              "      <td>0.316889</td>\n",
              "      <td>0.006021</td>\n",
              "      <td>0.004204</td>\n",
              "      <td>0.005629</td>\n",
              "      <td>0.026578</td>\n",
              "      <td>0.316889</td>\n",
              "      <td>0.056697</td>\n",
              "      <td>0.052129</td>\n",
              "      <td>0.004158</td>\n",
              "      <td>0.145439</td>\n",
              "      <td>0.000584</td>\n",
              "      <td>0.001292</td>\n",
              "      <td>0.003800</td>\n",
              "      <td>0.266803</td>\n",
              "      <td>0.017112</td>\n",
              "      <td>0.008982</td>\n",
              "      <td>0.012417</td>\n",
              "      <td>0.007588</td>\n",
              "      <td>...</td>\n",
              "      <td>0.090411</td>\n",
              "      <td>0.071396</td>\n",
              "      <td>0.085253</td>\n",
              "      <td>0.054717</td>\n",
              "      <td>0.031832</td>\n",
              "      <td>0.203406</td>\n",
              "      <td>0.123109</td>\n",
              "      <td>0.098858</td>\n",
              "      <td>0.047845</td>\n",
              "      <td>0.041852</td>\n",
              "      <td>0.073338</td>\n",
              "      <td>0.117847</td>\n",
              "      <td>0.115013</td>\n",
              "      <td>0.101043</td>\n",
              "      <td>0.137927</td>\n",
              "      <td>0.081101</td>\n",
              "      <td>0.088253</td>\n",
              "      <td>0.036646</td>\n",
              "      <td>0.066609</td>\n",
              "      <td>0.161889</td>\n",
              "      <td>0.183736</td>\n",
              "      <td>0.128251</td>\n",
              "      <td>0.094401</td>\n",
              "      <td>0.061836</td>\n",
              "      <td>0.040061</td>\n",
              "      <td>0.111292</td>\n",
              "      <td>0.203406</td>\n",
              "      <td>0.203406</td>\n",
              "      <td>0.155434</td>\n",
              "      <td>0.114222</td>\n",
              "      <td>0.044647</td>\n",
              "      <td>0.028262</td>\n",
              "      <td>0.120326</td>\n",
              "      <td>0.136476</td>\n",
              "      <td>0.172388</td>\n",
              "      <td>0.203406</td>\n",
              "      <td>0.184587</td>\n",
              "      <td>0.123080</td>\n",
              "      <td>0.081002</td>\n",
              "      <td>saudavel</td>\n",
              "    </tr>\n",
              "    <tr>\n",
              "      <th>2</th>\n",
              "      <td>0.000000</td>\n",
              "      <td>0.000000</td>\n",
              "      <td>0.000000</td>\n",
              "      <td>0.000000</td>\n",
              "      <td>0.000000</td>\n",
              "      <td>0.000000</td>\n",
              "      <td>0.000000</td>\n",
              "      <td>0.000000</td>\n",
              "      <td>0.000000</td>\n",
              "      <td>0.000000</td>\n",
              "      <td>0.000000</td>\n",
              "      <td>0.000000</td>\n",
              "      <td>0.000000</td>\n",
              "      <td>0.000000</td>\n",
              "      <td>0.000000</td>\n",
              "      <td>0.000000</td>\n",
              "      <td>0.000000</td>\n",
              "      <td>0.000000</td>\n",
              "      <td>0.185014</td>\n",
              "      <td>0.003896</td>\n",
              "      <td>0.257953</td>\n",
              "      <td>0.006161</td>\n",
              "      <td>0.315479</td>\n",
              "      <td>0.001553</td>\n",
              "      <td>0.000513</td>\n",
              "      <td>0.001217</td>\n",
              "      <td>0.142232</td>\n",
              "      <td>0.073824</td>\n",
              "      <td>0.000000</td>\n",
              "      <td>0.051818</td>\n",
              "      <td>0.000000</td>\n",
              "      <td>0.037003</td>\n",
              "      <td>0.000000</td>\n",
              "      <td>0.000000</td>\n",
              "      <td>0.000000</td>\n",
              "      <td>0.036112</td>\n",
              "      <td>0.262812</td>\n",
              "      <td>0.013849</td>\n",
              "      <td>0.315479</td>\n",
              "      <td>0.024700</td>\n",
              "      <td>...</td>\n",
              "      <td>0.111864</td>\n",
              "      <td>0.113102</td>\n",
              "      <td>0.094328</td>\n",
              "      <td>0.086962</td>\n",
              "      <td>0.050786</td>\n",
              "      <td>0.071486</td>\n",
              "      <td>0.079626</td>\n",
              "      <td>0.099285</td>\n",
              "      <td>0.122807</td>\n",
              "      <td>0.202443</td>\n",
              "      <td>0.128707</td>\n",
              "      <td>0.108763</td>\n",
              "      <td>0.057618</td>\n",
              "      <td>0.028743</td>\n",
              "      <td>0.125601</td>\n",
              "      <td>0.102858</td>\n",
              "      <td>0.165257</td>\n",
              "      <td>0.163974</td>\n",
              "      <td>0.149570</td>\n",
              "      <td>0.087166</td>\n",
              "      <td>0.068234</td>\n",
              "      <td>0.063974</td>\n",
              "      <td>0.018546</td>\n",
              "      <td>0.142835</td>\n",
              "      <td>0.158388</td>\n",
              "      <td>0.197943</td>\n",
              "      <td>0.153891</td>\n",
              "      <td>0.146233</td>\n",
              "      <td>0.072879</td>\n",
              "      <td>0.056760</td>\n",
              "      <td>0.024944</td>\n",
              "      <td>0.046227</td>\n",
              "      <td>0.081666</td>\n",
              "      <td>0.038705</td>\n",
              "      <td>0.068926</td>\n",
              "      <td>0.114883</td>\n",
              "      <td>0.120605</td>\n",
              "      <td>0.179409</td>\n",
              "      <td>0.131601</td>\n",
              "      <td>saudavel</td>\n",
              "    </tr>\n",
              "    <tr>\n",
              "      <th>3</th>\n",
              "      <td>0.000000</td>\n",
              "      <td>0.000000</td>\n",
              "      <td>0.000000</td>\n",
              "      <td>0.000000</td>\n",
              "      <td>0.000000</td>\n",
              "      <td>0.000000</td>\n",
              "      <td>0.000000</td>\n",
              "      <td>0.000000</td>\n",
              "      <td>0.000000</td>\n",
              "      <td>0.316360</td>\n",
              "      <td>0.013140</td>\n",
              "      <td>0.117198</td>\n",
              "      <td>0.002778</td>\n",
              "      <td>0.316360</td>\n",
              "      <td>0.005732</td>\n",
              "      <td>0.046832</td>\n",
              "      <td>0.007267</td>\n",
              "      <td>0.145050</td>\n",
              "      <td>0.316360</td>\n",
              "      <td>0.009877</td>\n",
              "      <td>0.011757</td>\n",
              "      <td>0.008154</td>\n",
              "      <td>0.198514</td>\n",
              "      <td>0.001533</td>\n",
              "      <td>0.138605</td>\n",
              "      <td>0.002694</td>\n",
              "      <td>0.099464</td>\n",
              "      <td>0.316360</td>\n",
              "      <td>0.015191</td>\n",
              "      <td>0.214889</td>\n",
              "      <td>0.000000</td>\n",
              "      <td>0.263742</td>\n",
              "      <td>0.000000</td>\n",
              "      <td>0.000370</td>\n",
              "      <td>0.000292</td>\n",
              "      <td>0.203861</td>\n",
              "      <td>0.094357</td>\n",
              "      <td>0.063834</td>\n",
              "      <td>0.063925</td>\n",
              "      <td>0.008233</td>\n",
              "      <td>...</td>\n",
              "      <td>0.014036</td>\n",
              "      <td>0.011479</td>\n",
              "      <td>0.025239</td>\n",
              "      <td>0.022912</td>\n",
              "      <td>0.030399</td>\n",
              "      <td>0.038368</td>\n",
              "      <td>0.020508</td>\n",
              "      <td>0.020901</td>\n",
              "      <td>0.018961</td>\n",
              "      <td>0.031440</td>\n",
              "      <td>0.029271</td>\n",
              "      <td>0.028302</td>\n",
              "      <td>0.005484</td>\n",
              "      <td>0.012349</td>\n",
              "      <td>0.399968</td>\n",
              "      <td>0.048465</td>\n",
              "      <td>0.251980</td>\n",
              "      <td>0.003482</td>\n",
              "      <td>0.399968</td>\n",
              "      <td>0.001976</td>\n",
              "      <td>0.002202</td>\n",
              "      <td>0.014590</td>\n",
              "      <td>0.399968</td>\n",
              "      <td>0.034228</td>\n",
              "      <td>0.021361</td>\n",
              "      <td>0.021772</td>\n",
              "      <td>0.012798</td>\n",
              "      <td>0.015593</td>\n",
              "      <td>0.009332</td>\n",
              "      <td>0.018083</td>\n",
              "      <td>0.026080</td>\n",
              "      <td>0.023018</td>\n",
              "      <td>0.032195</td>\n",
              "      <td>0.016865</td>\n",
              "      <td>0.017730</td>\n",
              "      <td>0.014381</td>\n",
              "      <td>0.019742</td>\n",
              "      <td>0.026395</td>\n",
              "      <td>0.029297</td>\n",
              "      <td>saudavel</td>\n",
              "    </tr>\n",
              "    <tr>\n",
              "      <th>4</th>\n",
              "      <td>0.000000</td>\n",
              "      <td>0.000000</td>\n",
              "      <td>0.000000</td>\n",
              "      <td>0.000000</td>\n",
              "      <td>0.000000</td>\n",
              "      <td>0.000000</td>\n",
              "      <td>0.000000</td>\n",
              "      <td>0.000000</td>\n",
              "      <td>0.000000</td>\n",
              "      <td>0.152908</td>\n",
              "      <td>0.000000</td>\n",
              "      <td>0.215465</td>\n",
              "      <td>0.003161</td>\n",
              "      <td>0.287968</td>\n",
              "      <td>0.001831</td>\n",
              "      <td>0.000578</td>\n",
              "      <td>0.000358</td>\n",
              "      <td>0.120893</td>\n",
              "      <td>0.130976</td>\n",
              "      <td>0.003212</td>\n",
              "      <td>0.188015</td>\n",
              "      <td>0.039719</td>\n",
              "      <td>0.287968</td>\n",
              "      <td>0.011977</td>\n",
              "      <td>0.002391</td>\n",
              "      <td>0.001295</td>\n",
              "      <td>0.128376</td>\n",
              "      <td>0.210309</td>\n",
              "      <td>0.002867</td>\n",
              "      <td>0.216298</td>\n",
              "      <td>0.004858</td>\n",
              "      <td>0.270723</td>\n",
              "      <td>0.000507</td>\n",
              "      <td>0.001156</td>\n",
              "      <td>0.000000</td>\n",
              "      <td>0.119746</td>\n",
              "      <td>0.191361</td>\n",
              "      <td>0.008523</td>\n",
              "      <td>0.228315</td>\n",
              "      <td>0.016380</td>\n",
              "      <td>...</td>\n",
              "      <td>0.093439</td>\n",
              "      <td>0.098360</td>\n",
              "      <td>0.118424</td>\n",
              "      <td>0.134970</td>\n",
              "      <td>0.076196</td>\n",
              "      <td>0.189470</td>\n",
              "      <td>0.092951</td>\n",
              "      <td>0.085093</td>\n",
              "      <td>0.067353</td>\n",
              "      <td>0.093555</td>\n",
              "      <td>0.054912</td>\n",
              "      <td>0.097596</td>\n",
              "      <td>0.089244</td>\n",
              "      <td>0.063504</td>\n",
              "      <td>0.149924</td>\n",
              "      <td>0.061650</td>\n",
              "      <td>0.114054</td>\n",
              "      <td>0.077076</td>\n",
              "      <td>0.106647</td>\n",
              "      <td>0.080607</td>\n",
              "      <td>0.087342</td>\n",
              "      <td>0.089779</td>\n",
              "      <td>0.090277</td>\n",
              "      <td>0.107384</td>\n",
              "      <td>0.109480</td>\n",
              "      <td>0.099495</td>\n",
              "      <td>0.161902</td>\n",
              "      <td>0.143575</td>\n",
              "      <td>0.143853</td>\n",
              "      <td>0.130303</td>\n",
              "      <td>0.084741</td>\n",
              "      <td>0.107632</td>\n",
              "      <td>0.148100</td>\n",
              "      <td>0.107016</td>\n",
              "      <td>0.137849</td>\n",
              "      <td>0.110751</td>\n",
              "      <td>0.113168</td>\n",
              "      <td>0.115931</td>\n",
              "      <td>0.085241</td>\n",
              "      <td>saudavel</td>\n",
              "    </tr>\n",
              "    <tr>\n",
              "      <th>...</th>\n",
              "      <td>...</td>\n",
              "      <td>...</td>\n",
              "      <td>...</td>\n",
              "      <td>...</td>\n",
              "      <td>...</td>\n",
              "      <td>...</td>\n",
              "      <td>...</td>\n",
              "      <td>...</td>\n",
              "      <td>...</td>\n",
              "      <td>...</td>\n",
              "      <td>...</td>\n",
              "      <td>...</td>\n",
              "      <td>...</td>\n",
              "      <td>...</td>\n",
              "      <td>...</td>\n",
              "      <td>...</td>\n",
              "      <td>...</td>\n",
              "      <td>...</td>\n",
              "      <td>...</td>\n",
              "      <td>...</td>\n",
              "      <td>...</td>\n",
              "      <td>...</td>\n",
              "      <td>...</td>\n",
              "      <td>...</td>\n",
              "      <td>...</td>\n",
              "      <td>...</td>\n",
              "      <td>...</td>\n",
              "      <td>...</td>\n",
              "      <td>...</td>\n",
              "      <td>...</td>\n",
              "      <td>...</td>\n",
              "      <td>...</td>\n",
              "      <td>...</td>\n",
              "      <td>...</td>\n",
              "      <td>...</td>\n",
              "      <td>...</td>\n",
              "      <td>...</td>\n",
              "      <td>...</td>\n",
              "      <td>...</td>\n",
              "      <td>...</td>\n",
              "      <td>...</td>\n",
              "      <td>...</td>\n",
              "      <td>...</td>\n",
              "      <td>...</td>\n",
              "      <td>...</td>\n",
              "      <td>...</td>\n",
              "      <td>...</td>\n",
              "      <td>...</td>\n",
              "      <td>...</td>\n",
              "      <td>...</td>\n",
              "      <td>...</td>\n",
              "      <td>...</td>\n",
              "      <td>...</td>\n",
              "      <td>...</td>\n",
              "      <td>...</td>\n",
              "      <td>...</td>\n",
              "      <td>...</td>\n",
              "      <td>...</td>\n",
              "      <td>...</td>\n",
              "      <td>...</td>\n",
              "      <td>...</td>\n",
              "      <td>...</td>\n",
              "      <td>...</td>\n",
              "      <td>...</td>\n",
              "      <td>...</td>\n",
              "      <td>...</td>\n",
              "      <td>...</td>\n",
              "      <td>...</td>\n",
              "      <td>...</td>\n",
              "      <td>...</td>\n",
              "      <td>...</td>\n",
              "      <td>...</td>\n",
              "      <td>...</td>\n",
              "      <td>...</td>\n",
              "      <td>...</td>\n",
              "      <td>...</td>\n",
              "      <td>...</td>\n",
              "      <td>...</td>\n",
              "      <td>...</td>\n",
              "      <td>...</td>\n",
              "      <td>...</td>\n",
              "    </tr>\n",
              "    <tr>\n",
              "      <th>26802</th>\n",
              "      <td>0.000000</td>\n",
              "      <td>0.000000</td>\n",
              "      <td>0.000000</td>\n",
              "      <td>0.000000</td>\n",
              "      <td>0.000000</td>\n",
              "      <td>0.000000</td>\n",
              "      <td>0.000000</td>\n",
              "      <td>0.000000</td>\n",
              "      <td>0.000000</td>\n",
              "      <td>0.178037</td>\n",
              "      <td>0.001229</td>\n",
              "      <td>0.219686</td>\n",
              "      <td>0.021664</td>\n",
              "      <td>0.304332</td>\n",
              "      <td>0.000000</td>\n",
              "      <td>0.000000</td>\n",
              "      <td>0.000000</td>\n",
              "      <td>0.089185</td>\n",
              "      <td>0.254865</td>\n",
              "      <td>0.027585</td>\n",
              "      <td>0.217052</td>\n",
              "      <td>0.106755</td>\n",
              "      <td>0.304332</td>\n",
              "      <td>0.006301</td>\n",
              "      <td>0.014972</td>\n",
              "      <td>0.015418</td>\n",
              "      <td>0.009899</td>\n",
              "      <td>0.304332</td>\n",
              "      <td>0.001097</td>\n",
              "      <td>0.121053</td>\n",
              "      <td>0.002382</td>\n",
              "      <td>0.141818</td>\n",
              "      <td>0.000000</td>\n",
              "      <td>0.000000</td>\n",
              "      <td>0.000000</td>\n",
              "      <td>0.174430</td>\n",
              "      <td>0.249785</td>\n",
              "      <td>0.018989</td>\n",
              "      <td>0.185865</td>\n",
              "      <td>0.120901</td>\n",
              "      <td>...</td>\n",
              "      <td>0.272864</td>\n",
              "      <td>0.201734</td>\n",
              "      <td>0.096802</td>\n",
              "      <td>0.059085</td>\n",
              "      <td>0.080443</td>\n",
              "      <td>0.101049</td>\n",
              "      <td>0.160214</td>\n",
              "      <td>0.069482</td>\n",
              "      <td>0.056363</td>\n",
              "      <td>0.069189</td>\n",
              "      <td>0.051717</td>\n",
              "      <td>0.057853</td>\n",
              "      <td>0.083779</td>\n",
              "      <td>0.073074</td>\n",
              "      <td>0.082612</td>\n",
              "      <td>0.035365</td>\n",
              "      <td>0.065692</td>\n",
              "      <td>0.059180</td>\n",
              "      <td>0.079745</td>\n",
              "      <td>0.051257</td>\n",
              "      <td>0.069674</td>\n",
              "      <td>0.040522</td>\n",
              "      <td>0.010324</td>\n",
              "      <td>0.069454</td>\n",
              "      <td>0.059210</td>\n",
              "      <td>0.081893</td>\n",
              "      <td>0.056647</td>\n",
              "      <td>0.068493</td>\n",
              "      <td>0.079289</td>\n",
              "      <td>0.100446</td>\n",
              "      <td>0.039075</td>\n",
              "      <td>0.028399</td>\n",
              "      <td>0.107198</td>\n",
              "      <td>0.056187</td>\n",
              "      <td>0.057131</td>\n",
              "      <td>0.049577</td>\n",
              "      <td>0.055339</td>\n",
              "      <td>0.041173</td>\n",
              "      <td>0.070878</td>\n",
              "      <td>doente</td>\n",
              "    </tr>\n",
              "    <tr>\n",
              "      <th>26803</th>\n",
              "      <td>0.038041</td>\n",
              "      <td>0.000000</td>\n",
              "      <td>0.053501</td>\n",
              "      <td>0.000000</td>\n",
              "      <td>0.038041</td>\n",
              "      <td>0.000000</td>\n",
              "      <td>0.000000</td>\n",
              "      <td>0.000000</td>\n",
              "      <td>0.000000</td>\n",
              "      <td>0.304957</td>\n",
              "      <td>0.014411</td>\n",
              "      <td>0.324099</td>\n",
              "      <td>0.015854</td>\n",
              "      <td>0.324099</td>\n",
              "      <td>0.005801</td>\n",
              "      <td>0.003433</td>\n",
              "      <td>0.000940</td>\n",
              "      <td>0.155901</td>\n",
              "      <td>0.248421</td>\n",
              "      <td>0.013937</td>\n",
              "      <td>0.205186</td>\n",
              "      <td>0.046053</td>\n",
              "      <td>0.220983</td>\n",
              "      <td>0.018496</td>\n",
              "      <td>0.007054</td>\n",
              "      <td>0.004911</td>\n",
              "      <td>0.119971</td>\n",
              "      <td>0.324099</td>\n",
              "      <td>0.020882</td>\n",
              "      <td>0.324099</td>\n",
              "      <td>0.020139</td>\n",
              "      <td>0.324099</td>\n",
              "      <td>0.005025</td>\n",
              "      <td>0.004161</td>\n",
              "      <td>0.006770</td>\n",
              "      <td>0.229000</td>\n",
              "      <td>0.019673</td>\n",
              "      <td>0.030775</td>\n",
              "      <td>0.036124</td>\n",
              "      <td>0.038238</td>\n",
              "      <td>...</td>\n",
              "      <td>0.026728</td>\n",
              "      <td>0.028562</td>\n",
              "      <td>0.018402</td>\n",
              "      <td>0.018929</td>\n",
              "      <td>0.009237</td>\n",
              "      <td>0.030450</td>\n",
              "      <td>0.017068</td>\n",
              "      <td>0.026106</td>\n",
              "      <td>0.030045</td>\n",
              "      <td>0.025876</td>\n",
              "      <td>0.047739</td>\n",
              "      <td>0.047535</td>\n",
              "      <td>0.030428</td>\n",
              "      <td>0.020469</td>\n",
              "      <td>0.345034</td>\n",
              "      <td>0.018388</td>\n",
              "      <td>0.007512</td>\n",
              "      <td>0.006202</td>\n",
              "      <td>0.345034</td>\n",
              "      <td>0.019689</td>\n",
              "      <td>0.210344</td>\n",
              "      <td>0.070635</td>\n",
              "      <td>0.201782</td>\n",
              "      <td>0.021618</td>\n",
              "      <td>0.011334</td>\n",
              "      <td>0.024895</td>\n",
              "      <td>0.019288</td>\n",
              "      <td>0.028179</td>\n",
              "      <td>0.025455</td>\n",
              "      <td>0.017971</td>\n",
              "      <td>0.015344</td>\n",
              "      <td>0.010349</td>\n",
              "      <td>0.037912</td>\n",
              "      <td>0.027804</td>\n",
              "      <td>0.043518</td>\n",
              "      <td>0.055233</td>\n",
              "      <td>0.050550</td>\n",
              "      <td>0.036836</td>\n",
              "      <td>0.041278</td>\n",
              "      <td>doente</td>\n",
              "    </tr>\n",
              "    <tr>\n",
              "      <th>26804</th>\n",
              "      <td>0.217576</td>\n",
              "      <td>0.000971</td>\n",
              "      <td>0.257891</td>\n",
              "      <td>0.000000</td>\n",
              "      <td>0.315685</td>\n",
              "      <td>0.001229</td>\n",
              "      <td>0.000549</td>\n",
              "      <td>0.001747</td>\n",
              "      <td>0.112403</td>\n",
              "      <td>0.229194</td>\n",
              "      <td>0.018582</td>\n",
              "      <td>0.233841</td>\n",
              "      <td>0.027712</td>\n",
              "      <td>0.315685</td>\n",
              "      <td>0.011296</td>\n",
              "      <td>0.007590</td>\n",
              "      <td>0.003755</td>\n",
              "      <td>0.074329</td>\n",
              "      <td>0.162025</td>\n",
              "      <td>0.009699</td>\n",
              "      <td>0.078497</td>\n",
              "      <td>0.040016</td>\n",
              "      <td>0.291537</td>\n",
              "      <td>0.020144</td>\n",
              "      <td>0.012992</td>\n",
              "      <td>0.006379</td>\n",
              "      <td>0.040593</td>\n",
              "      <td>0.315685</td>\n",
              "      <td>0.039480</td>\n",
              "      <td>0.225544</td>\n",
              "      <td>0.014443</td>\n",
              "      <td>0.289136</td>\n",
              "      <td>0.005556</td>\n",
              "      <td>0.007349</td>\n",
              "      <td>0.007398</td>\n",
              "      <td>0.300560</td>\n",
              "      <td>0.030398</td>\n",
              "      <td>0.011701</td>\n",
              "      <td>0.021857</td>\n",
              "      <td>0.016031</td>\n",
              "      <td>...</td>\n",
              "      <td>0.081202</td>\n",
              "      <td>0.122481</td>\n",
              "      <td>0.087223</td>\n",
              "      <td>0.065109</td>\n",
              "      <td>0.018976</td>\n",
              "      <td>0.054698</td>\n",
              "      <td>0.027475</td>\n",
              "      <td>0.019471</td>\n",
              "      <td>0.037945</td>\n",
              "      <td>0.029640</td>\n",
              "      <td>0.041139</td>\n",
              "      <td>0.061110</td>\n",
              "      <td>0.061438</td>\n",
              "      <td>0.041421</td>\n",
              "      <td>0.085240</td>\n",
              "      <td>0.080849</td>\n",
              "      <td>0.220341</td>\n",
              "      <td>0.111465</td>\n",
              "      <td>0.034704</td>\n",
              "      <td>0.031426</td>\n",
              "      <td>0.016971</td>\n",
              "      <td>0.032953</td>\n",
              "      <td>0.024387</td>\n",
              "      <td>0.079979</td>\n",
              "      <td>0.057349</td>\n",
              "      <td>0.074157</td>\n",
              "      <td>0.158792</td>\n",
              "      <td>0.166999</td>\n",
              "      <td>0.127230</td>\n",
              "      <td>0.121339</td>\n",
              "      <td>0.076285</td>\n",
              "      <td>0.032142</td>\n",
              "      <td>0.081406</td>\n",
              "      <td>0.058243</td>\n",
              "      <td>0.068840</td>\n",
              "      <td>0.037020</td>\n",
              "      <td>0.028672</td>\n",
              "      <td>0.043237</td>\n",
              "      <td>0.057674</td>\n",
              "      <td>doente</td>\n",
              "    </tr>\n",
              "    <tr>\n",
              "      <th>26805</th>\n",
              "      <td>0.000000</td>\n",
              "      <td>0.000000</td>\n",
              "      <td>0.000000</td>\n",
              "      <td>0.000000</td>\n",
              "      <td>0.000000</td>\n",
              "      <td>0.000000</td>\n",
              "      <td>0.000000</td>\n",
              "      <td>0.000000</td>\n",
              "      <td>0.000000</td>\n",
              "      <td>0.218375</td>\n",
              "      <td>0.004541</td>\n",
              "      <td>0.223816</td>\n",
              "      <td>0.004284</td>\n",
              "      <td>0.302762</td>\n",
              "      <td>0.000000</td>\n",
              "      <td>0.000000</td>\n",
              "      <td>0.003215</td>\n",
              "      <td>0.065955</td>\n",
              "      <td>0.226740</td>\n",
              "      <td>0.004770</td>\n",
              "      <td>0.231663</td>\n",
              "      <td>0.033835</td>\n",
              "      <td>0.302762</td>\n",
              "      <td>0.022539</td>\n",
              "      <td>0.012782</td>\n",
              "      <td>0.009544</td>\n",
              "      <td>0.096734</td>\n",
              "      <td>0.302762</td>\n",
              "      <td>0.015993</td>\n",
              "      <td>0.222718</td>\n",
              "      <td>0.011361</td>\n",
              "      <td>0.302762</td>\n",
              "      <td>0.005127</td>\n",
              "      <td>0.001850</td>\n",
              "      <td>0.009520</td>\n",
              "      <td>0.188106</td>\n",
              "      <td>0.092157</td>\n",
              "      <td>0.032036</td>\n",
              "      <td>0.082164</td>\n",
              "      <td>0.023198</td>\n",
              "      <td>...</td>\n",
              "      <td>0.126944</td>\n",
              "      <td>0.111831</td>\n",
              "      <td>0.107528</td>\n",
              "      <td>0.068674</td>\n",
              "      <td>0.033369</td>\n",
              "      <td>0.147736</td>\n",
              "      <td>0.144432</td>\n",
              "      <td>0.141502</td>\n",
              "      <td>0.172156</td>\n",
              "      <td>0.186088</td>\n",
              "      <td>0.162093</td>\n",
              "      <td>0.055500</td>\n",
              "      <td>0.108247</td>\n",
              "      <td>0.052136</td>\n",
              "      <td>0.132258</td>\n",
              "      <td>0.089901</td>\n",
              "      <td>0.104027</td>\n",
              "      <td>0.075224</td>\n",
              "      <td>0.065497</td>\n",
              "      <td>0.054591</td>\n",
              "      <td>0.100686</td>\n",
              "      <td>0.123511</td>\n",
              "      <td>0.035474</td>\n",
              "      <td>0.133373</td>\n",
              "      <td>0.083682</td>\n",
              "      <td>0.085838</td>\n",
              "      <td>0.076728</td>\n",
              "      <td>0.137666</td>\n",
              "      <td>0.166096</td>\n",
              "      <td>0.097028</td>\n",
              "      <td>0.080112</td>\n",
              "      <td>0.064697</td>\n",
              "      <td>0.208176</td>\n",
              "      <td>0.122108</td>\n",
              "      <td>0.141591</td>\n",
              "      <td>0.153943</td>\n",
              "      <td>0.111035</td>\n",
              "      <td>0.088982</td>\n",
              "      <td>0.146315</td>\n",
              "      <td>doente</td>\n",
              "    </tr>\n",
              "    <tr>\n",
              "      <th>26806</th>\n",
              "      <td>0.259392</td>\n",
              "      <td>0.011467</td>\n",
              "      <td>0.157129</td>\n",
              "      <td>0.006395</td>\n",
              "      <td>0.259392</td>\n",
              "      <td>0.009726</td>\n",
              "      <td>0.056934</td>\n",
              "      <td>0.080208</td>\n",
              "      <td>0.193528</td>\n",
              "      <td>0.223453</td>\n",
              "      <td>0.004714</td>\n",
              "      <td>0.030091</td>\n",
              "      <td>0.004175</td>\n",
              "      <td>0.259392</td>\n",
              "      <td>0.059076</td>\n",
              "      <td>0.230377</td>\n",
              "      <td>0.055682</td>\n",
              "      <td>0.100798</td>\n",
              "      <td>0.161916</td>\n",
              "      <td>0.000000</td>\n",
              "      <td>0.000000</td>\n",
              "      <td>0.000232</td>\n",
              "      <td>0.059990</td>\n",
              "      <td>0.002091</td>\n",
              "      <td>0.028857</td>\n",
              "      <td>0.000374</td>\n",
              "      <td>0.101519</td>\n",
              "      <td>0.259392</td>\n",
              "      <td>0.036029</td>\n",
              "      <td>0.026931</td>\n",
              "      <td>0.042296</td>\n",
              "      <td>0.256513</td>\n",
              "      <td>0.045530</td>\n",
              "      <td>0.168303</td>\n",
              "      <td>0.026349</td>\n",
              "      <td>0.206402</td>\n",
              "      <td>0.020413</td>\n",
              "      <td>0.030031</td>\n",
              "      <td>0.028524</td>\n",
              "      <td>0.031542</td>\n",
              "      <td>...</td>\n",
              "      <td>0.025291</td>\n",
              "      <td>0.021376</td>\n",
              "      <td>0.017298</td>\n",
              "      <td>0.021739</td>\n",
              "      <td>0.020399</td>\n",
              "      <td>0.031409</td>\n",
              "      <td>0.028143</td>\n",
              "      <td>0.032733</td>\n",
              "      <td>0.028938</td>\n",
              "      <td>0.033073</td>\n",
              "      <td>0.030870</td>\n",
              "      <td>0.019768</td>\n",
              "      <td>0.017479</td>\n",
              "      <td>0.007665</td>\n",
              "      <td>0.411365</td>\n",
              "      <td>0.046503</td>\n",
              "      <td>0.022579</td>\n",
              "      <td>0.010919</td>\n",
              "      <td>0.005811</td>\n",
              "      <td>0.013999</td>\n",
              "      <td>0.035904</td>\n",
              "      <td>0.044936</td>\n",
              "      <td>0.290970</td>\n",
              "      <td>0.029448</td>\n",
              "      <td>0.015326</td>\n",
              "      <td>0.022634</td>\n",
              "      <td>0.017035</td>\n",
              "      <td>0.015634</td>\n",
              "      <td>0.023904</td>\n",
              "      <td>0.025812</td>\n",
              "      <td>0.017660</td>\n",
              "      <td>0.013123</td>\n",
              "      <td>0.027594</td>\n",
              "      <td>0.025386</td>\n",
              "      <td>0.020472</td>\n",
              "      <td>0.029724</td>\n",
              "      <td>0.029558</td>\n",
              "      <td>0.023953</td>\n",
              "      <td>0.022918</td>\n",
              "      <td>doente</td>\n",
              "    </tr>\n",
              "  </tbody>\n",
              "</table>\n",
              "<p>26807 rows × 1025 columns</p>\n",
              "</div>\n",
              "      <button class=\"colab-df-convert\" onclick=\"convertToInteractive('df-e55c6af4-b93d-4906-a5bd-b48939b0271b')\"\n",
              "              title=\"Convert this dataframe to an interactive table.\"\n",
              "              style=\"display:none;\">\n",
              "        \n",
              "  <svg xmlns=\"http://www.w3.org/2000/svg\" height=\"24px\"viewBox=\"0 0 24 24\"\n",
              "       width=\"24px\">\n",
              "    <path d=\"M0 0h24v24H0V0z\" fill=\"none\"/>\n",
              "    <path d=\"M18.56 5.44l.94 2.06.94-2.06 2.06-.94-2.06-.94-.94-2.06-.94 2.06-2.06.94zm-11 1L8.5 8.5l.94-2.06 2.06-.94-2.06-.94L8.5 2.5l-.94 2.06-2.06.94zm10 10l.94 2.06.94-2.06 2.06-.94-2.06-.94-.94-2.06-.94 2.06-2.06.94z\"/><path d=\"M17.41 7.96l-1.37-1.37c-.4-.4-.92-.59-1.43-.59-.52 0-1.04.2-1.43.59L10.3 9.45l-7.72 7.72c-.78.78-.78 2.05 0 2.83L4 21.41c.39.39.9.59 1.41.59.51 0 1.02-.2 1.41-.59l7.78-7.78 2.81-2.81c.8-.78.8-2.07 0-2.86zM5.41 20L4 18.59l7.72-7.72 1.47 1.35L5.41 20z\"/>\n",
              "  </svg>\n",
              "      </button>\n",
              "      \n",
              "  <style>\n",
              "    .colab-df-container {\n",
              "      display:flex;\n",
              "      flex-wrap:wrap;\n",
              "      gap: 12px;\n",
              "    }\n",
              "\n",
              "    .colab-df-convert {\n",
              "      background-color: #E8F0FE;\n",
              "      border: none;\n",
              "      border-radius: 50%;\n",
              "      cursor: pointer;\n",
              "      display: none;\n",
              "      fill: #1967D2;\n",
              "      height: 32px;\n",
              "      padding: 0 0 0 0;\n",
              "      width: 32px;\n",
              "    }\n",
              "\n",
              "    .colab-df-convert:hover {\n",
              "      background-color: #E2EBFA;\n",
              "      box-shadow: 0px 1px 2px rgba(60, 64, 67, 0.3), 0px 1px 3px 1px rgba(60, 64, 67, 0.15);\n",
              "      fill: #174EA6;\n",
              "    }\n",
              "\n",
              "    [theme=dark] .colab-df-convert {\n",
              "      background-color: #3B4455;\n",
              "      fill: #D2E3FC;\n",
              "    }\n",
              "\n",
              "    [theme=dark] .colab-df-convert:hover {\n",
              "      background-color: #434B5C;\n",
              "      box-shadow: 0px 1px 3px 1px rgba(0, 0, 0, 0.15);\n",
              "      filter: drop-shadow(0px 1px 2px rgba(0, 0, 0, 0.3));\n",
              "      fill: #FFFFFF;\n",
              "    }\n",
              "  </style>\n",
              "\n",
              "      <script>\n",
              "        const buttonEl =\n",
              "          document.querySelector('#df-e55c6af4-b93d-4906-a5bd-b48939b0271b button.colab-df-convert');\n",
              "        buttonEl.style.display =\n",
              "          google.colab.kernel.accessAllowed ? 'block' : 'none';\n",
              "\n",
              "        async function convertToInteractive(key) {\n",
              "          const element = document.querySelector('#df-e55c6af4-b93d-4906-a5bd-b48939b0271b');\n",
              "          const dataTable =\n",
              "            await google.colab.kernel.invokeFunction('convertToInteractive',\n",
              "                                                     [key], {});\n",
              "          if (!dataTable) return;\n",
              "\n",
              "          const docLinkHtml = 'Like what you see? Visit the ' +\n",
              "            '<a target=\"_blank\" href=https://colab.research.google.com/notebooks/data_table.ipynb>data table notebook</a>'\n",
              "            + ' to learn more about interactive tables.';\n",
              "          element.innerHTML = '';\n",
              "          dataTable['output_type'] = 'display_data';\n",
              "          await google.colab.output.renderOutput(dataTable, element);\n",
              "          const docLink = document.createElement('div');\n",
              "          docLink.innerHTML = docLinkHtml;\n",
              "          element.appendChild(docLink);\n",
              "        }\n",
              "      </script>\n",
              "    </div>\n",
              "  </div>\n",
              "  "
            ],
            "text/plain": [
              "              0         1         2  ...      1022      1023    classe\n",
              "0      0.000000  0.000000  0.000000  ...  0.068923  0.085944  saudavel\n",
              "1      0.316889  0.039180  0.262214  ...  0.123080  0.081002  saudavel\n",
              "2      0.000000  0.000000  0.000000  ...  0.179409  0.131601  saudavel\n",
              "3      0.000000  0.000000  0.000000  ...  0.026395  0.029297  saudavel\n",
              "4      0.000000  0.000000  0.000000  ...  0.115931  0.085241  saudavel\n",
              "...         ...       ...       ...  ...       ...       ...       ...\n",
              "26802  0.000000  0.000000  0.000000  ...  0.041173  0.070878    doente\n",
              "26803  0.038041  0.000000  0.053501  ...  0.036836  0.041278    doente\n",
              "26804  0.217576  0.000971  0.257891  ...  0.043237  0.057674    doente\n",
              "26805  0.000000  0.000000  0.000000  ...  0.088982  0.146315    doente\n",
              "26806  0.259392  0.011467  0.157129  ...  0.023953  0.022918    doente\n",
              "\n",
              "[26807 rows x 1025 columns]"
            ]
          },
          "metadata": {},
          "execution_count": 4
        }
      ]
    },
    {
      "cell_type": "code",
      "metadata": {
        "colab": {
          "base_uri": "https://localhost:8080/",
          "height": 487
        },
        "id": "3VLjdEcGpgBi",
        "outputId": "217c027e-79de-4b38-97be-1779483b3b1d"
      },
      "source": [
        "base_completa_70 = pd.read_csv(folder+'base_completa_70.csv')\n",
        "base_completa_70"
      ],
      "execution_count": null,
      "outputs": [
        {
          "output_type": "execute_result",
          "data": {
            "text/html": [
              "\n",
              "  <div id=\"df-c5038bde-410b-4fc5-b103-c2583e4629bb\">\n",
              "    <div class=\"colab-df-container\">\n",
              "      <div>\n",
              "<style scoped>\n",
              "    .dataframe tbody tr th:only-of-type {\n",
              "        vertical-align: middle;\n",
              "    }\n",
              "\n",
              "    .dataframe tbody tr th {\n",
              "        vertical-align: top;\n",
              "    }\n",
              "\n",
              "    .dataframe thead th {\n",
              "        text-align: right;\n",
              "    }\n",
              "</style>\n",
              "<table border=\"1\" class=\"dataframe\">\n",
              "  <thead>\n",
              "    <tr style=\"text-align: right;\">\n",
              "      <th></th>\n",
              "      <th>0</th>\n",
              "      <th>1</th>\n",
              "      <th>2</th>\n",
              "      <th>3</th>\n",
              "      <th>4</th>\n",
              "      <th>5</th>\n",
              "      <th>6</th>\n",
              "      <th>7</th>\n",
              "      <th>8</th>\n",
              "      <th>9</th>\n",
              "      <th>10</th>\n",
              "      <th>11</th>\n",
              "      <th>12</th>\n",
              "      <th>13</th>\n",
              "      <th>14</th>\n",
              "      <th>15</th>\n",
              "      <th>16</th>\n",
              "      <th>17</th>\n",
              "      <th>18</th>\n",
              "      <th>19</th>\n",
              "      <th>20</th>\n",
              "      <th>21</th>\n",
              "      <th>22</th>\n",
              "      <th>23</th>\n",
              "      <th>24</th>\n",
              "      <th>25</th>\n",
              "      <th>26</th>\n",
              "      <th>27</th>\n",
              "      <th>28</th>\n",
              "      <th>29</th>\n",
              "      <th>30</th>\n",
              "      <th>31</th>\n",
              "      <th>32</th>\n",
              "      <th>33</th>\n",
              "      <th>34</th>\n",
              "      <th>35</th>\n",
              "      <th>36</th>\n",
              "      <th>37</th>\n",
              "      <th>38</th>\n",
              "      <th>39</th>\n",
              "      <th>...</th>\n",
              "      <th>677</th>\n",
              "      <th>678</th>\n",
              "      <th>679</th>\n",
              "      <th>680</th>\n",
              "      <th>681</th>\n",
              "      <th>682</th>\n",
              "      <th>683</th>\n",
              "      <th>684</th>\n",
              "      <th>685</th>\n",
              "      <th>686</th>\n",
              "      <th>687</th>\n",
              "      <th>688</th>\n",
              "      <th>689</th>\n",
              "      <th>690</th>\n",
              "      <th>691</th>\n",
              "      <th>692</th>\n",
              "      <th>693</th>\n",
              "      <th>694</th>\n",
              "      <th>695</th>\n",
              "      <th>696</th>\n",
              "      <th>697</th>\n",
              "      <th>698</th>\n",
              "      <th>699</th>\n",
              "      <th>700</th>\n",
              "      <th>701</th>\n",
              "      <th>702</th>\n",
              "      <th>703</th>\n",
              "      <th>704</th>\n",
              "      <th>705</th>\n",
              "      <th>706</th>\n",
              "      <th>707</th>\n",
              "      <th>708</th>\n",
              "      <th>709</th>\n",
              "      <th>710</th>\n",
              "      <th>711</th>\n",
              "      <th>712</th>\n",
              "      <th>713</th>\n",
              "      <th>714</th>\n",
              "      <th>715</th>\n",
              "      <th>classe</th>\n",
              "    </tr>\n",
              "  </thead>\n",
              "  <tbody>\n",
              "    <tr>\n",
              "      <th>0</th>\n",
              "      <td>-0.800885</td>\n",
              "      <td>-0.127907</td>\n",
              "      <td>-1.118607</td>\n",
              "      <td>0.422056</td>\n",
              "      <td>-0.365478</td>\n",
              "      <td>-0.208737</td>\n",
              "      <td>0.129566</td>\n",
              "      <td>-0.310453</td>\n",
              "      <td>0.358002</td>\n",
              "      <td>-0.042962</td>\n",
              "      <td>0.173443</td>\n",
              "      <td>-0.231428</td>\n",
              "      <td>-0.000463</td>\n",
              "      <td>0.194073</td>\n",
              "      <td>-0.220572</td>\n",
              "      <td>0.012254</td>\n",
              "      <td>-0.234384</td>\n",
              "      <td>-0.075511</td>\n",
              "      <td>0.041671</td>\n",
              "      <td>0.320505</td>\n",
              "      <td>0.255771</td>\n",
              "      <td>-0.271065</td>\n",
              "      <td>0.174298</td>\n",
              "      <td>-0.000985</td>\n",
              "      <td>0.188685</td>\n",
              "      <td>0.302891</td>\n",
              "      <td>0.193370</td>\n",
              "      <td>-0.036782</td>\n",
              "      <td>0.268544</td>\n",
              "      <td>0.027711</td>\n",
              "      <td>-0.198368</td>\n",
              "      <td>-0.095536</td>\n",
              "      <td>0.122313</td>\n",
              "      <td>-0.189418</td>\n",
              "      <td>-0.184514</td>\n",
              "      <td>-0.148880</td>\n",
              "      <td>-0.000188</td>\n",
              "      <td>-0.317677</td>\n",
              "      <td>0.120288</td>\n",
              "      <td>0.030816</td>\n",
              "      <td>...</td>\n",
              "      <td>0.007852</td>\n",
              "      <td>-0.009479</td>\n",
              "      <td>-0.005073</td>\n",
              "      <td>-0.004226</td>\n",
              "      <td>-0.007470</td>\n",
              "      <td>-0.005955</td>\n",
              "      <td>-0.008642</td>\n",
              "      <td>0.002957</td>\n",
              "      <td>0.008175</td>\n",
              "      <td>-0.009283</td>\n",
              "      <td>-0.006036</td>\n",
              "      <td>0.013179</td>\n",
              "      <td>-0.003643</td>\n",
              "      <td>0.001082</td>\n",
              "      <td>-0.004367</td>\n",
              "      <td>0.007550</td>\n",
              "      <td>0.012257</td>\n",
              "      <td>0.003412</td>\n",
              "      <td>0.006321</td>\n",
              "      <td>-0.001435</td>\n",
              "      <td>0.008295</td>\n",
              "      <td>0.020641</td>\n",
              "      <td>-0.002863</td>\n",
              "      <td>-0.008304</td>\n",
              "      <td>-0.008172</td>\n",
              "      <td>0.000940</td>\n",
              "      <td>0.001436</td>\n",
              "      <td>-0.006777</td>\n",
              "      <td>0.005721</td>\n",
              "      <td>0.002654</td>\n",
              "      <td>0.002460</td>\n",
              "      <td>-0.013347</td>\n",
              "      <td>-0.002865</td>\n",
              "      <td>0.006477</td>\n",
              "      <td>-0.004337</td>\n",
              "      <td>0.001858</td>\n",
              "      <td>0.004577</td>\n",
              "      <td>-0.002081</td>\n",
              "      <td>0.002014</td>\n",
              "      <td>saudavel</td>\n",
              "    </tr>\n",
              "    <tr>\n",
              "      <th>1</th>\n",
              "      <td>-1.112906</td>\n",
              "      <td>-0.078094</td>\n",
              "      <td>-0.048163</td>\n",
              "      <td>-0.137572</td>\n",
              "      <td>0.095455</td>\n",
              "      <td>0.129049</td>\n",
              "      <td>-0.029178</td>\n",
              "      <td>0.466757</td>\n",
              "      <td>0.138500</td>\n",
              "      <td>0.255023</td>\n",
              "      <td>-0.026237</td>\n",
              "      <td>-0.300597</td>\n",
              "      <td>0.133010</td>\n",
              "      <td>0.521153</td>\n",
              "      <td>0.023661</td>\n",
              "      <td>0.090049</td>\n",
              "      <td>0.071127</td>\n",
              "      <td>0.220778</td>\n",
              "      <td>0.265234</td>\n",
              "      <td>-0.259593</td>\n",
              "      <td>0.088190</td>\n",
              "      <td>-0.047439</td>\n",
              "      <td>0.334684</td>\n",
              "      <td>-0.037246</td>\n",
              "      <td>-0.288488</td>\n",
              "      <td>0.054391</td>\n",
              "      <td>-0.096987</td>\n",
              "      <td>0.014165</td>\n",
              "      <td>-0.063869</td>\n",
              "      <td>-0.037097</td>\n",
              "      <td>-0.017460</td>\n",
              "      <td>0.074921</td>\n",
              "      <td>0.067817</td>\n",
              "      <td>-0.235245</td>\n",
              "      <td>-0.161142</td>\n",
              "      <td>-0.342905</td>\n",
              "      <td>-0.221833</td>\n",
              "      <td>-0.084279</td>\n",
              "      <td>-0.221703</td>\n",
              "      <td>0.231133</td>\n",
              "      <td>...</td>\n",
              "      <td>-0.001184</td>\n",
              "      <td>0.000323</td>\n",
              "      <td>-0.008222</td>\n",
              "      <td>0.009469</td>\n",
              "      <td>0.006580</td>\n",
              "      <td>0.007858</td>\n",
              "      <td>0.006299</td>\n",
              "      <td>0.009894</td>\n",
              "      <td>0.005567</td>\n",
              "      <td>0.003251</td>\n",
              "      <td>-0.011716</td>\n",
              "      <td>0.000318</td>\n",
              "      <td>-0.009540</td>\n",
              "      <td>-0.000974</td>\n",
              "      <td>0.019546</td>\n",
              "      <td>-0.019471</td>\n",
              "      <td>-0.010538</td>\n",
              "      <td>-0.014581</td>\n",
              "      <td>0.015004</td>\n",
              "      <td>0.000374</td>\n",
              "      <td>-0.007678</td>\n",
              "      <td>0.007982</td>\n",
              "      <td>0.003885</td>\n",
              "      <td>-0.004396</td>\n",
              "      <td>0.015076</td>\n",
              "      <td>0.001312</td>\n",
              "      <td>-0.001221</td>\n",
              "      <td>0.013760</td>\n",
              "      <td>0.012756</td>\n",
              "      <td>-0.019873</td>\n",
              "      <td>-0.006056</td>\n",
              "      <td>-0.012862</td>\n",
              "      <td>-0.009802</td>\n",
              "      <td>0.002002</td>\n",
              "      <td>-0.006657</td>\n",
              "      <td>0.002530</td>\n",
              "      <td>-0.018399</td>\n",
              "      <td>0.003519</td>\n",
              "      <td>0.005106</td>\n",
              "      <td>saudavel</td>\n",
              "    </tr>\n",
              "    <tr>\n",
              "      <th>2</th>\n",
              "      <td>-0.418159</td>\n",
              "      <td>0.041575</td>\n",
              "      <td>-1.193468</td>\n",
              "      <td>0.405295</td>\n",
              "      <td>-0.449510</td>\n",
              "      <td>0.026221</td>\n",
              "      <td>-0.276051</td>\n",
              "      <td>-0.150121</td>\n",
              "      <td>0.077471</td>\n",
              "      <td>0.293131</td>\n",
              "      <td>-0.092016</td>\n",
              "      <td>0.122888</td>\n",
              "      <td>-0.018685</td>\n",
              "      <td>0.044825</td>\n",
              "      <td>-0.112340</td>\n",
              "      <td>-0.127425</td>\n",
              "      <td>0.132226</td>\n",
              "      <td>0.104224</td>\n",
              "      <td>-0.118805</td>\n",
              "      <td>-0.070402</td>\n",
              "      <td>0.300349</td>\n",
              "      <td>-0.037330</td>\n",
              "      <td>0.135835</td>\n",
              "      <td>-0.067648</td>\n",
              "      <td>0.019539</td>\n",
              "      <td>-0.113150</td>\n",
              "      <td>0.276852</td>\n",
              "      <td>0.127149</td>\n",
              "      <td>0.145240</td>\n",
              "      <td>0.347202</td>\n",
              "      <td>0.013719</td>\n",
              "      <td>0.081960</td>\n",
              "      <td>-0.127205</td>\n",
              "      <td>-0.130342</td>\n",
              "      <td>0.178104</td>\n",
              "      <td>0.032593</td>\n",
              "      <td>0.060501</td>\n",
              "      <td>0.023976</td>\n",
              "      <td>0.024796</td>\n",
              "      <td>0.049120</td>\n",
              "      <td>...</td>\n",
              "      <td>0.009332</td>\n",
              "      <td>-0.016126</td>\n",
              "      <td>0.009402</td>\n",
              "      <td>0.003834</td>\n",
              "      <td>-0.004227</td>\n",
              "      <td>-0.005203</td>\n",
              "      <td>-0.001277</td>\n",
              "      <td>-0.013539</td>\n",
              "      <td>-0.007732</td>\n",
              "      <td>-0.003470</td>\n",
              "      <td>-0.006970</td>\n",
              "      <td>-0.015265</td>\n",
              "      <td>0.014482</td>\n",
              "      <td>-0.001896</td>\n",
              "      <td>-0.004595</td>\n",
              "      <td>-0.006629</td>\n",
              "      <td>-0.001353</td>\n",
              "      <td>0.001915</td>\n",
              "      <td>-0.007490</td>\n",
              "      <td>0.001477</td>\n",
              "      <td>0.014130</td>\n",
              "      <td>-0.001569</td>\n",
              "      <td>-0.011537</td>\n",
              "      <td>0.009111</td>\n",
              "      <td>0.002241</td>\n",
              "      <td>0.006390</td>\n",
              "      <td>0.006087</td>\n",
              "      <td>-0.004337</td>\n",
              "      <td>-0.003542</td>\n",
              "      <td>-0.003534</td>\n",
              "      <td>-0.002897</td>\n",
              "      <td>0.000970</td>\n",
              "      <td>-0.011391</td>\n",
              "      <td>-0.005102</td>\n",
              "      <td>-0.006089</td>\n",
              "      <td>0.009196</td>\n",
              "      <td>0.011392</td>\n",
              "      <td>-0.013367</td>\n",
              "      <td>-0.006569</td>\n",
              "      <td>saudavel</td>\n",
              "    </tr>\n",
              "    <tr>\n",
              "      <th>3</th>\n",
              "      <td>-0.168842</td>\n",
              "      <td>0.574866</td>\n",
              "      <td>1.096359</td>\n",
              "      <td>0.803030</td>\n",
              "      <td>-0.519264</td>\n",
              "      <td>-0.129436</td>\n",
              "      <td>0.769318</td>\n",
              "      <td>-0.109301</td>\n",
              "      <td>0.717793</td>\n",
              "      <td>-0.078790</td>\n",
              "      <td>-0.099115</td>\n",
              "      <td>-0.925692</td>\n",
              "      <td>-0.666286</td>\n",
              "      <td>-0.721502</td>\n",
              "      <td>0.971760</td>\n",
              "      <td>0.121315</td>\n",
              "      <td>-0.387605</td>\n",
              "      <td>0.173022</td>\n",
              "      <td>0.005397</td>\n",
              "      <td>-0.195056</td>\n",
              "      <td>0.464039</td>\n",
              "      <td>-0.088956</td>\n",
              "      <td>0.210982</td>\n",
              "      <td>0.428115</td>\n",
              "      <td>-0.060904</td>\n",
              "      <td>0.489225</td>\n",
              "      <td>0.018359</td>\n",
              "      <td>-0.094973</td>\n",
              "      <td>0.033091</td>\n",
              "      <td>-0.154219</td>\n",
              "      <td>-0.243100</td>\n",
              "      <td>-0.032042</td>\n",
              "      <td>-0.422947</td>\n",
              "      <td>0.108663</td>\n",
              "      <td>0.209496</td>\n",
              "      <td>-0.007313</td>\n",
              "      <td>-0.171701</td>\n",
              "      <td>0.246695</td>\n",
              "      <td>-0.202437</td>\n",
              "      <td>0.024496</td>\n",
              "      <td>...</td>\n",
              "      <td>-0.007476</td>\n",
              "      <td>-0.005654</td>\n",
              "      <td>0.009747</td>\n",
              "      <td>-0.003630</td>\n",
              "      <td>0.012714</td>\n",
              "      <td>-0.008306</td>\n",
              "      <td>0.014057</td>\n",
              "      <td>-0.004556</td>\n",
              "      <td>0.004501</td>\n",
              "      <td>-0.000358</td>\n",
              "      <td>-0.006277</td>\n",
              "      <td>-0.012057</td>\n",
              "      <td>-0.002738</td>\n",
              "      <td>-0.000895</td>\n",
              "      <td>0.009415</td>\n",
              "      <td>0.005918</td>\n",
              "      <td>0.004220</td>\n",
              "      <td>0.005725</td>\n",
              "      <td>0.001449</td>\n",
              "      <td>0.002228</td>\n",
              "      <td>0.014132</td>\n",
              "      <td>-0.004640</td>\n",
              "      <td>0.004696</td>\n",
              "      <td>-0.010674</td>\n",
              "      <td>-0.010128</td>\n",
              "      <td>-0.022858</td>\n",
              "      <td>-0.005061</td>\n",
              "      <td>0.008729</td>\n",
              "      <td>-0.009562</td>\n",
              "      <td>0.014896</td>\n",
              "      <td>-0.016246</td>\n",
              "      <td>0.000469</td>\n",
              "      <td>-0.000779</td>\n",
              "      <td>-0.003903</td>\n",
              "      <td>0.004105</td>\n",
              "      <td>-0.000583</td>\n",
              "      <td>0.002721</td>\n",
              "      <td>0.005342</td>\n",
              "      <td>0.004101</td>\n",
              "      <td>saudavel</td>\n",
              "    </tr>\n",
              "    <tr>\n",
              "      <th>4</th>\n",
              "      <td>-1.373024</td>\n",
              "      <td>-0.206016</td>\n",
              "      <td>-0.346065</td>\n",
              "      <td>0.078609</td>\n",
              "      <td>-0.092544</td>\n",
              "      <td>-0.317090</td>\n",
              "      <td>0.052357</td>\n",
              "      <td>-0.040050</td>\n",
              "      <td>-0.177057</td>\n",
              "      <td>-0.182608</td>\n",
              "      <td>0.113848</td>\n",
              "      <td>0.132140</td>\n",
              "      <td>0.103628</td>\n",
              "      <td>-0.138031</td>\n",
              "      <td>-0.096601</td>\n",
              "      <td>0.077997</td>\n",
              "      <td>-0.140785</td>\n",
              "      <td>0.034929</td>\n",
              "      <td>0.026434</td>\n",
              "      <td>0.113462</td>\n",
              "      <td>0.041045</td>\n",
              "      <td>-0.160090</td>\n",
              "      <td>0.025202</td>\n",
              "      <td>-0.124881</td>\n",
              "      <td>0.087513</td>\n",
              "      <td>0.060743</td>\n",
              "      <td>-0.156515</td>\n",
              "      <td>0.068098</td>\n",
              "      <td>0.041846</td>\n",
              "      <td>-0.113006</td>\n",
              "      <td>-0.088118</td>\n",
              "      <td>0.006977</td>\n",
              "      <td>0.089649</td>\n",
              "      <td>-0.037655</td>\n",
              "      <td>0.014012</td>\n",
              "      <td>0.077236</td>\n",
              "      <td>0.026231</td>\n",
              "      <td>0.001631</td>\n",
              "      <td>-0.073659</td>\n",
              "      <td>0.061545</td>\n",
              "      <td>...</td>\n",
              "      <td>0.001118</td>\n",
              "      <td>0.015945</td>\n",
              "      <td>-0.001096</td>\n",
              "      <td>-0.002890</td>\n",
              "      <td>-0.014052</td>\n",
              "      <td>0.002256</td>\n",
              "      <td>0.003737</td>\n",
              "      <td>0.011507</td>\n",
              "      <td>-0.000585</td>\n",
              "      <td>-0.000289</td>\n",
              "      <td>-0.003714</td>\n",
              "      <td>0.004640</td>\n",
              "      <td>-0.014219</td>\n",
              "      <td>-0.005949</td>\n",
              "      <td>0.011006</td>\n",
              "      <td>0.002797</td>\n",
              "      <td>-0.000489</td>\n",
              "      <td>-0.002433</td>\n",
              "      <td>-0.001251</td>\n",
              "      <td>0.008610</td>\n",
              "      <td>0.001418</td>\n",
              "      <td>0.004367</td>\n",
              "      <td>0.006942</td>\n",
              "      <td>0.002109</td>\n",
              "      <td>0.001934</td>\n",
              "      <td>-0.013407</td>\n",
              "      <td>0.003861</td>\n",
              "      <td>-0.010273</td>\n",
              "      <td>-0.001835</td>\n",
              "      <td>-0.001301</td>\n",
              "      <td>0.000253</td>\n",
              "      <td>-0.000060</td>\n",
              "      <td>0.003425</td>\n",
              "      <td>-0.007445</td>\n",
              "      <td>-0.007558</td>\n",
              "      <td>-0.001893</td>\n",
              "      <td>0.003783</td>\n",
              "      <td>0.001230</td>\n",
              "      <td>-0.000278</td>\n",
              "      <td>saudavel</td>\n",
              "    </tr>\n",
              "    <tr>\n",
              "      <th>...</th>\n",
              "      <td>...</td>\n",
              "      <td>...</td>\n",
              "      <td>...</td>\n",
              "      <td>...</td>\n",
              "      <td>...</td>\n",
              "      <td>...</td>\n",
              "      <td>...</td>\n",
              "      <td>...</td>\n",
              "      <td>...</td>\n",
              "      <td>...</td>\n",
              "      <td>...</td>\n",
              "      <td>...</td>\n",
              "      <td>...</td>\n",
              "      <td>...</td>\n",
              "      <td>...</td>\n",
              "      <td>...</td>\n",
              "      <td>...</td>\n",
              "      <td>...</td>\n",
              "      <td>...</td>\n",
              "      <td>...</td>\n",
              "      <td>...</td>\n",
              "      <td>...</td>\n",
              "      <td>...</td>\n",
              "      <td>...</td>\n",
              "      <td>...</td>\n",
              "      <td>...</td>\n",
              "      <td>...</td>\n",
              "      <td>...</td>\n",
              "      <td>...</td>\n",
              "      <td>...</td>\n",
              "      <td>...</td>\n",
              "      <td>...</td>\n",
              "      <td>...</td>\n",
              "      <td>...</td>\n",
              "      <td>...</td>\n",
              "      <td>...</td>\n",
              "      <td>...</td>\n",
              "      <td>...</td>\n",
              "      <td>...</td>\n",
              "      <td>...</td>\n",
              "      <td>...</td>\n",
              "      <td>...</td>\n",
              "      <td>...</td>\n",
              "      <td>...</td>\n",
              "      <td>...</td>\n",
              "      <td>...</td>\n",
              "      <td>...</td>\n",
              "      <td>...</td>\n",
              "      <td>...</td>\n",
              "      <td>...</td>\n",
              "      <td>...</td>\n",
              "      <td>...</td>\n",
              "      <td>...</td>\n",
              "      <td>...</td>\n",
              "      <td>...</td>\n",
              "      <td>...</td>\n",
              "      <td>...</td>\n",
              "      <td>...</td>\n",
              "      <td>...</td>\n",
              "      <td>...</td>\n",
              "      <td>...</td>\n",
              "      <td>...</td>\n",
              "      <td>...</td>\n",
              "      <td>...</td>\n",
              "      <td>...</td>\n",
              "      <td>...</td>\n",
              "      <td>...</td>\n",
              "      <td>...</td>\n",
              "      <td>...</td>\n",
              "      <td>...</td>\n",
              "      <td>...</td>\n",
              "      <td>...</td>\n",
              "      <td>...</td>\n",
              "      <td>...</td>\n",
              "      <td>...</td>\n",
              "      <td>...</td>\n",
              "      <td>...</td>\n",
              "      <td>...</td>\n",
              "      <td>...</td>\n",
              "      <td>...</td>\n",
              "      <td>...</td>\n",
              "    </tr>\n",
              "    <tr>\n",
              "      <th>26802</th>\n",
              "      <td>1.083147</td>\n",
              "      <td>0.102716</td>\n",
              "      <td>0.009510</td>\n",
              "      <td>0.165226</td>\n",
              "      <td>0.343889</td>\n",
              "      <td>-0.294773</td>\n",
              "      <td>-0.092938</td>\n",
              "      <td>0.114983</td>\n",
              "      <td>0.309242</td>\n",
              "      <td>-0.285076</td>\n",
              "      <td>0.300044</td>\n",
              "      <td>-0.234334</td>\n",
              "      <td>-0.329936</td>\n",
              "      <td>-0.049735</td>\n",
              "      <td>0.412625</td>\n",
              "      <td>0.115647</td>\n",
              "      <td>0.459809</td>\n",
              "      <td>0.236417</td>\n",
              "      <td>0.321600</td>\n",
              "      <td>-0.093714</td>\n",
              "      <td>0.284419</td>\n",
              "      <td>-0.004596</td>\n",
              "      <td>-0.080933</td>\n",
              "      <td>-0.065826</td>\n",
              "      <td>-0.151009</td>\n",
              "      <td>0.155224</td>\n",
              "      <td>-0.096892</td>\n",
              "      <td>0.002872</td>\n",
              "      <td>0.000551</td>\n",
              "      <td>0.101797</td>\n",
              "      <td>-0.121212</td>\n",
              "      <td>-0.080120</td>\n",
              "      <td>0.024422</td>\n",
              "      <td>-0.017791</td>\n",
              "      <td>-0.056949</td>\n",
              "      <td>-0.267731</td>\n",
              "      <td>0.141296</td>\n",
              "      <td>0.096585</td>\n",
              "      <td>-0.026974</td>\n",
              "      <td>0.028402</td>\n",
              "      <td>...</td>\n",
              "      <td>-0.012529</td>\n",
              "      <td>0.016203</td>\n",
              "      <td>-0.004461</td>\n",
              "      <td>-0.005280</td>\n",
              "      <td>-0.009014</td>\n",
              "      <td>-0.005475</td>\n",
              "      <td>0.003665</td>\n",
              "      <td>-0.007379</td>\n",
              "      <td>0.003229</td>\n",
              "      <td>-0.018541</td>\n",
              "      <td>-0.002377</td>\n",
              "      <td>0.000515</td>\n",
              "      <td>0.001108</td>\n",
              "      <td>-0.007663</td>\n",
              "      <td>-0.007404</td>\n",
              "      <td>0.001395</td>\n",
              "      <td>0.002583</td>\n",
              "      <td>-0.011250</td>\n",
              "      <td>-0.006515</td>\n",
              "      <td>0.005385</td>\n",
              "      <td>0.013413</td>\n",
              "      <td>0.000477</td>\n",
              "      <td>0.001169</td>\n",
              "      <td>-0.006851</td>\n",
              "      <td>-0.005323</td>\n",
              "      <td>0.001463</td>\n",
              "      <td>0.013102</td>\n",
              "      <td>-0.000056</td>\n",
              "      <td>0.003454</td>\n",
              "      <td>-0.010461</td>\n",
              "      <td>-0.012933</td>\n",
              "      <td>-0.005738</td>\n",
              "      <td>-0.012995</td>\n",
              "      <td>-0.003813</td>\n",
              "      <td>0.008237</td>\n",
              "      <td>0.003014</td>\n",
              "      <td>-0.001853</td>\n",
              "      <td>0.010539</td>\n",
              "      <td>0.007427</td>\n",
              "      <td>doente</td>\n",
              "    </tr>\n",
              "    <tr>\n",
              "      <th>26803</th>\n",
              "      <td>0.466642</td>\n",
              "      <td>-0.083846</td>\n",
              "      <td>0.618787</td>\n",
              "      <td>-1.252755</td>\n",
              "      <td>-0.136168</td>\n",
              "      <td>-0.519201</td>\n",
              "      <td>-0.359752</td>\n",
              "      <td>0.198611</td>\n",
              "      <td>-0.426098</td>\n",
              "      <td>0.088244</td>\n",
              "      <td>-0.109660</td>\n",
              "      <td>-0.121280</td>\n",
              "      <td>-0.569871</td>\n",
              "      <td>-0.097933</td>\n",
              "      <td>-0.445716</td>\n",
              "      <td>0.153127</td>\n",
              "      <td>0.136763</td>\n",
              "      <td>-0.116652</td>\n",
              "      <td>-0.350342</td>\n",
              "      <td>0.220762</td>\n",
              "      <td>-0.024296</td>\n",
              "      <td>-0.190985</td>\n",
              "      <td>0.272388</td>\n",
              "      <td>-0.240689</td>\n",
              "      <td>-0.067516</td>\n",
              "      <td>-0.174699</td>\n",
              "      <td>0.206685</td>\n",
              "      <td>-0.157235</td>\n",
              "      <td>-0.087530</td>\n",
              "      <td>0.090684</td>\n",
              "      <td>-0.084446</td>\n",
              "      <td>-0.208059</td>\n",
              "      <td>0.127842</td>\n",
              "      <td>-0.119542</td>\n",
              "      <td>0.026657</td>\n",
              "      <td>-0.018850</td>\n",
              "      <td>-0.119934</td>\n",
              "      <td>-0.257968</td>\n",
              "      <td>0.164694</td>\n",
              "      <td>-0.002971</td>\n",
              "      <td>...</td>\n",
              "      <td>0.011236</td>\n",
              "      <td>0.009239</td>\n",
              "      <td>-0.002194</td>\n",
              "      <td>-0.011273</td>\n",
              "      <td>-0.006879</td>\n",
              "      <td>0.000146</td>\n",
              "      <td>-0.001201</td>\n",
              "      <td>-0.011336</td>\n",
              "      <td>-0.003840</td>\n",
              "      <td>-0.003838</td>\n",
              "      <td>-0.022852</td>\n",
              "      <td>0.001325</td>\n",
              "      <td>-0.026174</td>\n",
              "      <td>-0.003973</td>\n",
              "      <td>-0.011779</td>\n",
              "      <td>-0.006100</td>\n",
              "      <td>0.005224</td>\n",
              "      <td>0.028401</td>\n",
              "      <td>0.004703</td>\n",
              "      <td>-0.003421</td>\n",
              "      <td>0.012875</td>\n",
              "      <td>-0.018769</td>\n",
              "      <td>0.002339</td>\n",
              "      <td>-0.023888</td>\n",
              "      <td>-0.003545</td>\n",
              "      <td>-0.004899</td>\n",
              "      <td>0.005874</td>\n",
              "      <td>0.010020</td>\n",
              "      <td>-0.005272</td>\n",
              "      <td>-0.012358</td>\n",
              "      <td>0.017048</td>\n",
              "      <td>0.010409</td>\n",
              "      <td>-0.021423</td>\n",
              "      <td>0.003366</td>\n",
              "      <td>0.005664</td>\n",
              "      <td>0.013758</td>\n",
              "      <td>0.000944</td>\n",
              "      <td>0.013022</td>\n",
              "      <td>0.006636</td>\n",
              "      <td>doente</td>\n",
              "    </tr>\n",
              "    <tr>\n",
              "      <th>26804</th>\n",
              "      <td>1.228830</td>\n",
              "      <td>-0.168165</td>\n",
              "      <td>-0.038274</td>\n",
              "      <td>-0.412927</td>\n",
              "      <td>-0.049294</td>\n",
              "      <td>0.607964</td>\n",
              "      <td>-0.507027</td>\n",
              "      <td>0.391566</td>\n",
              "      <td>-0.224544</td>\n",
              "      <td>0.093500</td>\n",
              "      <td>-0.054003</td>\n",
              "      <td>-0.149339</td>\n",
              "      <td>0.043852</td>\n",
              "      <td>-0.332615</td>\n",
              "      <td>-0.012663</td>\n",
              "      <td>-0.170138</td>\n",
              "      <td>-0.115686</td>\n",
              "      <td>-0.414968</td>\n",
              "      <td>-0.200878</td>\n",
              "      <td>-0.185649</td>\n",
              "      <td>0.132756</td>\n",
              "      <td>-0.349216</td>\n",
              "      <td>0.175200</td>\n",
              "      <td>-0.048807</td>\n",
              "      <td>-0.066053</td>\n",
              "      <td>-0.248929</td>\n",
              "      <td>-0.129600</td>\n",
              "      <td>-0.001196</td>\n",
              "      <td>0.020053</td>\n",
              "      <td>-0.143466</td>\n",
              "      <td>0.193435</td>\n",
              "      <td>-0.061939</td>\n",
              "      <td>-0.046237</td>\n",
              "      <td>0.009930</td>\n",
              "      <td>-0.392567</td>\n",
              "      <td>0.194463</td>\n",
              "      <td>0.087492</td>\n",
              "      <td>0.054585</td>\n",
              "      <td>-0.144441</td>\n",
              "      <td>0.124332</td>\n",
              "      <td>...</td>\n",
              "      <td>-0.001236</td>\n",
              "      <td>-0.001746</td>\n",
              "      <td>-0.000294</td>\n",
              "      <td>0.002564</td>\n",
              "      <td>0.011397</td>\n",
              "      <td>-0.004377</td>\n",
              "      <td>0.004079</td>\n",
              "      <td>0.004149</td>\n",
              "      <td>0.002825</td>\n",
              "      <td>-0.000699</td>\n",
              "      <td>-0.009835</td>\n",
              "      <td>-0.000515</td>\n",
              "      <td>-0.003310</td>\n",
              "      <td>-0.018308</td>\n",
              "      <td>-0.003911</td>\n",
              "      <td>0.009197</td>\n",
              "      <td>-0.007250</td>\n",
              "      <td>-0.003062</td>\n",
              "      <td>0.002002</td>\n",
              "      <td>-0.000373</td>\n",
              "      <td>0.005253</td>\n",
              "      <td>-0.008341</td>\n",
              "      <td>0.005604</td>\n",
              "      <td>-0.006490</td>\n",
              "      <td>-0.000786</td>\n",
              "      <td>0.006199</td>\n",
              "      <td>-0.006503</td>\n",
              "      <td>0.002053</td>\n",
              "      <td>-0.004896</td>\n",
              "      <td>0.011397</td>\n",
              "      <td>-0.007945</td>\n",
              "      <td>0.000862</td>\n",
              "      <td>0.005796</td>\n",
              "      <td>-0.000160</td>\n",
              "      <td>0.005276</td>\n",
              "      <td>-0.002160</td>\n",
              "      <td>-0.012117</td>\n",
              "      <td>0.006922</td>\n",
              "      <td>-0.005520</td>\n",
              "      <td>doente</td>\n",
              "    </tr>\n",
              "    <tr>\n",
              "      <th>26805</th>\n",
              "      <td>1.286237</td>\n",
              "      <td>-0.058838</td>\n",
              "      <td>-0.121423</td>\n",
              "      <td>-0.144267</td>\n",
              "      <td>-0.049827</td>\n",
              "      <td>-0.145622</td>\n",
              "      <td>0.168851</td>\n",
              "      <td>-0.039755</td>\n",
              "      <td>0.271328</td>\n",
              "      <td>-0.097276</td>\n",
              "      <td>0.013943</td>\n",
              "      <td>-0.643481</td>\n",
              "      <td>-0.027811</td>\n",
              "      <td>-0.230776</td>\n",
              "      <td>-0.164721</td>\n",
              "      <td>0.283036</td>\n",
              "      <td>0.140010</td>\n",
              "      <td>0.016357</td>\n",
              "      <td>-0.055641</td>\n",
              "      <td>0.542774</td>\n",
              "      <td>0.115252</td>\n",
              "      <td>0.052625</td>\n",
              "      <td>-0.111792</td>\n",
              "      <td>0.279254</td>\n",
              "      <td>0.248193</td>\n",
              "      <td>0.036252</td>\n",
              "      <td>0.258922</td>\n",
              "      <td>-0.185233</td>\n",
              "      <td>-0.268995</td>\n",
              "      <td>0.205955</td>\n",
              "      <td>0.032825</td>\n",
              "      <td>-0.062868</td>\n",
              "      <td>-0.127895</td>\n",
              "      <td>0.212223</td>\n",
              "      <td>0.192833</td>\n",
              "      <td>-0.131748</td>\n",
              "      <td>-0.148166</td>\n",
              "      <td>0.010301</td>\n",
              "      <td>0.226636</td>\n",
              "      <td>0.076647</td>\n",
              "      <td>...</td>\n",
              "      <td>0.011651</td>\n",
              "      <td>0.028912</td>\n",
              "      <td>0.015628</td>\n",
              "      <td>0.005115</td>\n",
              "      <td>-0.021128</td>\n",
              "      <td>0.005645</td>\n",
              "      <td>-0.006924</td>\n",
              "      <td>-0.013300</td>\n",
              "      <td>-0.008449</td>\n",
              "      <td>-0.012123</td>\n",
              "      <td>-0.010961</td>\n",
              "      <td>-0.009231</td>\n",
              "      <td>0.009294</td>\n",
              "      <td>-0.011818</td>\n",
              "      <td>0.008691</td>\n",
              "      <td>0.002875</td>\n",
              "      <td>0.010444</td>\n",
              "      <td>0.004717</td>\n",
              "      <td>0.004039</td>\n",
              "      <td>0.006899</td>\n",
              "      <td>0.009928</td>\n",
              "      <td>-0.003880</td>\n",
              "      <td>0.012255</td>\n",
              "      <td>0.000671</td>\n",
              "      <td>-0.009181</td>\n",
              "      <td>0.009755</td>\n",
              "      <td>-0.010201</td>\n",
              "      <td>0.017309</td>\n",
              "      <td>-0.005580</td>\n",
              "      <td>0.008731</td>\n",
              "      <td>0.013300</td>\n",
              "      <td>-0.005600</td>\n",
              "      <td>0.004623</td>\n",
              "      <td>-0.001400</td>\n",
              "      <td>-0.013134</td>\n",
              "      <td>0.008175</td>\n",
              "      <td>-0.000919</td>\n",
              "      <td>-0.008193</td>\n",
              "      <td>0.004999</td>\n",
              "      <td>doente</td>\n",
              "    </tr>\n",
              "    <tr>\n",
              "      <th>26806</th>\n",
              "      <td>-0.440195</td>\n",
              "      <td>0.538977</td>\n",
              "      <td>0.829856</td>\n",
              "      <td>-0.372504</td>\n",
              "      <td>-0.385287</td>\n",
              "      <td>0.327090</td>\n",
              "      <td>0.323745</td>\n",
              "      <td>-0.052195</td>\n",
              "      <td>-0.363805</td>\n",
              "      <td>0.436111</td>\n",
              "      <td>0.671189</td>\n",
              "      <td>0.432352</td>\n",
              "      <td>-0.305943</td>\n",
              "      <td>-0.317627</td>\n",
              "      <td>0.158628</td>\n",
              "      <td>-0.517731</td>\n",
              "      <td>0.193817</td>\n",
              "      <td>-0.087933</td>\n",
              "      <td>-0.136339</td>\n",
              "      <td>0.039471</td>\n",
              "      <td>0.450239</td>\n",
              "      <td>-1.050061</td>\n",
              "      <td>-0.172785</td>\n",
              "      <td>-0.029138</td>\n",
              "      <td>-0.183098</td>\n",
              "      <td>0.458526</td>\n",
              "      <td>-0.337921</td>\n",
              "      <td>-0.014970</td>\n",
              "      <td>0.031925</td>\n",
              "      <td>0.322882</td>\n",
              "      <td>0.178517</td>\n",
              "      <td>0.116801</td>\n",
              "      <td>-0.007611</td>\n",
              "      <td>-0.378116</td>\n",
              "      <td>0.076876</td>\n",
              "      <td>-0.087893</td>\n",
              "      <td>-0.036283</td>\n",
              "      <td>0.431263</td>\n",
              "      <td>0.246513</td>\n",
              "      <td>-0.008856</td>\n",
              "      <td>...</td>\n",
              "      <td>-0.022402</td>\n",
              "      <td>-0.014158</td>\n",
              "      <td>0.012063</td>\n",
              "      <td>0.011163</td>\n",
              "      <td>0.011442</td>\n",
              "      <td>-0.002619</td>\n",
              "      <td>0.003773</td>\n",
              "      <td>-0.021299</td>\n",
              "      <td>-0.001390</td>\n",
              "      <td>-0.006476</td>\n",
              "      <td>0.004489</td>\n",
              "      <td>-0.015216</td>\n",
              "      <td>-0.008661</td>\n",
              "      <td>0.016234</td>\n",
              "      <td>0.000300</td>\n",
              "      <td>-0.025474</td>\n",
              "      <td>0.009853</td>\n",
              "      <td>-0.018123</td>\n",
              "      <td>0.001851</td>\n",
              "      <td>0.006244</td>\n",
              "      <td>-0.015944</td>\n",
              "      <td>0.011280</td>\n",
              "      <td>-0.011898</td>\n",
              "      <td>0.000070</td>\n",
              "      <td>0.006859</td>\n",
              "      <td>-0.007903</td>\n",
              "      <td>0.001827</td>\n",
              "      <td>0.012387</td>\n",
              "      <td>0.015368</td>\n",
              "      <td>-0.001289</td>\n",
              "      <td>-0.008413</td>\n",
              "      <td>0.001834</td>\n",
              "      <td>-0.016759</td>\n",
              "      <td>-0.009944</td>\n",
              "      <td>-0.003029</td>\n",
              "      <td>0.013844</td>\n",
              "      <td>0.000489</td>\n",
              "      <td>0.018221</td>\n",
              "      <td>0.012269</td>\n",
              "      <td>doente</td>\n",
              "    </tr>\n",
              "  </tbody>\n",
              "</table>\n",
              "<p>26807 rows × 717 columns</p>\n",
              "</div>\n",
              "      <button class=\"colab-df-convert\" onclick=\"convertToInteractive('df-c5038bde-410b-4fc5-b103-c2583e4629bb')\"\n",
              "              title=\"Convert this dataframe to an interactive table.\"\n",
              "              style=\"display:none;\">\n",
              "        \n",
              "  <svg xmlns=\"http://www.w3.org/2000/svg\" height=\"24px\"viewBox=\"0 0 24 24\"\n",
              "       width=\"24px\">\n",
              "    <path d=\"M0 0h24v24H0V0z\" fill=\"none\"/>\n",
              "    <path d=\"M18.56 5.44l.94 2.06.94-2.06 2.06-.94-2.06-.94-.94-2.06-.94 2.06-2.06.94zm-11 1L8.5 8.5l.94-2.06 2.06-.94-2.06-.94L8.5 2.5l-.94 2.06-2.06.94zm10 10l.94 2.06.94-2.06 2.06-.94-2.06-.94-.94-2.06-.94 2.06-2.06.94z\"/><path d=\"M17.41 7.96l-1.37-1.37c-.4-.4-.92-.59-1.43-.59-.52 0-1.04.2-1.43.59L10.3 9.45l-7.72 7.72c-.78.78-.78 2.05 0 2.83L4 21.41c.39.39.9.59 1.41.59.51 0 1.02-.2 1.41-.59l7.78-7.78 2.81-2.81c.8-.78.8-2.07 0-2.86zM5.41 20L4 18.59l7.72-7.72 1.47 1.35L5.41 20z\"/>\n",
              "  </svg>\n",
              "      </button>\n",
              "      \n",
              "  <style>\n",
              "    .colab-df-container {\n",
              "      display:flex;\n",
              "      flex-wrap:wrap;\n",
              "      gap: 12px;\n",
              "    }\n",
              "\n",
              "    .colab-df-convert {\n",
              "      background-color: #E8F0FE;\n",
              "      border: none;\n",
              "      border-radius: 50%;\n",
              "      cursor: pointer;\n",
              "      display: none;\n",
              "      fill: #1967D2;\n",
              "      height: 32px;\n",
              "      padding: 0 0 0 0;\n",
              "      width: 32px;\n",
              "    }\n",
              "\n",
              "    .colab-df-convert:hover {\n",
              "      background-color: #E2EBFA;\n",
              "      box-shadow: 0px 1px 2px rgba(60, 64, 67, 0.3), 0px 1px 3px 1px rgba(60, 64, 67, 0.15);\n",
              "      fill: #174EA6;\n",
              "    }\n",
              "\n",
              "    [theme=dark] .colab-df-convert {\n",
              "      background-color: #3B4455;\n",
              "      fill: #D2E3FC;\n",
              "    }\n",
              "\n",
              "    [theme=dark] .colab-df-convert:hover {\n",
              "      background-color: #434B5C;\n",
              "      box-shadow: 0px 1px 3px 1px rgba(0, 0, 0, 0.15);\n",
              "      filter: drop-shadow(0px 1px 2px rgba(0, 0, 0, 0.3));\n",
              "      fill: #FFFFFF;\n",
              "    }\n",
              "  </style>\n",
              "\n",
              "      <script>\n",
              "        const buttonEl =\n",
              "          document.querySelector('#df-c5038bde-410b-4fc5-b103-c2583e4629bb button.colab-df-convert');\n",
              "        buttonEl.style.display =\n",
              "          google.colab.kernel.accessAllowed ? 'block' : 'none';\n",
              "\n",
              "        async function convertToInteractive(key) {\n",
              "          const element = document.querySelector('#df-c5038bde-410b-4fc5-b103-c2583e4629bb');\n",
              "          const dataTable =\n",
              "            await google.colab.kernel.invokeFunction('convertToInteractive',\n",
              "                                                     [key], {});\n",
              "          if (!dataTable) return;\n",
              "\n",
              "          const docLinkHtml = 'Like what you see? Visit the ' +\n",
              "            '<a target=\"_blank\" href=https://colab.research.google.com/notebooks/data_table.ipynb>data table notebook</a>'\n",
              "            + ' to learn more about interactive tables.';\n",
              "          element.innerHTML = '';\n",
              "          dataTable['output_type'] = 'display_data';\n",
              "          await google.colab.output.renderOutput(dataTable, element);\n",
              "          const docLink = document.createElement('div');\n",
              "          docLink.innerHTML = docLinkHtml;\n",
              "          element.appendChild(docLink);\n",
              "        }\n",
              "      </script>\n",
              "    </div>\n",
              "  </div>\n",
              "  "
            ],
            "text/plain": [
              "              0         1         2  ...       714       715    classe\n",
              "0     -0.800885 -0.127907 -1.118607  ... -0.002081  0.002014  saudavel\n",
              "1     -1.112906 -0.078094 -0.048163  ...  0.003519  0.005106  saudavel\n",
              "2     -0.418159  0.041575 -1.193468  ... -0.013367 -0.006569  saudavel\n",
              "3     -0.168842  0.574866  1.096359  ...  0.005342  0.004101  saudavel\n",
              "4     -1.373024 -0.206016 -0.346065  ...  0.001230 -0.000278  saudavel\n",
              "...         ...       ...       ...  ...       ...       ...       ...\n",
              "26802  1.083147  0.102716  0.009510  ...  0.010539  0.007427    doente\n",
              "26803  0.466642 -0.083846  0.618787  ...  0.013022  0.006636    doente\n",
              "26804  1.228830 -0.168165 -0.038274  ...  0.006922 -0.005520    doente\n",
              "26805  1.286237 -0.058838 -0.121423  ... -0.008193  0.004999    doente\n",
              "26806 -0.440195  0.538977  0.829856  ...  0.018221  0.012269    doente\n",
              "\n",
              "[26807 rows x 717 columns]"
            ]
          },
          "metadata": {},
          "execution_count": 5
        }
      ]
    },
    {
      "cell_type": "code",
      "metadata": {
        "colab": {
          "base_uri": "https://localhost:8080/",
          "height": 487
        },
        "id": "Pmae3sqvqIwj",
        "outputId": "70b7efb0-ab32-49d5-8d55-86a12b93cf11"
      },
      "source": [
        "base_completa_30 = pd.read_csv(folder+'base_completa_30.csv')\n",
        "base_completa_30"
      ],
      "execution_count": null,
      "outputs": [
        {
          "output_type": "execute_result",
          "data": {
            "text/html": [
              "\n",
              "  <div id=\"df-816db38d-7af3-4008-bcd4-0b7bd72ceff3\">\n",
              "    <div class=\"colab-df-container\">\n",
              "      <div>\n",
              "<style scoped>\n",
              "    .dataframe tbody tr th:only-of-type {\n",
              "        vertical-align: middle;\n",
              "    }\n",
              "\n",
              "    .dataframe tbody tr th {\n",
              "        vertical-align: top;\n",
              "    }\n",
              "\n",
              "    .dataframe thead th {\n",
              "        text-align: right;\n",
              "    }\n",
              "</style>\n",
              "<table border=\"1\" class=\"dataframe\">\n",
              "  <thead>\n",
              "    <tr style=\"text-align: right;\">\n",
              "      <th></th>\n",
              "      <th>0</th>\n",
              "      <th>1</th>\n",
              "      <th>2</th>\n",
              "      <th>3</th>\n",
              "      <th>4</th>\n",
              "      <th>5</th>\n",
              "      <th>6</th>\n",
              "      <th>7</th>\n",
              "      <th>8</th>\n",
              "      <th>9</th>\n",
              "      <th>10</th>\n",
              "      <th>11</th>\n",
              "      <th>12</th>\n",
              "      <th>13</th>\n",
              "      <th>14</th>\n",
              "      <th>15</th>\n",
              "      <th>16</th>\n",
              "      <th>17</th>\n",
              "      <th>18</th>\n",
              "      <th>19</th>\n",
              "      <th>20</th>\n",
              "      <th>21</th>\n",
              "      <th>22</th>\n",
              "      <th>23</th>\n",
              "      <th>24</th>\n",
              "      <th>25</th>\n",
              "      <th>26</th>\n",
              "      <th>27</th>\n",
              "      <th>28</th>\n",
              "      <th>29</th>\n",
              "      <th>30</th>\n",
              "      <th>31</th>\n",
              "      <th>32</th>\n",
              "      <th>33</th>\n",
              "      <th>34</th>\n",
              "      <th>35</th>\n",
              "      <th>36</th>\n",
              "      <th>37</th>\n",
              "      <th>38</th>\n",
              "      <th>39</th>\n",
              "      <th>...</th>\n",
              "      <th>268</th>\n",
              "      <th>269</th>\n",
              "      <th>270</th>\n",
              "      <th>271</th>\n",
              "      <th>272</th>\n",
              "      <th>273</th>\n",
              "      <th>274</th>\n",
              "      <th>275</th>\n",
              "      <th>276</th>\n",
              "      <th>277</th>\n",
              "      <th>278</th>\n",
              "      <th>279</th>\n",
              "      <th>280</th>\n",
              "      <th>281</th>\n",
              "      <th>282</th>\n",
              "      <th>283</th>\n",
              "      <th>284</th>\n",
              "      <th>285</th>\n",
              "      <th>286</th>\n",
              "      <th>287</th>\n",
              "      <th>288</th>\n",
              "      <th>289</th>\n",
              "      <th>290</th>\n",
              "      <th>291</th>\n",
              "      <th>292</th>\n",
              "      <th>293</th>\n",
              "      <th>294</th>\n",
              "      <th>295</th>\n",
              "      <th>296</th>\n",
              "      <th>297</th>\n",
              "      <th>298</th>\n",
              "      <th>299</th>\n",
              "      <th>300</th>\n",
              "      <th>301</th>\n",
              "      <th>302</th>\n",
              "      <th>303</th>\n",
              "      <th>304</th>\n",
              "      <th>305</th>\n",
              "      <th>306</th>\n",
              "      <th>classe</th>\n",
              "    </tr>\n",
              "  </thead>\n",
              "  <tbody>\n",
              "    <tr>\n",
              "      <th>0</th>\n",
              "      <td>-0.800885</td>\n",
              "      <td>-0.127907</td>\n",
              "      <td>-1.118607</td>\n",
              "      <td>0.422056</td>\n",
              "      <td>-0.365478</td>\n",
              "      <td>-0.208737</td>\n",
              "      <td>0.129566</td>\n",
              "      <td>-0.310453</td>\n",
              "      <td>0.358002</td>\n",
              "      <td>-0.042962</td>\n",
              "      <td>0.173443</td>\n",
              "      <td>-0.231428</td>\n",
              "      <td>-0.000463</td>\n",
              "      <td>0.194073</td>\n",
              "      <td>-0.220572</td>\n",
              "      <td>0.012254</td>\n",
              "      <td>-0.234384</td>\n",
              "      <td>-0.075511</td>\n",
              "      <td>0.041671</td>\n",
              "      <td>0.320505</td>\n",
              "      <td>0.255771</td>\n",
              "      <td>-0.271065</td>\n",
              "      <td>0.174298</td>\n",
              "      <td>-0.000985</td>\n",
              "      <td>0.188685</td>\n",
              "      <td>0.302892</td>\n",
              "      <td>0.193370</td>\n",
              "      <td>-0.036782</td>\n",
              "      <td>0.268545</td>\n",
              "      <td>0.027711</td>\n",
              "      <td>-0.198368</td>\n",
              "      <td>-0.095536</td>\n",
              "      <td>0.122313</td>\n",
              "      <td>-0.189418</td>\n",
              "      <td>-0.184514</td>\n",
              "      <td>-0.148880</td>\n",
              "      <td>-0.000188</td>\n",
              "      <td>-0.317677</td>\n",
              "      <td>0.120288</td>\n",
              "      <td>0.030816</td>\n",
              "      <td>...</td>\n",
              "      <td>-0.033153</td>\n",
              "      <td>0.046867</td>\n",
              "      <td>-0.048281</td>\n",
              "      <td>-0.021659</td>\n",
              "      <td>-0.024201</td>\n",
              "      <td>0.087197</td>\n",
              "      <td>0.002673</td>\n",
              "      <td>0.002927</td>\n",
              "      <td>-0.009241</td>\n",
              "      <td>0.029811</td>\n",
              "      <td>0.027475</td>\n",
              "      <td>0.031266</td>\n",
              "      <td>-0.008743</td>\n",
              "      <td>0.001622</td>\n",
              "      <td>0.004236</td>\n",
              "      <td>0.031665</td>\n",
              "      <td>0.003883</td>\n",
              "      <td>-0.006406</td>\n",
              "      <td>-0.009832</td>\n",
              "      <td>0.002492</td>\n",
              "      <td>0.009963</td>\n",
              "      <td>-0.028647</td>\n",
              "      <td>-0.015925</td>\n",
              "      <td>-0.007543</td>\n",
              "      <td>0.059876</td>\n",
              "      <td>-0.021612</td>\n",
              "      <td>0.019522</td>\n",
              "      <td>0.024092</td>\n",
              "      <td>-0.002162</td>\n",
              "      <td>0.015907</td>\n",
              "      <td>0.007858</td>\n",
              "      <td>-0.010659</td>\n",
              "      <td>0.024588</td>\n",
              "      <td>0.012466</td>\n",
              "      <td>-0.038161</td>\n",
              "      <td>-0.016204</td>\n",
              "      <td>-0.031402</td>\n",
              "      <td>0.019153</td>\n",
              "      <td>-0.038830</td>\n",
              "      <td>saudavel</td>\n",
              "    </tr>\n",
              "    <tr>\n",
              "      <th>1</th>\n",
              "      <td>-1.112906</td>\n",
              "      <td>-0.078094</td>\n",
              "      <td>-0.048163</td>\n",
              "      <td>-0.137572</td>\n",
              "      <td>0.095455</td>\n",
              "      <td>0.129049</td>\n",
              "      <td>-0.029178</td>\n",
              "      <td>0.466757</td>\n",
              "      <td>0.138500</td>\n",
              "      <td>0.255023</td>\n",
              "      <td>-0.026237</td>\n",
              "      <td>-0.300597</td>\n",
              "      <td>0.133010</td>\n",
              "      <td>0.521153</td>\n",
              "      <td>0.023661</td>\n",
              "      <td>0.090049</td>\n",
              "      <td>0.071127</td>\n",
              "      <td>0.220778</td>\n",
              "      <td>0.265234</td>\n",
              "      <td>-0.259593</td>\n",
              "      <td>0.088190</td>\n",
              "      <td>-0.047439</td>\n",
              "      <td>0.334684</td>\n",
              "      <td>-0.037246</td>\n",
              "      <td>-0.288488</td>\n",
              "      <td>0.054391</td>\n",
              "      <td>-0.096988</td>\n",
              "      <td>0.014165</td>\n",
              "      <td>-0.063869</td>\n",
              "      <td>-0.037097</td>\n",
              "      <td>-0.017460</td>\n",
              "      <td>0.074921</td>\n",
              "      <td>0.067817</td>\n",
              "      <td>-0.235245</td>\n",
              "      <td>-0.161142</td>\n",
              "      <td>-0.342905</td>\n",
              "      <td>-0.221833</td>\n",
              "      <td>-0.084278</td>\n",
              "      <td>-0.221703</td>\n",
              "      <td>0.231133</td>\n",
              "      <td>...</td>\n",
              "      <td>-0.035896</td>\n",
              "      <td>0.006759</td>\n",
              "      <td>-0.042007</td>\n",
              "      <td>0.011415</td>\n",
              "      <td>-0.038820</td>\n",
              "      <td>-0.011232</td>\n",
              "      <td>-0.101560</td>\n",
              "      <td>-0.001608</td>\n",
              "      <td>0.077890</td>\n",
              "      <td>0.045899</td>\n",
              "      <td>0.032708</td>\n",
              "      <td>-0.005915</td>\n",
              "      <td>-0.025215</td>\n",
              "      <td>-0.004445</td>\n",
              "      <td>-0.063757</td>\n",
              "      <td>-0.022971</td>\n",
              "      <td>0.039491</td>\n",
              "      <td>0.051973</td>\n",
              "      <td>-0.053765</td>\n",
              "      <td>-0.058648</td>\n",
              "      <td>0.002655</td>\n",
              "      <td>-0.055784</td>\n",
              "      <td>0.048741</td>\n",
              "      <td>-0.046235</td>\n",
              "      <td>0.018443</td>\n",
              "      <td>0.029842</td>\n",
              "      <td>-0.035966</td>\n",
              "      <td>0.014856</td>\n",
              "      <td>0.040831</td>\n",
              "      <td>-0.046935</td>\n",
              "      <td>-0.012293</td>\n",
              "      <td>-0.020579</td>\n",
              "      <td>0.026131</td>\n",
              "      <td>0.019079</td>\n",
              "      <td>-0.009045</td>\n",
              "      <td>0.030130</td>\n",
              "      <td>-0.025822</td>\n",
              "      <td>-0.008647</td>\n",
              "      <td>-0.025267</td>\n",
              "      <td>saudavel</td>\n",
              "    </tr>\n",
              "    <tr>\n",
              "      <th>2</th>\n",
              "      <td>-0.418159</td>\n",
              "      <td>0.041575</td>\n",
              "      <td>-1.193468</td>\n",
              "      <td>0.405295</td>\n",
              "      <td>-0.449510</td>\n",
              "      <td>0.026221</td>\n",
              "      <td>-0.276051</td>\n",
              "      <td>-0.150121</td>\n",
              "      <td>0.077471</td>\n",
              "      <td>0.293131</td>\n",
              "      <td>-0.092016</td>\n",
              "      <td>0.122888</td>\n",
              "      <td>-0.018685</td>\n",
              "      <td>0.044825</td>\n",
              "      <td>-0.112340</td>\n",
              "      <td>-0.127425</td>\n",
              "      <td>0.132226</td>\n",
              "      <td>0.104224</td>\n",
              "      <td>-0.118805</td>\n",
              "      <td>-0.070402</td>\n",
              "      <td>0.300349</td>\n",
              "      <td>-0.037330</td>\n",
              "      <td>0.135835</td>\n",
              "      <td>-0.067648</td>\n",
              "      <td>0.019539</td>\n",
              "      <td>-0.113150</td>\n",
              "      <td>0.276852</td>\n",
              "      <td>0.127149</td>\n",
              "      <td>0.145239</td>\n",
              "      <td>0.347202</td>\n",
              "      <td>0.013719</td>\n",
              "      <td>0.081960</td>\n",
              "      <td>-0.127205</td>\n",
              "      <td>-0.130342</td>\n",
              "      <td>0.178104</td>\n",
              "      <td>0.032593</td>\n",
              "      <td>0.060501</td>\n",
              "      <td>0.023976</td>\n",
              "      <td>0.024796</td>\n",
              "      <td>0.049120</td>\n",
              "      <td>...</td>\n",
              "      <td>-0.006400</td>\n",
              "      <td>0.020817</td>\n",
              "      <td>0.027226</td>\n",
              "      <td>0.000322</td>\n",
              "      <td>0.006831</td>\n",
              "      <td>-0.001268</td>\n",
              "      <td>-0.019861</td>\n",
              "      <td>0.056948</td>\n",
              "      <td>-0.018211</td>\n",
              "      <td>-0.036862</td>\n",
              "      <td>0.034487</td>\n",
              "      <td>-0.040639</td>\n",
              "      <td>-0.012241</td>\n",
              "      <td>0.008250</td>\n",
              "      <td>-0.011736</td>\n",
              "      <td>0.005731</td>\n",
              "      <td>-0.006991</td>\n",
              "      <td>-0.080492</td>\n",
              "      <td>0.023821</td>\n",
              "      <td>-0.025835</td>\n",
              "      <td>-0.021787</td>\n",
              "      <td>0.004398</td>\n",
              "      <td>0.007913</td>\n",
              "      <td>0.064252</td>\n",
              "      <td>-0.055791</td>\n",
              "      <td>0.004403</td>\n",
              "      <td>-0.008061</td>\n",
              "      <td>-0.011347</td>\n",
              "      <td>-0.047059</td>\n",
              "      <td>0.020883</td>\n",
              "      <td>0.001610</td>\n",
              "      <td>-0.013847</td>\n",
              "      <td>-0.014448</td>\n",
              "      <td>-0.027832</td>\n",
              "      <td>0.018972</td>\n",
              "      <td>-0.049334</td>\n",
              "      <td>-0.005974</td>\n",
              "      <td>0.006139</td>\n",
              "      <td>-0.040449</td>\n",
              "      <td>saudavel</td>\n",
              "    </tr>\n",
              "    <tr>\n",
              "      <th>3</th>\n",
              "      <td>-0.168842</td>\n",
              "      <td>0.574866</td>\n",
              "      <td>1.096359</td>\n",
              "      <td>0.803030</td>\n",
              "      <td>-0.519264</td>\n",
              "      <td>-0.129436</td>\n",
              "      <td>0.769318</td>\n",
              "      <td>-0.109301</td>\n",
              "      <td>0.717793</td>\n",
              "      <td>-0.078790</td>\n",
              "      <td>-0.099115</td>\n",
              "      <td>-0.925692</td>\n",
              "      <td>-0.666286</td>\n",
              "      <td>-0.721502</td>\n",
              "      <td>0.971760</td>\n",
              "      <td>0.121315</td>\n",
              "      <td>-0.387605</td>\n",
              "      <td>0.173022</td>\n",
              "      <td>0.005397</td>\n",
              "      <td>-0.195056</td>\n",
              "      <td>0.464039</td>\n",
              "      <td>-0.088956</td>\n",
              "      <td>0.210982</td>\n",
              "      <td>0.428115</td>\n",
              "      <td>-0.060904</td>\n",
              "      <td>0.489225</td>\n",
              "      <td>0.018359</td>\n",
              "      <td>-0.094973</td>\n",
              "      <td>0.033091</td>\n",
              "      <td>-0.154219</td>\n",
              "      <td>-0.243100</td>\n",
              "      <td>-0.032042</td>\n",
              "      <td>-0.422947</td>\n",
              "      <td>0.108662</td>\n",
              "      <td>0.209497</td>\n",
              "      <td>-0.007312</td>\n",
              "      <td>-0.171701</td>\n",
              "      <td>0.246695</td>\n",
              "      <td>-0.202438</td>\n",
              "      <td>0.024496</td>\n",
              "      <td>...</td>\n",
              "      <td>0.046485</td>\n",
              "      <td>0.034237</td>\n",
              "      <td>-0.005121</td>\n",
              "      <td>-0.033335</td>\n",
              "      <td>0.006137</td>\n",
              "      <td>0.005468</td>\n",
              "      <td>0.049790</td>\n",
              "      <td>-0.055798</td>\n",
              "      <td>-0.010632</td>\n",
              "      <td>0.015304</td>\n",
              "      <td>0.028155</td>\n",
              "      <td>-0.019735</td>\n",
              "      <td>-0.073638</td>\n",
              "      <td>0.015729</td>\n",
              "      <td>-0.056806</td>\n",
              "      <td>0.007014</td>\n",
              "      <td>0.028505</td>\n",
              "      <td>-0.005499</td>\n",
              "      <td>-0.051574</td>\n",
              "      <td>0.012323</td>\n",
              "      <td>0.011692</td>\n",
              "      <td>-0.029002</td>\n",
              "      <td>-0.009570</td>\n",
              "      <td>-0.020344</td>\n",
              "      <td>0.017364</td>\n",
              "      <td>0.044494</td>\n",
              "      <td>0.004896</td>\n",
              "      <td>-0.031914</td>\n",
              "      <td>-0.003159</td>\n",
              "      <td>-0.025068</td>\n",
              "      <td>-0.054094</td>\n",
              "      <td>0.007521</td>\n",
              "      <td>-0.027884</td>\n",
              "      <td>-0.012527</td>\n",
              "      <td>-0.031745</td>\n",
              "      <td>-0.008427</td>\n",
              "      <td>0.022923</td>\n",
              "      <td>0.043904</td>\n",
              "      <td>-0.039844</td>\n",
              "      <td>saudavel</td>\n",
              "    </tr>\n",
              "    <tr>\n",
              "      <th>4</th>\n",
              "      <td>-1.373024</td>\n",
              "      <td>-0.206016</td>\n",
              "      <td>-0.346065</td>\n",
              "      <td>0.078609</td>\n",
              "      <td>-0.092544</td>\n",
              "      <td>-0.317090</td>\n",
              "      <td>0.052357</td>\n",
              "      <td>-0.040050</td>\n",
              "      <td>-0.177057</td>\n",
              "      <td>-0.182608</td>\n",
              "      <td>0.113848</td>\n",
              "      <td>0.132140</td>\n",
              "      <td>0.103628</td>\n",
              "      <td>-0.138031</td>\n",
              "      <td>-0.096601</td>\n",
              "      <td>0.077997</td>\n",
              "      <td>-0.140785</td>\n",
              "      <td>0.034929</td>\n",
              "      <td>0.026434</td>\n",
              "      <td>0.113462</td>\n",
              "      <td>0.041045</td>\n",
              "      <td>-0.160090</td>\n",
              "      <td>0.025202</td>\n",
              "      <td>-0.124881</td>\n",
              "      <td>0.087513</td>\n",
              "      <td>0.060743</td>\n",
              "      <td>-0.156515</td>\n",
              "      <td>0.068098</td>\n",
              "      <td>0.041846</td>\n",
              "      <td>-0.113006</td>\n",
              "      <td>-0.088118</td>\n",
              "      <td>0.006977</td>\n",
              "      <td>0.089649</td>\n",
              "      <td>-0.037656</td>\n",
              "      <td>0.014012</td>\n",
              "      <td>0.077236</td>\n",
              "      <td>0.026230</td>\n",
              "      <td>0.001631</td>\n",
              "      <td>-0.073659</td>\n",
              "      <td>0.061545</td>\n",
              "      <td>...</td>\n",
              "      <td>0.027637</td>\n",
              "      <td>0.002948</td>\n",
              "      <td>0.022747</td>\n",
              "      <td>0.006188</td>\n",
              "      <td>0.009868</td>\n",
              "      <td>0.011673</td>\n",
              "      <td>-0.029423</td>\n",
              "      <td>0.015621</td>\n",
              "      <td>0.043224</td>\n",
              "      <td>0.006354</td>\n",
              "      <td>-0.022483</td>\n",
              "      <td>0.009789</td>\n",
              "      <td>0.007624</td>\n",
              "      <td>0.038857</td>\n",
              "      <td>0.004353</td>\n",
              "      <td>-0.026631</td>\n",
              "      <td>-0.010827</td>\n",
              "      <td>0.010660</td>\n",
              "      <td>0.012201</td>\n",
              "      <td>-0.027546</td>\n",
              "      <td>-0.001767</td>\n",
              "      <td>0.039486</td>\n",
              "      <td>-0.001402</td>\n",
              "      <td>0.010995</td>\n",
              "      <td>-0.020018</td>\n",
              "      <td>-0.028363</td>\n",
              "      <td>-0.010484</td>\n",
              "      <td>0.059143</td>\n",
              "      <td>0.014278</td>\n",
              "      <td>-0.024421</td>\n",
              "      <td>-0.034735</td>\n",
              "      <td>-0.014194</td>\n",
              "      <td>0.022859</td>\n",
              "      <td>-0.025150</td>\n",
              "      <td>0.021294</td>\n",
              "      <td>0.013548</td>\n",
              "      <td>-0.012236</td>\n",
              "      <td>-0.011720</td>\n",
              "      <td>-0.008962</td>\n",
              "      <td>saudavel</td>\n",
              "    </tr>\n",
              "    <tr>\n",
              "      <th>...</th>\n",
              "      <td>...</td>\n",
              "      <td>...</td>\n",
              "      <td>...</td>\n",
              "      <td>...</td>\n",
              "      <td>...</td>\n",
              "      <td>...</td>\n",
              "      <td>...</td>\n",
              "      <td>...</td>\n",
              "      <td>...</td>\n",
              "      <td>...</td>\n",
              "      <td>...</td>\n",
              "      <td>...</td>\n",
              "      <td>...</td>\n",
              "      <td>...</td>\n",
              "      <td>...</td>\n",
              "      <td>...</td>\n",
              "      <td>...</td>\n",
              "      <td>...</td>\n",
              "      <td>...</td>\n",
              "      <td>...</td>\n",
              "      <td>...</td>\n",
              "      <td>...</td>\n",
              "      <td>...</td>\n",
              "      <td>...</td>\n",
              "      <td>...</td>\n",
              "      <td>...</td>\n",
              "      <td>...</td>\n",
              "      <td>...</td>\n",
              "      <td>...</td>\n",
              "      <td>...</td>\n",
              "      <td>...</td>\n",
              "      <td>...</td>\n",
              "      <td>...</td>\n",
              "      <td>...</td>\n",
              "      <td>...</td>\n",
              "      <td>...</td>\n",
              "      <td>...</td>\n",
              "      <td>...</td>\n",
              "      <td>...</td>\n",
              "      <td>...</td>\n",
              "      <td>...</td>\n",
              "      <td>...</td>\n",
              "      <td>...</td>\n",
              "      <td>...</td>\n",
              "      <td>...</td>\n",
              "      <td>...</td>\n",
              "      <td>...</td>\n",
              "      <td>...</td>\n",
              "      <td>...</td>\n",
              "      <td>...</td>\n",
              "      <td>...</td>\n",
              "      <td>...</td>\n",
              "      <td>...</td>\n",
              "      <td>...</td>\n",
              "      <td>...</td>\n",
              "      <td>...</td>\n",
              "      <td>...</td>\n",
              "      <td>...</td>\n",
              "      <td>...</td>\n",
              "      <td>...</td>\n",
              "      <td>...</td>\n",
              "      <td>...</td>\n",
              "      <td>...</td>\n",
              "      <td>...</td>\n",
              "      <td>...</td>\n",
              "      <td>...</td>\n",
              "      <td>...</td>\n",
              "      <td>...</td>\n",
              "      <td>...</td>\n",
              "      <td>...</td>\n",
              "      <td>...</td>\n",
              "      <td>...</td>\n",
              "      <td>...</td>\n",
              "      <td>...</td>\n",
              "      <td>...</td>\n",
              "      <td>...</td>\n",
              "      <td>...</td>\n",
              "      <td>...</td>\n",
              "      <td>...</td>\n",
              "      <td>...</td>\n",
              "      <td>...</td>\n",
              "    </tr>\n",
              "    <tr>\n",
              "      <th>26802</th>\n",
              "      <td>1.083147</td>\n",
              "      <td>0.102716</td>\n",
              "      <td>0.009510</td>\n",
              "      <td>0.165226</td>\n",
              "      <td>0.343889</td>\n",
              "      <td>-0.294773</td>\n",
              "      <td>-0.092938</td>\n",
              "      <td>0.114983</td>\n",
              "      <td>0.309242</td>\n",
              "      <td>-0.285076</td>\n",
              "      <td>0.300044</td>\n",
              "      <td>-0.234334</td>\n",
              "      <td>-0.329936</td>\n",
              "      <td>-0.049735</td>\n",
              "      <td>0.412625</td>\n",
              "      <td>0.115647</td>\n",
              "      <td>0.459809</td>\n",
              "      <td>0.236417</td>\n",
              "      <td>0.321600</td>\n",
              "      <td>-0.093714</td>\n",
              "      <td>0.284419</td>\n",
              "      <td>-0.004596</td>\n",
              "      <td>-0.080933</td>\n",
              "      <td>-0.065825</td>\n",
              "      <td>-0.151009</td>\n",
              "      <td>0.155224</td>\n",
              "      <td>-0.096892</td>\n",
              "      <td>0.002872</td>\n",
              "      <td>0.000551</td>\n",
              "      <td>0.101797</td>\n",
              "      <td>-0.121211</td>\n",
              "      <td>-0.080119</td>\n",
              "      <td>0.024422</td>\n",
              "      <td>-0.017791</td>\n",
              "      <td>-0.056949</td>\n",
              "      <td>-0.267732</td>\n",
              "      <td>0.141297</td>\n",
              "      <td>0.096584</td>\n",
              "      <td>-0.026974</td>\n",
              "      <td>0.028402</td>\n",
              "      <td>...</td>\n",
              "      <td>-0.098115</td>\n",
              "      <td>-0.028524</td>\n",
              "      <td>0.035408</td>\n",
              "      <td>0.025491</td>\n",
              "      <td>-0.021821</td>\n",
              "      <td>0.033120</td>\n",
              "      <td>-0.017842</td>\n",
              "      <td>0.040526</td>\n",
              "      <td>-0.003815</td>\n",
              "      <td>0.025012</td>\n",
              "      <td>0.021353</td>\n",
              "      <td>-0.009180</td>\n",
              "      <td>-0.016092</td>\n",
              "      <td>-0.039297</td>\n",
              "      <td>0.010388</td>\n",
              "      <td>0.033869</td>\n",
              "      <td>-0.017276</td>\n",
              "      <td>0.037545</td>\n",
              "      <td>0.081362</td>\n",
              "      <td>0.039221</td>\n",
              "      <td>-0.003759</td>\n",
              "      <td>0.055007</td>\n",
              "      <td>0.058313</td>\n",
              "      <td>0.081860</td>\n",
              "      <td>0.047382</td>\n",
              "      <td>-0.045064</td>\n",
              "      <td>-0.006318</td>\n",
              "      <td>0.057555</td>\n",
              "      <td>-0.028481</td>\n",
              "      <td>-0.032753</td>\n",
              "      <td>0.029697</td>\n",
              "      <td>-0.045895</td>\n",
              "      <td>0.062123</td>\n",
              "      <td>0.029905</td>\n",
              "      <td>-0.023272</td>\n",
              "      <td>-0.017531</td>\n",
              "      <td>-0.034245</td>\n",
              "      <td>0.000859</td>\n",
              "      <td>0.044809</td>\n",
              "      <td>doente</td>\n",
              "    </tr>\n",
              "    <tr>\n",
              "      <th>26803</th>\n",
              "      <td>0.466642</td>\n",
              "      <td>-0.083846</td>\n",
              "      <td>0.618787</td>\n",
              "      <td>-1.252755</td>\n",
              "      <td>-0.136168</td>\n",
              "      <td>-0.519201</td>\n",
              "      <td>-0.359752</td>\n",
              "      <td>0.198611</td>\n",
              "      <td>-0.426098</td>\n",
              "      <td>0.088244</td>\n",
              "      <td>-0.109660</td>\n",
              "      <td>-0.121280</td>\n",
              "      <td>-0.569871</td>\n",
              "      <td>-0.097933</td>\n",
              "      <td>-0.445716</td>\n",
              "      <td>0.153127</td>\n",
              "      <td>0.136763</td>\n",
              "      <td>-0.116652</td>\n",
              "      <td>-0.350342</td>\n",
              "      <td>0.220762</td>\n",
              "      <td>-0.024296</td>\n",
              "      <td>-0.190985</td>\n",
              "      <td>0.272388</td>\n",
              "      <td>-0.240689</td>\n",
              "      <td>-0.067516</td>\n",
              "      <td>-0.174699</td>\n",
              "      <td>0.206685</td>\n",
              "      <td>-0.157235</td>\n",
              "      <td>-0.087531</td>\n",
              "      <td>0.090684</td>\n",
              "      <td>-0.084446</td>\n",
              "      <td>-0.208059</td>\n",
              "      <td>0.127842</td>\n",
              "      <td>-0.119542</td>\n",
              "      <td>0.026657</td>\n",
              "      <td>-0.018850</td>\n",
              "      <td>-0.119933</td>\n",
              "      <td>-0.257968</td>\n",
              "      <td>0.164693</td>\n",
              "      <td>-0.002971</td>\n",
              "      <td>...</td>\n",
              "      <td>-0.021535</td>\n",
              "      <td>0.013929</td>\n",
              "      <td>0.009162</td>\n",
              "      <td>0.007827</td>\n",
              "      <td>0.028368</td>\n",
              "      <td>-0.013914</td>\n",
              "      <td>0.030565</td>\n",
              "      <td>-0.062182</td>\n",
              "      <td>-0.038391</td>\n",
              "      <td>-0.005560</td>\n",
              "      <td>-0.012275</td>\n",
              "      <td>-0.002770</td>\n",
              "      <td>0.016438</td>\n",
              "      <td>-0.018833</td>\n",
              "      <td>-0.019697</td>\n",
              "      <td>-0.001750</td>\n",
              "      <td>-0.016007</td>\n",
              "      <td>-0.021293</td>\n",
              "      <td>-0.017935</td>\n",
              "      <td>0.004231</td>\n",
              "      <td>0.023704</td>\n",
              "      <td>-0.009458</td>\n",
              "      <td>-0.007019</td>\n",
              "      <td>0.033466</td>\n",
              "      <td>-0.008588</td>\n",
              "      <td>-0.030944</td>\n",
              "      <td>-0.028103</td>\n",
              "      <td>0.017741</td>\n",
              "      <td>-0.046196</td>\n",
              "      <td>-0.000765</td>\n",
              "      <td>0.041075</td>\n",
              "      <td>0.027331</td>\n",
              "      <td>0.028955</td>\n",
              "      <td>0.002921</td>\n",
              "      <td>-0.015418</td>\n",
              "      <td>0.028944</td>\n",
              "      <td>0.034201</td>\n",
              "      <td>0.052908</td>\n",
              "      <td>0.039231</td>\n",
              "      <td>doente</td>\n",
              "    </tr>\n",
              "    <tr>\n",
              "      <th>26804</th>\n",
              "      <td>1.228830</td>\n",
              "      <td>-0.168165</td>\n",
              "      <td>-0.038274</td>\n",
              "      <td>-0.412927</td>\n",
              "      <td>-0.049294</td>\n",
              "      <td>0.607964</td>\n",
              "      <td>-0.507027</td>\n",
              "      <td>0.391566</td>\n",
              "      <td>-0.224544</td>\n",
              "      <td>0.093500</td>\n",
              "      <td>-0.054003</td>\n",
              "      <td>-0.149339</td>\n",
              "      <td>0.043852</td>\n",
              "      <td>-0.332615</td>\n",
              "      <td>-0.012663</td>\n",
              "      <td>-0.170138</td>\n",
              "      <td>-0.115686</td>\n",
              "      <td>-0.414968</td>\n",
              "      <td>-0.200878</td>\n",
              "      <td>-0.185649</td>\n",
              "      <td>0.132756</td>\n",
              "      <td>-0.349216</td>\n",
              "      <td>0.175200</td>\n",
              "      <td>-0.048807</td>\n",
              "      <td>-0.066053</td>\n",
              "      <td>-0.248929</td>\n",
              "      <td>-0.129600</td>\n",
              "      <td>-0.001195</td>\n",
              "      <td>0.020053</td>\n",
              "      <td>-0.143466</td>\n",
              "      <td>0.193435</td>\n",
              "      <td>-0.061939</td>\n",
              "      <td>-0.046237</td>\n",
              "      <td>0.009931</td>\n",
              "      <td>-0.392567</td>\n",
              "      <td>0.194463</td>\n",
              "      <td>0.087491</td>\n",
              "      <td>0.054585</td>\n",
              "      <td>-0.144441</td>\n",
              "      <td>0.124332</td>\n",
              "      <td>...</td>\n",
              "      <td>0.051593</td>\n",
              "      <td>-0.035444</td>\n",
              "      <td>0.028594</td>\n",
              "      <td>0.016883</td>\n",
              "      <td>0.021866</td>\n",
              "      <td>-0.033440</td>\n",
              "      <td>-0.013041</td>\n",
              "      <td>-0.020518</td>\n",
              "      <td>-0.041947</td>\n",
              "      <td>0.009847</td>\n",
              "      <td>-0.001395</td>\n",
              "      <td>0.071394</td>\n",
              "      <td>0.023936</td>\n",
              "      <td>0.043916</td>\n",
              "      <td>0.007982</td>\n",
              "      <td>0.001573</td>\n",
              "      <td>0.019870</td>\n",
              "      <td>-0.028167</td>\n",
              "      <td>0.027723</td>\n",
              "      <td>0.013613</td>\n",
              "      <td>0.007957</td>\n",
              "      <td>-0.014329</td>\n",
              "      <td>0.015129</td>\n",
              "      <td>-0.021889</td>\n",
              "      <td>-0.020307</td>\n",
              "      <td>-0.012484</td>\n",
              "      <td>0.020790</td>\n",
              "      <td>0.002012</td>\n",
              "      <td>0.005490</td>\n",
              "      <td>0.023874</td>\n",
              "      <td>-0.027650</td>\n",
              "      <td>-0.001911</td>\n",
              "      <td>0.015544</td>\n",
              "      <td>0.032236</td>\n",
              "      <td>0.013903</td>\n",
              "      <td>-0.035248</td>\n",
              "      <td>0.036322</td>\n",
              "      <td>-0.032882</td>\n",
              "      <td>-0.022473</td>\n",
              "      <td>doente</td>\n",
              "    </tr>\n",
              "    <tr>\n",
              "      <th>26805</th>\n",
              "      <td>1.286237</td>\n",
              "      <td>-0.058838</td>\n",
              "      <td>-0.121423</td>\n",
              "      <td>-0.144267</td>\n",
              "      <td>-0.049827</td>\n",
              "      <td>-0.145622</td>\n",
              "      <td>0.168851</td>\n",
              "      <td>-0.039755</td>\n",
              "      <td>0.271328</td>\n",
              "      <td>-0.097276</td>\n",
              "      <td>0.013943</td>\n",
              "      <td>-0.643481</td>\n",
              "      <td>-0.027811</td>\n",
              "      <td>-0.230776</td>\n",
              "      <td>-0.164721</td>\n",
              "      <td>0.283036</td>\n",
              "      <td>0.140010</td>\n",
              "      <td>0.016357</td>\n",
              "      <td>-0.055641</td>\n",
              "      <td>0.542774</td>\n",
              "      <td>0.115252</td>\n",
              "      <td>0.052625</td>\n",
              "      <td>-0.111792</td>\n",
              "      <td>0.279254</td>\n",
              "      <td>0.248193</td>\n",
              "      <td>0.036252</td>\n",
              "      <td>0.258922</td>\n",
              "      <td>-0.185233</td>\n",
              "      <td>-0.268995</td>\n",
              "      <td>0.205955</td>\n",
              "      <td>0.032825</td>\n",
              "      <td>-0.062868</td>\n",
              "      <td>-0.127894</td>\n",
              "      <td>0.212223</td>\n",
              "      <td>0.192833</td>\n",
              "      <td>-0.131747</td>\n",
              "      <td>-0.148166</td>\n",
              "      <td>0.010302</td>\n",
              "      <td>0.226637</td>\n",
              "      <td>0.076647</td>\n",
              "      <td>...</td>\n",
              "      <td>0.031156</td>\n",
              "      <td>-0.002864</td>\n",
              "      <td>-0.077793</td>\n",
              "      <td>0.069348</td>\n",
              "      <td>0.049593</td>\n",
              "      <td>0.069783</td>\n",
              "      <td>-0.028933</td>\n",
              "      <td>0.029245</td>\n",
              "      <td>0.007903</td>\n",
              "      <td>-0.031402</td>\n",
              "      <td>-0.042534</td>\n",
              "      <td>-0.040094</td>\n",
              "      <td>-0.008398</td>\n",
              "      <td>0.045100</td>\n",
              "      <td>-0.030337</td>\n",
              "      <td>0.005674</td>\n",
              "      <td>0.049498</td>\n",
              "      <td>0.063413</td>\n",
              "      <td>-0.006429</td>\n",
              "      <td>-0.028752</td>\n",
              "      <td>0.012171</td>\n",
              "      <td>-0.103996</td>\n",
              "      <td>0.029795</td>\n",
              "      <td>-0.045014</td>\n",
              "      <td>-0.008383</td>\n",
              "      <td>-0.012260</td>\n",
              "      <td>-0.019660</td>\n",
              "      <td>-0.046537</td>\n",
              "      <td>0.008583</td>\n",
              "      <td>0.006689</td>\n",
              "      <td>-0.021392</td>\n",
              "      <td>0.006570</td>\n",
              "      <td>-0.027515</td>\n",
              "      <td>0.021890</td>\n",
              "      <td>-0.041836</td>\n",
              "      <td>0.008157</td>\n",
              "      <td>0.074807</td>\n",
              "      <td>0.045416</td>\n",
              "      <td>0.022414</td>\n",
              "      <td>doente</td>\n",
              "    </tr>\n",
              "    <tr>\n",
              "      <th>26806</th>\n",
              "      <td>-0.440195</td>\n",
              "      <td>0.538977</td>\n",
              "      <td>0.829856</td>\n",
              "      <td>-0.372504</td>\n",
              "      <td>-0.385287</td>\n",
              "      <td>0.327090</td>\n",
              "      <td>0.323745</td>\n",
              "      <td>-0.052195</td>\n",
              "      <td>-0.363805</td>\n",
              "      <td>0.436111</td>\n",
              "      <td>0.671189</td>\n",
              "      <td>0.432352</td>\n",
              "      <td>-0.305943</td>\n",
              "      <td>-0.317627</td>\n",
              "      <td>0.158628</td>\n",
              "      <td>-0.517731</td>\n",
              "      <td>0.193817</td>\n",
              "      <td>-0.087933</td>\n",
              "      <td>-0.136339</td>\n",
              "      <td>0.039471</td>\n",
              "      <td>0.450239</td>\n",
              "      <td>-1.050061</td>\n",
              "      <td>-0.172785</td>\n",
              "      <td>-0.029138</td>\n",
              "      <td>-0.183098</td>\n",
              "      <td>0.458526</td>\n",
              "      <td>-0.337921</td>\n",
              "      <td>-0.014970</td>\n",
              "      <td>0.031925</td>\n",
              "      <td>0.322882</td>\n",
              "      <td>0.178517</td>\n",
              "      <td>0.116801</td>\n",
              "      <td>-0.007612</td>\n",
              "      <td>-0.378115</td>\n",
              "      <td>0.076875</td>\n",
              "      <td>-0.087892</td>\n",
              "      <td>-0.036283</td>\n",
              "      <td>0.431264</td>\n",
              "      <td>0.246513</td>\n",
              "      <td>-0.008856</td>\n",
              "      <td>...</td>\n",
              "      <td>0.101982</td>\n",
              "      <td>0.002432</td>\n",
              "      <td>-0.052442</td>\n",
              "      <td>0.016916</td>\n",
              "      <td>0.014650</td>\n",
              "      <td>0.010527</td>\n",
              "      <td>0.009322</td>\n",
              "      <td>0.015798</td>\n",
              "      <td>-0.039844</td>\n",
              "      <td>0.015692</td>\n",
              "      <td>0.026315</td>\n",
              "      <td>0.047005</td>\n",
              "      <td>-0.010145</td>\n",
              "      <td>-0.039655</td>\n",
              "      <td>-0.025901</td>\n",
              "      <td>0.010724</td>\n",
              "      <td>-0.063236</td>\n",
              "      <td>0.048863</td>\n",
              "      <td>0.008191</td>\n",
              "      <td>0.015325</td>\n",
              "      <td>0.028216</td>\n",
              "      <td>-0.005840</td>\n",
              "      <td>0.026220</td>\n",
              "      <td>0.050275</td>\n",
              "      <td>0.046286</td>\n",
              "      <td>0.084920</td>\n",
              "      <td>-0.109126</td>\n",
              "      <td>0.102977</td>\n",
              "      <td>0.018851</td>\n",
              "      <td>-0.051007</td>\n",
              "      <td>0.031489</td>\n",
              "      <td>0.017795</td>\n",
              "      <td>-0.025059</td>\n",
              "      <td>0.106907</td>\n",
              "      <td>0.025901</td>\n",
              "      <td>0.055523</td>\n",
              "      <td>0.049584</td>\n",
              "      <td>0.024311</td>\n",
              "      <td>-0.014640</td>\n",
              "      <td>doente</td>\n",
              "    </tr>\n",
              "  </tbody>\n",
              "</table>\n",
              "<p>26807 rows × 308 columns</p>\n",
              "</div>\n",
              "      <button class=\"colab-df-convert\" onclick=\"convertToInteractive('df-816db38d-7af3-4008-bcd4-0b7bd72ceff3')\"\n",
              "              title=\"Convert this dataframe to an interactive table.\"\n",
              "              style=\"display:none;\">\n",
              "        \n",
              "  <svg xmlns=\"http://www.w3.org/2000/svg\" height=\"24px\"viewBox=\"0 0 24 24\"\n",
              "       width=\"24px\">\n",
              "    <path d=\"M0 0h24v24H0V0z\" fill=\"none\"/>\n",
              "    <path d=\"M18.56 5.44l.94 2.06.94-2.06 2.06-.94-2.06-.94-.94-2.06-.94 2.06-2.06.94zm-11 1L8.5 8.5l.94-2.06 2.06-.94-2.06-.94L8.5 2.5l-.94 2.06-2.06.94zm10 10l.94 2.06.94-2.06 2.06-.94-2.06-.94-.94-2.06-.94 2.06-2.06.94z\"/><path d=\"M17.41 7.96l-1.37-1.37c-.4-.4-.92-.59-1.43-.59-.52 0-1.04.2-1.43.59L10.3 9.45l-7.72 7.72c-.78.78-.78 2.05 0 2.83L4 21.41c.39.39.9.59 1.41.59.51 0 1.02-.2 1.41-.59l7.78-7.78 2.81-2.81c.8-.78.8-2.07 0-2.86zM5.41 20L4 18.59l7.72-7.72 1.47 1.35L5.41 20z\"/>\n",
              "  </svg>\n",
              "      </button>\n",
              "      \n",
              "  <style>\n",
              "    .colab-df-container {\n",
              "      display:flex;\n",
              "      flex-wrap:wrap;\n",
              "      gap: 12px;\n",
              "    }\n",
              "\n",
              "    .colab-df-convert {\n",
              "      background-color: #E8F0FE;\n",
              "      border: none;\n",
              "      border-radius: 50%;\n",
              "      cursor: pointer;\n",
              "      display: none;\n",
              "      fill: #1967D2;\n",
              "      height: 32px;\n",
              "      padding: 0 0 0 0;\n",
              "      width: 32px;\n",
              "    }\n",
              "\n",
              "    .colab-df-convert:hover {\n",
              "      background-color: #E2EBFA;\n",
              "      box-shadow: 0px 1px 2px rgba(60, 64, 67, 0.3), 0px 1px 3px 1px rgba(60, 64, 67, 0.15);\n",
              "      fill: #174EA6;\n",
              "    }\n",
              "\n",
              "    [theme=dark] .colab-df-convert {\n",
              "      background-color: #3B4455;\n",
              "      fill: #D2E3FC;\n",
              "    }\n",
              "\n",
              "    [theme=dark] .colab-df-convert:hover {\n",
              "      background-color: #434B5C;\n",
              "      box-shadow: 0px 1px 3px 1px rgba(0, 0, 0, 0.15);\n",
              "      filter: drop-shadow(0px 1px 2px rgba(0, 0, 0, 0.3));\n",
              "      fill: #FFFFFF;\n",
              "    }\n",
              "  </style>\n",
              "\n",
              "      <script>\n",
              "        const buttonEl =\n",
              "          document.querySelector('#df-816db38d-7af3-4008-bcd4-0b7bd72ceff3 button.colab-df-convert');\n",
              "        buttonEl.style.display =\n",
              "          google.colab.kernel.accessAllowed ? 'block' : 'none';\n",
              "\n",
              "        async function convertToInteractive(key) {\n",
              "          const element = document.querySelector('#df-816db38d-7af3-4008-bcd4-0b7bd72ceff3');\n",
              "          const dataTable =\n",
              "            await google.colab.kernel.invokeFunction('convertToInteractive',\n",
              "                                                     [key], {});\n",
              "          if (!dataTable) return;\n",
              "\n",
              "          const docLinkHtml = 'Like what you see? Visit the ' +\n",
              "            '<a target=\"_blank\" href=https://colab.research.google.com/notebooks/data_table.ipynb>data table notebook</a>'\n",
              "            + ' to learn more about interactive tables.';\n",
              "          element.innerHTML = '';\n",
              "          dataTable['output_type'] = 'display_data';\n",
              "          await google.colab.output.renderOutput(dataTable, element);\n",
              "          const docLink = document.createElement('div');\n",
              "          docLink.innerHTML = docLinkHtml;\n",
              "          element.appendChild(docLink);\n",
              "        }\n",
              "      </script>\n",
              "    </div>\n",
              "  </div>\n",
              "  "
            ],
            "text/plain": [
              "              0         1         2  ...       305       306    classe\n",
              "0     -0.800885 -0.127907 -1.118607  ...  0.019153 -0.038830  saudavel\n",
              "1     -1.112906 -0.078094 -0.048163  ... -0.008647 -0.025267  saudavel\n",
              "2     -0.418159  0.041575 -1.193468  ...  0.006139 -0.040449  saudavel\n",
              "3     -0.168842  0.574866  1.096359  ...  0.043904 -0.039844  saudavel\n",
              "4     -1.373024 -0.206016 -0.346065  ... -0.011720 -0.008962  saudavel\n",
              "...         ...       ...       ...  ...       ...       ...       ...\n",
              "26802  1.083147  0.102716  0.009510  ...  0.000859  0.044809    doente\n",
              "26803  0.466642 -0.083846  0.618787  ...  0.052908  0.039231    doente\n",
              "26804  1.228830 -0.168165 -0.038274  ... -0.032882 -0.022473    doente\n",
              "26805  1.286237 -0.058838 -0.121423  ...  0.045416  0.022414    doente\n",
              "26806 -0.440195  0.538977  0.829856  ...  0.024311 -0.014640    doente\n",
              "\n",
              "[26807 rows x 308 columns]"
            ]
          },
          "metadata": {},
          "execution_count": 6
        }
      ]
    },
    {
      "cell_type": "code",
      "metadata": {
        "colab": {
          "base_uri": "https://localhost:8080/",
          "height": 487
        },
        "id": "_UgHhlffqQvj",
        "outputId": "b45588d3-182e-4fa1-f79b-03185e34a337"
      },
      "source": [
        "base_completa_10 = pd.read_csv(folder+'base_completa_10.csv')\n",
        "base_completa_10"
      ],
      "execution_count": null,
      "outputs": [
        {
          "output_type": "execute_result",
          "data": {
            "text/html": [
              "\n",
              "  <div id=\"df-164b9c10-93f8-4e67-91dd-55154d2d142f\">\n",
              "    <div class=\"colab-df-container\">\n",
              "      <div>\n",
              "<style scoped>\n",
              "    .dataframe tbody tr th:only-of-type {\n",
              "        vertical-align: middle;\n",
              "    }\n",
              "\n",
              "    .dataframe tbody tr th {\n",
              "        vertical-align: top;\n",
              "    }\n",
              "\n",
              "    .dataframe thead th {\n",
              "        text-align: right;\n",
              "    }\n",
              "</style>\n",
              "<table border=\"1\" class=\"dataframe\">\n",
              "  <thead>\n",
              "    <tr style=\"text-align: right;\">\n",
              "      <th></th>\n",
              "      <th>0</th>\n",
              "      <th>1</th>\n",
              "      <th>2</th>\n",
              "      <th>3</th>\n",
              "      <th>4</th>\n",
              "      <th>5</th>\n",
              "      <th>6</th>\n",
              "      <th>7</th>\n",
              "      <th>8</th>\n",
              "      <th>9</th>\n",
              "      <th>10</th>\n",
              "      <th>11</th>\n",
              "      <th>12</th>\n",
              "      <th>13</th>\n",
              "      <th>14</th>\n",
              "      <th>15</th>\n",
              "      <th>16</th>\n",
              "      <th>17</th>\n",
              "      <th>18</th>\n",
              "      <th>19</th>\n",
              "      <th>20</th>\n",
              "      <th>21</th>\n",
              "      <th>22</th>\n",
              "      <th>23</th>\n",
              "      <th>24</th>\n",
              "      <th>25</th>\n",
              "      <th>26</th>\n",
              "      <th>27</th>\n",
              "      <th>28</th>\n",
              "      <th>29</th>\n",
              "      <th>30</th>\n",
              "      <th>31</th>\n",
              "      <th>32</th>\n",
              "      <th>33</th>\n",
              "      <th>34</th>\n",
              "      <th>35</th>\n",
              "      <th>36</th>\n",
              "      <th>37</th>\n",
              "      <th>38</th>\n",
              "      <th>39</th>\n",
              "      <th>...</th>\n",
              "      <th>63</th>\n",
              "      <th>64</th>\n",
              "      <th>65</th>\n",
              "      <th>66</th>\n",
              "      <th>67</th>\n",
              "      <th>68</th>\n",
              "      <th>69</th>\n",
              "      <th>70</th>\n",
              "      <th>71</th>\n",
              "      <th>72</th>\n",
              "      <th>73</th>\n",
              "      <th>74</th>\n",
              "      <th>75</th>\n",
              "      <th>76</th>\n",
              "      <th>77</th>\n",
              "      <th>78</th>\n",
              "      <th>79</th>\n",
              "      <th>80</th>\n",
              "      <th>81</th>\n",
              "      <th>82</th>\n",
              "      <th>83</th>\n",
              "      <th>84</th>\n",
              "      <th>85</th>\n",
              "      <th>86</th>\n",
              "      <th>87</th>\n",
              "      <th>88</th>\n",
              "      <th>89</th>\n",
              "      <th>90</th>\n",
              "      <th>91</th>\n",
              "      <th>92</th>\n",
              "      <th>93</th>\n",
              "      <th>94</th>\n",
              "      <th>95</th>\n",
              "      <th>96</th>\n",
              "      <th>97</th>\n",
              "      <th>98</th>\n",
              "      <th>99</th>\n",
              "      <th>100</th>\n",
              "      <th>101</th>\n",
              "      <th>classe</th>\n",
              "    </tr>\n",
              "  </thead>\n",
              "  <tbody>\n",
              "    <tr>\n",
              "      <th>0</th>\n",
              "      <td>-0.800885</td>\n",
              "      <td>-0.127907</td>\n",
              "      <td>-1.118607</td>\n",
              "      <td>0.422056</td>\n",
              "      <td>-0.365478</td>\n",
              "      <td>-0.208737</td>\n",
              "      <td>0.129566</td>\n",
              "      <td>-0.310453</td>\n",
              "      <td>0.358002</td>\n",
              "      <td>-0.042962</td>\n",
              "      <td>0.173443</td>\n",
              "      <td>-0.231428</td>\n",
              "      <td>-0.000463</td>\n",
              "      <td>0.194073</td>\n",
              "      <td>-0.220572</td>\n",
              "      <td>0.012254</td>\n",
              "      <td>-0.234384</td>\n",
              "      <td>-0.075511</td>\n",
              "      <td>0.041671</td>\n",
              "      <td>0.320505</td>\n",
              "      <td>0.255771</td>\n",
              "      <td>-0.271065</td>\n",
              "      <td>0.174298</td>\n",
              "      <td>-0.000985</td>\n",
              "      <td>0.188685</td>\n",
              "      <td>0.302891</td>\n",
              "      <td>0.193370</td>\n",
              "      <td>-0.036782</td>\n",
              "      <td>0.268545</td>\n",
              "      <td>0.027711</td>\n",
              "      <td>-0.198368</td>\n",
              "      <td>-0.095535</td>\n",
              "      <td>0.122312</td>\n",
              "      <td>-0.189417</td>\n",
              "      <td>-0.184515</td>\n",
              "      <td>-0.148881</td>\n",
              "      <td>-0.000190</td>\n",
              "      <td>-0.317677</td>\n",
              "      <td>0.120293</td>\n",
              "      <td>0.030814</td>\n",
              "      <td>...</td>\n",
              "      <td>-0.049381</td>\n",
              "      <td>0.004472</td>\n",
              "      <td>-0.078571</td>\n",
              "      <td>0.055591</td>\n",
              "      <td>-0.009662</td>\n",
              "      <td>0.023165</td>\n",
              "      <td>0.113242</td>\n",
              "      <td>-0.073879</td>\n",
              "      <td>-0.023032</td>\n",
              "      <td>0.070731</td>\n",
              "      <td>-0.104777</td>\n",
              "      <td>-0.049526</td>\n",
              "      <td>-0.001566</td>\n",
              "      <td>0.101259</td>\n",
              "      <td>0.026340</td>\n",
              "      <td>0.054836</td>\n",
              "      <td>-0.092075</td>\n",
              "      <td>-0.080312</td>\n",
              "      <td>-0.030831</td>\n",
              "      <td>0.098130</td>\n",
              "      <td>0.043453</td>\n",
              "      <td>0.009895</td>\n",
              "      <td>-0.136532</td>\n",
              "      <td>-0.076376</td>\n",
              "      <td>-0.025149</td>\n",
              "      <td>0.035410</td>\n",
              "      <td>-0.006353</td>\n",
              "      <td>0.032950</td>\n",
              "      <td>-0.011111</td>\n",
              "      <td>0.002890</td>\n",
              "      <td>0.011894</td>\n",
              "      <td>-0.088355</td>\n",
              "      <td>0.015540</td>\n",
              "      <td>-0.017596</td>\n",
              "      <td>-0.108819</td>\n",
              "      <td>-0.025828</td>\n",
              "      <td>-0.002565</td>\n",
              "      <td>0.077144</td>\n",
              "      <td>0.050618</td>\n",
              "      <td>saudavel</td>\n",
              "    </tr>\n",
              "    <tr>\n",
              "      <th>1</th>\n",
              "      <td>-1.112906</td>\n",
              "      <td>-0.078094</td>\n",
              "      <td>-0.048163</td>\n",
              "      <td>-0.137572</td>\n",
              "      <td>0.095455</td>\n",
              "      <td>0.129049</td>\n",
              "      <td>-0.029178</td>\n",
              "      <td>0.466757</td>\n",
              "      <td>0.138500</td>\n",
              "      <td>0.255023</td>\n",
              "      <td>-0.026237</td>\n",
              "      <td>-0.300597</td>\n",
              "      <td>0.133010</td>\n",
              "      <td>0.521153</td>\n",
              "      <td>0.023661</td>\n",
              "      <td>0.090049</td>\n",
              "      <td>0.071127</td>\n",
              "      <td>0.220778</td>\n",
              "      <td>0.265234</td>\n",
              "      <td>-0.259593</td>\n",
              "      <td>0.088190</td>\n",
              "      <td>-0.047439</td>\n",
              "      <td>0.334685</td>\n",
              "      <td>-0.037246</td>\n",
              "      <td>-0.288488</td>\n",
              "      <td>0.054391</td>\n",
              "      <td>-0.096988</td>\n",
              "      <td>0.014165</td>\n",
              "      <td>-0.063870</td>\n",
              "      <td>-0.037096</td>\n",
              "      <td>-0.017461</td>\n",
              "      <td>0.074921</td>\n",
              "      <td>0.067816</td>\n",
              "      <td>-0.235248</td>\n",
              "      <td>-0.161140</td>\n",
              "      <td>-0.342903</td>\n",
              "      <td>-0.221835</td>\n",
              "      <td>-0.084275</td>\n",
              "      <td>-0.221707</td>\n",
              "      <td>0.231131</td>\n",
              "      <td>...</td>\n",
              "      <td>0.100801</td>\n",
              "      <td>0.057299</td>\n",
              "      <td>-0.132811</td>\n",
              "      <td>0.298649</td>\n",
              "      <td>0.023920</td>\n",
              "      <td>-0.220775</td>\n",
              "      <td>0.055625</td>\n",
              "      <td>-0.000306</td>\n",
              "      <td>0.005900</td>\n",
              "      <td>-0.172403</td>\n",
              "      <td>0.046722</td>\n",
              "      <td>-0.080842</td>\n",
              "      <td>-0.009483</td>\n",
              "      <td>-0.112791</td>\n",
              "      <td>0.170189</td>\n",
              "      <td>-0.016691</td>\n",
              "      <td>0.126627</td>\n",
              "      <td>0.009756</td>\n",
              "      <td>-0.015627</td>\n",
              "      <td>0.168494</td>\n",
              "      <td>-0.059026</td>\n",
              "      <td>0.170837</td>\n",
              "      <td>-0.016675</td>\n",
              "      <td>-0.136132</td>\n",
              "      <td>-0.058100</td>\n",
              "      <td>-0.119295</td>\n",
              "      <td>0.057433</td>\n",
              "      <td>0.120264</td>\n",
              "      <td>-0.077522</td>\n",
              "      <td>-0.063780</td>\n",
              "      <td>0.078012</td>\n",
              "      <td>0.023803</td>\n",
              "      <td>0.068409</td>\n",
              "      <td>0.063959</td>\n",
              "      <td>0.112977</td>\n",
              "      <td>-0.056424</td>\n",
              "      <td>0.130933</td>\n",
              "      <td>0.010256</td>\n",
              "      <td>0.074602</td>\n",
              "      <td>saudavel</td>\n",
              "    </tr>\n",
              "    <tr>\n",
              "      <th>2</th>\n",
              "      <td>-0.418159</td>\n",
              "      <td>0.041575</td>\n",
              "      <td>-1.193468</td>\n",
              "      <td>0.405295</td>\n",
              "      <td>-0.449510</td>\n",
              "      <td>0.026221</td>\n",
              "      <td>-0.276051</td>\n",
              "      <td>-0.150121</td>\n",
              "      <td>0.077471</td>\n",
              "      <td>0.293131</td>\n",
              "      <td>-0.092016</td>\n",
              "      <td>0.122888</td>\n",
              "      <td>-0.018685</td>\n",
              "      <td>0.044825</td>\n",
              "      <td>-0.112340</td>\n",
              "      <td>-0.127425</td>\n",
              "      <td>0.132226</td>\n",
              "      <td>0.104224</td>\n",
              "      <td>-0.118805</td>\n",
              "      <td>-0.070402</td>\n",
              "      <td>0.300349</td>\n",
              "      <td>-0.037330</td>\n",
              "      <td>0.135835</td>\n",
              "      <td>-0.067648</td>\n",
              "      <td>0.019538</td>\n",
              "      <td>-0.113150</td>\n",
              "      <td>0.276852</td>\n",
              "      <td>0.127149</td>\n",
              "      <td>0.145240</td>\n",
              "      <td>0.347202</td>\n",
              "      <td>0.013719</td>\n",
              "      <td>0.081960</td>\n",
              "      <td>-0.127205</td>\n",
              "      <td>-0.130340</td>\n",
              "      <td>0.178103</td>\n",
              "      <td>0.032591</td>\n",
              "      <td>0.060500</td>\n",
              "      <td>0.023974</td>\n",
              "      <td>0.024799</td>\n",
              "      <td>0.049117</td>\n",
              "      <td>...</td>\n",
              "      <td>-0.055622</td>\n",
              "      <td>0.045438</td>\n",
              "      <td>-0.077794</td>\n",
              "      <td>0.118667</td>\n",
              "      <td>-0.074331</td>\n",
              "      <td>0.027798</td>\n",
              "      <td>0.056094</td>\n",
              "      <td>-0.047609</td>\n",
              "      <td>-0.051406</td>\n",
              "      <td>0.161148</td>\n",
              "      <td>-0.016713</td>\n",
              "      <td>0.032394</td>\n",
              "      <td>-0.031554</td>\n",
              "      <td>-0.030871</td>\n",
              "      <td>0.049245</td>\n",
              "      <td>-0.031294</td>\n",
              "      <td>0.049894</td>\n",
              "      <td>-0.050213</td>\n",
              "      <td>0.065210</td>\n",
              "      <td>0.090633</td>\n",
              "      <td>-0.003455</td>\n",
              "      <td>0.044109</td>\n",
              "      <td>-0.025966</td>\n",
              "      <td>-0.006609</td>\n",
              "      <td>-0.017983</td>\n",
              "      <td>0.040587</td>\n",
              "      <td>-0.093355</td>\n",
              "      <td>-0.055905</td>\n",
              "      <td>-0.054394</td>\n",
              "      <td>-0.024996</td>\n",
              "      <td>0.024483</td>\n",
              "      <td>-0.108878</td>\n",
              "      <td>0.062812</td>\n",
              "      <td>-0.072701</td>\n",
              "      <td>-0.014972</td>\n",
              "      <td>-0.012073</td>\n",
              "      <td>0.010711</td>\n",
              "      <td>0.010456</td>\n",
              "      <td>0.053370</td>\n",
              "      <td>saudavel</td>\n",
              "    </tr>\n",
              "    <tr>\n",
              "      <th>3</th>\n",
              "      <td>-0.168842</td>\n",
              "      <td>0.574866</td>\n",
              "      <td>1.096359</td>\n",
              "      <td>0.803030</td>\n",
              "      <td>-0.519264</td>\n",
              "      <td>-0.129436</td>\n",
              "      <td>0.769318</td>\n",
              "      <td>-0.109301</td>\n",
              "      <td>0.717793</td>\n",
              "      <td>-0.078790</td>\n",
              "      <td>-0.099115</td>\n",
              "      <td>-0.925692</td>\n",
              "      <td>-0.666286</td>\n",
              "      <td>-0.721502</td>\n",
              "      <td>0.971760</td>\n",
              "      <td>0.121315</td>\n",
              "      <td>-0.387605</td>\n",
              "      <td>0.173022</td>\n",
              "      <td>0.005397</td>\n",
              "      <td>-0.195056</td>\n",
              "      <td>0.464039</td>\n",
              "      <td>-0.088956</td>\n",
              "      <td>0.210982</td>\n",
              "      <td>0.428115</td>\n",
              "      <td>-0.060904</td>\n",
              "      <td>0.489225</td>\n",
              "      <td>0.018359</td>\n",
              "      <td>-0.094972</td>\n",
              "      <td>0.033091</td>\n",
              "      <td>-0.154218</td>\n",
              "      <td>-0.243098</td>\n",
              "      <td>-0.032042</td>\n",
              "      <td>-0.422946</td>\n",
              "      <td>0.108665</td>\n",
              "      <td>0.209493</td>\n",
              "      <td>-0.007314</td>\n",
              "      <td>-0.171698</td>\n",
              "      <td>0.246691</td>\n",
              "      <td>-0.202434</td>\n",
              "      <td>0.024503</td>\n",
              "      <td>...</td>\n",
              "      <td>0.117725</td>\n",
              "      <td>-0.069333</td>\n",
              "      <td>0.104323</td>\n",
              "      <td>0.215277</td>\n",
              "      <td>-0.170125</td>\n",
              "      <td>0.000795</td>\n",
              "      <td>-0.042200</td>\n",
              "      <td>0.094660</td>\n",
              "      <td>-0.052084</td>\n",
              "      <td>0.045831</td>\n",
              "      <td>-0.070491</td>\n",
              "      <td>0.039017</td>\n",
              "      <td>0.018336</td>\n",
              "      <td>-0.039566</td>\n",
              "      <td>-0.056716</td>\n",
              "      <td>0.058000</td>\n",
              "      <td>0.077543</td>\n",
              "      <td>-0.258290</td>\n",
              "      <td>-0.062176</td>\n",
              "      <td>0.115604</td>\n",
              "      <td>0.045558</td>\n",
              "      <td>-0.225465</td>\n",
              "      <td>-0.019101</td>\n",
              "      <td>0.095287</td>\n",
              "      <td>-0.192127</td>\n",
              "      <td>-0.035724</td>\n",
              "      <td>0.022220</td>\n",
              "      <td>-0.003420</td>\n",
              "      <td>0.008316</td>\n",
              "      <td>-0.022923</td>\n",
              "      <td>-0.011873</td>\n",
              "      <td>0.097905</td>\n",
              "      <td>-0.013696</td>\n",
              "      <td>-0.205426</td>\n",
              "      <td>-0.067532</td>\n",
              "      <td>-0.125597</td>\n",
              "      <td>0.026003</td>\n",
              "      <td>0.068598</td>\n",
              "      <td>-0.011924</td>\n",
              "      <td>saudavel</td>\n",
              "    </tr>\n",
              "    <tr>\n",
              "      <th>4</th>\n",
              "      <td>-1.373024</td>\n",
              "      <td>-0.206016</td>\n",
              "      <td>-0.346065</td>\n",
              "      <td>0.078609</td>\n",
              "      <td>-0.092544</td>\n",
              "      <td>-0.317090</td>\n",
              "      <td>0.052357</td>\n",
              "      <td>-0.040050</td>\n",
              "      <td>-0.177057</td>\n",
              "      <td>-0.182608</td>\n",
              "      <td>0.113848</td>\n",
              "      <td>0.132140</td>\n",
              "      <td>0.103628</td>\n",
              "      <td>-0.138031</td>\n",
              "      <td>-0.096601</td>\n",
              "      <td>0.077997</td>\n",
              "      <td>-0.140785</td>\n",
              "      <td>0.034929</td>\n",
              "      <td>0.026434</td>\n",
              "      <td>0.113462</td>\n",
              "      <td>0.041045</td>\n",
              "      <td>-0.160090</td>\n",
              "      <td>0.025202</td>\n",
              "      <td>-0.124881</td>\n",
              "      <td>0.087513</td>\n",
              "      <td>0.060743</td>\n",
              "      <td>-0.156515</td>\n",
              "      <td>0.068098</td>\n",
              "      <td>0.041846</td>\n",
              "      <td>-0.113006</td>\n",
              "      <td>-0.088118</td>\n",
              "      <td>0.006977</td>\n",
              "      <td>0.089648</td>\n",
              "      <td>-0.037656</td>\n",
              "      <td>0.014012</td>\n",
              "      <td>0.077236</td>\n",
              "      <td>0.026231</td>\n",
              "      <td>0.001631</td>\n",
              "      <td>-0.073660</td>\n",
              "      <td>0.061546</td>\n",
              "      <td>...</td>\n",
              "      <td>0.010899</td>\n",
              "      <td>0.048345</td>\n",
              "      <td>0.015229</td>\n",
              "      <td>0.118826</td>\n",
              "      <td>-0.057064</td>\n",
              "      <td>-0.043265</td>\n",
              "      <td>0.003033</td>\n",
              "      <td>0.039549</td>\n",
              "      <td>0.025499</td>\n",
              "      <td>0.101687</td>\n",
              "      <td>-0.044582</td>\n",
              "      <td>0.072827</td>\n",
              "      <td>0.005803</td>\n",
              "      <td>0.035424</td>\n",
              "      <td>0.022955</td>\n",
              "      <td>0.048613</td>\n",
              "      <td>0.007525</td>\n",
              "      <td>-0.014254</td>\n",
              "      <td>0.000830</td>\n",
              "      <td>0.039195</td>\n",
              "      <td>-0.040215</td>\n",
              "      <td>0.080828</td>\n",
              "      <td>0.012506</td>\n",
              "      <td>-0.042801</td>\n",
              "      <td>-0.052248</td>\n",
              "      <td>-0.028581</td>\n",
              "      <td>-0.003009</td>\n",
              "      <td>0.018786</td>\n",
              "      <td>0.024046</td>\n",
              "      <td>-0.051507</td>\n",
              "      <td>-0.063504</td>\n",
              "      <td>-0.024714</td>\n",
              "      <td>0.006731</td>\n",
              "      <td>0.047306</td>\n",
              "      <td>-0.027995</td>\n",
              "      <td>-0.008804</td>\n",
              "      <td>-0.090069</td>\n",
              "      <td>0.040463</td>\n",
              "      <td>-0.053570</td>\n",
              "      <td>saudavel</td>\n",
              "    </tr>\n",
              "    <tr>\n",
              "      <th>...</th>\n",
              "      <td>...</td>\n",
              "      <td>...</td>\n",
              "      <td>...</td>\n",
              "      <td>...</td>\n",
              "      <td>...</td>\n",
              "      <td>...</td>\n",
              "      <td>...</td>\n",
              "      <td>...</td>\n",
              "      <td>...</td>\n",
              "      <td>...</td>\n",
              "      <td>...</td>\n",
              "      <td>...</td>\n",
              "      <td>...</td>\n",
              "      <td>...</td>\n",
              "      <td>...</td>\n",
              "      <td>...</td>\n",
              "      <td>...</td>\n",
              "      <td>...</td>\n",
              "      <td>...</td>\n",
              "      <td>...</td>\n",
              "      <td>...</td>\n",
              "      <td>...</td>\n",
              "      <td>...</td>\n",
              "      <td>...</td>\n",
              "      <td>...</td>\n",
              "      <td>...</td>\n",
              "      <td>...</td>\n",
              "      <td>...</td>\n",
              "      <td>...</td>\n",
              "      <td>...</td>\n",
              "      <td>...</td>\n",
              "      <td>...</td>\n",
              "      <td>...</td>\n",
              "      <td>...</td>\n",
              "      <td>...</td>\n",
              "      <td>...</td>\n",
              "      <td>...</td>\n",
              "      <td>...</td>\n",
              "      <td>...</td>\n",
              "      <td>...</td>\n",
              "      <td>...</td>\n",
              "      <td>...</td>\n",
              "      <td>...</td>\n",
              "      <td>...</td>\n",
              "      <td>...</td>\n",
              "      <td>...</td>\n",
              "      <td>...</td>\n",
              "      <td>...</td>\n",
              "      <td>...</td>\n",
              "      <td>...</td>\n",
              "      <td>...</td>\n",
              "      <td>...</td>\n",
              "      <td>...</td>\n",
              "      <td>...</td>\n",
              "      <td>...</td>\n",
              "      <td>...</td>\n",
              "      <td>...</td>\n",
              "      <td>...</td>\n",
              "      <td>...</td>\n",
              "      <td>...</td>\n",
              "      <td>...</td>\n",
              "      <td>...</td>\n",
              "      <td>...</td>\n",
              "      <td>...</td>\n",
              "      <td>...</td>\n",
              "      <td>...</td>\n",
              "      <td>...</td>\n",
              "      <td>...</td>\n",
              "      <td>...</td>\n",
              "      <td>...</td>\n",
              "      <td>...</td>\n",
              "      <td>...</td>\n",
              "      <td>...</td>\n",
              "      <td>...</td>\n",
              "      <td>...</td>\n",
              "      <td>...</td>\n",
              "      <td>...</td>\n",
              "      <td>...</td>\n",
              "      <td>...</td>\n",
              "      <td>...</td>\n",
              "      <td>...</td>\n",
              "    </tr>\n",
              "    <tr>\n",
              "      <th>26802</th>\n",
              "      <td>1.083147</td>\n",
              "      <td>0.102716</td>\n",
              "      <td>0.009510</td>\n",
              "      <td>0.165226</td>\n",
              "      <td>0.343889</td>\n",
              "      <td>-0.294773</td>\n",
              "      <td>-0.092938</td>\n",
              "      <td>0.114983</td>\n",
              "      <td>0.309242</td>\n",
              "      <td>-0.285076</td>\n",
              "      <td>0.300044</td>\n",
              "      <td>-0.234334</td>\n",
              "      <td>-0.329936</td>\n",
              "      <td>-0.049735</td>\n",
              "      <td>0.412625</td>\n",
              "      <td>0.115647</td>\n",
              "      <td>0.459809</td>\n",
              "      <td>0.236417</td>\n",
              "      <td>0.321600</td>\n",
              "      <td>-0.093714</td>\n",
              "      <td>0.284419</td>\n",
              "      <td>-0.004597</td>\n",
              "      <td>-0.080933</td>\n",
              "      <td>-0.065826</td>\n",
              "      <td>-0.151008</td>\n",
              "      <td>0.155223</td>\n",
              "      <td>-0.096892</td>\n",
              "      <td>0.002871</td>\n",
              "      <td>0.000551</td>\n",
              "      <td>0.101796</td>\n",
              "      <td>-0.121213</td>\n",
              "      <td>-0.080121</td>\n",
              "      <td>0.024421</td>\n",
              "      <td>-0.017796</td>\n",
              "      <td>-0.056951</td>\n",
              "      <td>-0.267730</td>\n",
              "      <td>0.141286</td>\n",
              "      <td>0.096573</td>\n",
              "      <td>-0.026961</td>\n",
              "      <td>0.028414</td>\n",
              "      <td>...</td>\n",
              "      <td>-0.050082</td>\n",
              "      <td>-0.056771</td>\n",
              "      <td>-0.043519</td>\n",
              "      <td>0.208446</td>\n",
              "      <td>-0.089424</td>\n",
              "      <td>0.090378</td>\n",
              "      <td>0.006107</td>\n",
              "      <td>-0.009075</td>\n",
              "      <td>0.110672</td>\n",
              "      <td>-0.231375</td>\n",
              "      <td>0.124614</td>\n",
              "      <td>-0.019007</td>\n",
              "      <td>-0.071836</td>\n",
              "      <td>-0.153421</td>\n",
              "      <td>0.020118</td>\n",
              "      <td>-0.057871</td>\n",
              "      <td>-0.003679</td>\n",
              "      <td>-0.032286</td>\n",
              "      <td>0.075688</td>\n",
              "      <td>0.077675</td>\n",
              "      <td>-0.041350</td>\n",
              "      <td>0.258722</td>\n",
              "      <td>0.052481</td>\n",
              "      <td>0.113523</td>\n",
              "      <td>0.128699</td>\n",
              "      <td>-0.194021</td>\n",
              "      <td>-0.108304</td>\n",
              "      <td>0.172521</td>\n",
              "      <td>-0.006459</td>\n",
              "      <td>-0.030399</td>\n",
              "      <td>0.053597</td>\n",
              "      <td>-0.159517</td>\n",
              "      <td>-0.021542</td>\n",
              "      <td>0.069246</td>\n",
              "      <td>-0.122727</td>\n",
              "      <td>0.106226</td>\n",
              "      <td>-0.143947</td>\n",
              "      <td>0.038939</td>\n",
              "      <td>-0.187791</td>\n",
              "      <td>doente</td>\n",
              "    </tr>\n",
              "    <tr>\n",
              "      <th>26803</th>\n",
              "      <td>0.466642</td>\n",
              "      <td>-0.083846</td>\n",
              "      <td>0.618787</td>\n",
              "      <td>-1.252755</td>\n",
              "      <td>-0.136168</td>\n",
              "      <td>-0.519201</td>\n",
              "      <td>-0.359752</td>\n",
              "      <td>0.198611</td>\n",
              "      <td>-0.426098</td>\n",
              "      <td>0.088244</td>\n",
              "      <td>-0.109660</td>\n",
              "      <td>-0.121280</td>\n",
              "      <td>-0.569871</td>\n",
              "      <td>-0.097933</td>\n",
              "      <td>-0.445716</td>\n",
              "      <td>0.153127</td>\n",
              "      <td>0.136763</td>\n",
              "      <td>-0.116652</td>\n",
              "      <td>-0.350342</td>\n",
              "      <td>0.220762</td>\n",
              "      <td>-0.024296</td>\n",
              "      <td>-0.190985</td>\n",
              "      <td>0.272388</td>\n",
              "      <td>-0.240689</td>\n",
              "      <td>-0.067515</td>\n",
              "      <td>-0.174700</td>\n",
              "      <td>0.206687</td>\n",
              "      <td>-0.157235</td>\n",
              "      <td>-0.087529</td>\n",
              "      <td>0.090681</td>\n",
              "      <td>-0.084446</td>\n",
              "      <td>-0.208056</td>\n",
              "      <td>0.127848</td>\n",
              "      <td>-0.119546</td>\n",
              "      <td>0.026648</td>\n",
              "      <td>-0.018848</td>\n",
              "      <td>-0.119939</td>\n",
              "      <td>-0.257979</td>\n",
              "      <td>0.164700</td>\n",
              "      <td>-0.002970</td>\n",
              "      <td>...</td>\n",
              "      <td>-0.123539</td>\n",
              "      <td>-0.043795</td>\n",
              "      <td>0.049840</td>\n",
              "      <td>-0.117464</td>\n",
              "      <td>0.043986</td>\n",
              "      <td>0.204861</td>\n",
              "      <td>-0.176108</td>\n",
              "      <td>-0.040803</td>\n",
              "      <td>0.033026</td>\n",
              "      <td>0.035631</td>\n",
              "      <td>0.064406</td>\n",
              "      <td>-0.046311</td>\n",
              "      <td>-0.017029</td>\n",
              "      <td>0.094313</td>\n",
              "      <td>-0.095234</td>\n",
              "      <td>-0.045473</td>\n",
              "      <td>0.060849</td>\n",
              "      <td>0.085393</td>\n",
              "      <td>0.048379</td>\n",
              "      <td>-0.074546</td>\n",
              "      <td>-0.001733</td>\n",
              "      <td>-0.034877</td>\n",
              "      <td>-0.090745</td>\n",
              "      <td>0.062817</td>\n",
              "      <td>0.170491</td>\n",
              "      <td>-0.016198</td>\n",
              "      <td>-0.007728</td>\n",
              "      <td>0.066926</td>\n",
              "      <td>0.148227</td>\n",
              "      <td>0.006736</td>\n",
              "      <td>-0.035128</td>\n",
              "      <td>-0.017249</td>\n",
              "      <td>-0.042407</td>\n",
              "      <td>-0.140639</td>\n",
              "      <td>-0.074401</td>\n",
              "      <td>-0.095781</td>\n",
              "      <td>0.023300</td>\n",
              "      <td>-0.024077</td>\n",
              "      <td>0.012427</td>\n",
              "      <td>doente</td>\n",
              "    </tr>\n",
              "    <tr>\n",
              "      <th>26804</th>\n",
              "      <td>1.228830</td>\n",
              "      <td>-0.168165</td>\n",
              "      <td>-0.038274</td>\n",
              "      <td>-0.412927</td>\n",
              "      <td>-0.049294</td>\n",
              "      <td>0.607964</td>\n",
              "      <td>-0.507027</td>\n",
              "      <td>0.391566</td>\n",
              "      <td>-0.224544</td>\n",
              "      <td>0.093500</td>\n",
              "      <td>-0.054003</td>\n",
              "      <td>-0.149339</td>\n",
              "      <td>0.043852</td>\n",
              "      <td>-0.332615</td>\n",
              "      <td>-0.012663</td>\n",
              "      <td>-0.170138</td>\n",
              "      <td>-0.115686</td>\n",
              "      <td>-0.414968</td>\n",
              "      <td>-0.200878</td>\n",
              "      <td>-0.185649</td>\n",
              "      <td>0.132756</td>\n",
              "      <td>-0.349216</td>\n",
              "      <td>0.175200</td>\n",
              "      <td>-0.048807</td>\n",
              "      <td>-0.066053</td>\n",
              "      <td>-0.248930</td>\n",
              "      <td>-0.129600</td>\n",
              "      <td>-0.001197</td>\n",
              "      <td>0.020052</td>\n",
              "      <td>-0.143466</td>\n",
              "      <td>0.193436</td>\n",
              "      <td>-0.061930</td>\n",
              "      <td>-0.046237</td>\n",
              "      <td>0.009925</td>\n",
              "      <td>-0.392569</td>\n",
              "      <td>0.194461</td>\n",
              "      <td>0.087503</td>\n",
              "      <td>0.054600</td>\n",
              "      <td>-0.144449</td>\n",
              "      <td>0.124332</td>\n",
              "      <td>...</td>\n",
              "      <td>0.110018</td>\n",
              "      <td>0.028206</td>\n",
              "      <td>-0.021446</td>\n",
              "      <td>0.055765</td>\n",
              "      <td>0.067623</td>\n",
              "      <td>-0.126940</td>\n",
              "      <td>-0.106558</td>\n",
              "      <td>-0.056630</td>\n",
              "      <td>0.028846</td>\n",
              "      <td>-0.082610</td>\n",
              "      <td>0.073293</td>\n",
              "      <td>0.028348</td>\n",
              "      <td>-0.010515</td>\n",
              "      <td>0.063707</td>\n",
              "      <td>0.169130</td>\n",
              "      <td>0.056575</td>\n",
              "      <td>-0.035623</td>\n",
              "      <td>-0.050539</td>\n",
              "      <td>-0.008245</td>\n",
              "      <td>0.037899</td>\n",
              "      <td>-0.029476</td>\n",
              "      <td>-0.018585</td>\n",
              "      <td>-0.111499</td>\n",
              "      <td>0.094868</td>\n",
              "      <td>-0.140757</td>\n",
              "      <td>-0.084512</td>\n",
              "      <td>-0.023460</td>\n",
              "      <td>0.028183</td>\n",
              "      <td>0.049389</td>\n",
              "      <td>0.038647</td>\n",
              "      <td>0.047763</td>\n",
              "      <td>-0.032981</td>\n",
              "      <td>-0.076658</td>\n",
              "      <td>-0.020175</td>\n",
              "      <td>0.000241</td>\n",
              "      <td>-0.097507</td>\n",
              "      <td>0.027183</td>\n",
              "      <td>0.099645</td>\n",
              "      <td>0.046519</td>\n",
              "      <td>doente</td>\n",
              "    </tr>\n",
              "    <tr>\n",
              "      <th>26805</th>\n",
              "      <td>1.286237</td>\n",
              "      <td>-0.058838</td>\n",
              "      <td>-0.121423</td>\n",
              "      <td>-0.144267</td>\n",
              "      <td>-0.049827</td>\n",
              "      <td>-0.145622</td>\n",
              "      <td>0.168851</td>\n",
              "      <td>-0.039755</td>\n",
              "      <td>0.271328</td>\n",
              "      <td>-0.097276</td>\n",
              "      <td>0.013943</td>\n",
              "      <td>-0.643481</td>\n",
              "      <td>-0.027811</td>\n",
              "      <td>-0.230776</td>\n",
              "      <td>-0.164721</td>\n",
              "      <td>0.283036</td>\n",
              "      <td>0.140010</td>\n",
              "      <td>0.016357</td>\n",
              "      <td>-0.055641</td>\n",
              "      <td>0.542774</td>\n",
              "      <td>0.115252</td>\n",
              "      <td>0.052624</td>\n",
              "      <td>-0.111792</td>\n",
              "      <td>0.279254</td>\n",
              "      <td>0.248193</td>\n",
              "      <td>0.036252</td>\n",
              "      <td>0.258922</td>\n",
              "      <td>-0.185234</td>\n",
              "      <td>-0.268996</td>\n",
              "      <td>0.205956</td>\n",
              "      <td>0.032825</td>\n",
              "      <td>-0.062873</td>\n",
              "      <td>-0.127899</td>\n",
              "      <td>0.212228</td>\n",
              "      <td>0.192834</td>\n",
              "      <td>-0.131747</td>\n",
              "      <td>-0.148173</td>\n",
              "      <td>0.010303</td>\n",
              "      <td>0.226641</td>\n",
              "      <td>0.076646</td>\n",
              "      <td>...</td>\n",
              "      <td>0.070727</td>\n",
              "      <td>0.042708</td>\n",
              "      <td>0.035834</td>\n",
              "      <td>0.088397</td>\n",
              "      <td>0.103051</td>\n",
              "      <td>0.088307</td>\n",
              "      <td>-0.012203</td>\n",
              "      <td>-0.023722</td>\n",
              "      <td>-0.023738</td>\n",
              "      <td>-0.068349</td>\n",
              "      <td>-0.025283</td>\n",
              "      <td>-0.019358</td>\n",
              "      <td>0.083306</td>\n",
              "      <td>-0.050734</td>\n",
              "      <td>-0.014200</td>\n",
              "      <td>0.025449</td>\n",
              "      <td>-0.024356</td>\n",
              "      <td>0.129562</td>\n",
              "      <td>0.002306</td>\n",
              "      <td>0.166839</td>\n",
              "      <td>0.092788</td>\n",
              "      <td>-0.023693</td>\n",
              "      <td>-0.023185</td>\n",
              "      <td>0.038118</td>\n",
              "      <td>0.035784</td>\n",
              "      <td>0.074814</td>\n",
              "      <td>-0.025078</td>\n",
              "      <td>0.040719</td>\n",
              "      <td>0.024729</td>\n",
              "      <td>-0.063820</td>\n",
              "      <td>0.076534</td>\n",
              "      <td>-0.011788</td>\n",
              "      <td>0.030262</td>\n",
              "      <td>-0.014655</td>\n",
              "      <td>0.022686</td>\n",
              "      <td>0.022390</td>\n",
              "      <td>-0.143031</td>\n",
              "      <td>-0.008582</td>\n",
              "      <td>0.014531</td>\n",
              "      <td>doente</td>\n",
              "    </tr>\n",
              "    <tr>\n",
              "      <th>26806</th>\n",
              "      <td>-0.440195</td>\n",
              "      <td>0.538977</td>\n",
              "      <td>0.829856</td>\n",
              "      <td>-0.372504</td>\n",
              "      <td>-0.385287</td>\n",
              "      <td>0.327090</td>\n",
              "      <td>0.323745</td>\n",
              "      <td>-0.052195</td>\n",
              "      <td>-0.363805</td>\n",
              "      <td>0.436111</td>\n",
              "      <td>0.671189</td>\n",
              "      <td>0.432352</td>\n",
              "      <td>-0.305943</td>\n",
              "      <td>-0.317627</td>\n",
              "      <td>0.158628</td>\n",
              "      <td>-0.517731</td>\n",
              "      <td>0.193817</td>\n",
              "      <td>-0.087933</td>\n",
              "      <td>-0.136339</td>\n",
              "      <td>0.039471</td>\n",
              "      <td>0.450239</td>\n",
              "      <td>-1.050061</td>\n",
              "      <td>-0.172785</td>\n",
              "      <td>-0.029138</td>\n",
              "      <td>-0.183097</td>\n",
              "      <td>0.458526</td>\n",
              "      <td>-0.337920</td>\n",
              "      <td>-0.014974</td>\n",
              "      <td>0.031926</td>\n",
              "      <td>0.322883</td>\n",
              "      <td>0.178518</td>\n",
              "      <td>0.116804</td>\n",
              "      <td>-0.007617</td>\n",
              "      <td>-0.378126</td>\n",
              "      <td>0.076875</td>\n",
              "      <td>-0.087899</td>\n",
              "      <td>-0.036286</td>\n",
              "      <td>0.431255</td>\n",
              "      <td>0.246512</td>\n",
              "      <td>-0.008808</td>\n",
              "      <td>...</td>\n",
              "      <td>0.101394</td>\n",
              "      <td>-0.036424</td>\n",
              "      <td>0.015785</td>\n",
              "      <td>-0.020584</td>\n",
              "      <td>0.065686</td>\n",
              "      <td>-0.212737</td>\n",
              "      <td>0.134805</td>\n",
              "      <td>-0.044883</td>\n",
              "      <td>-0.192533</td>\n",
              "      <td>0.206137</td>\n",
              "      <td>-0.117418</td>\n",
              "      <td>0.138121</td>\n",
              "      <td>-0.065491</td>\n",
              "      <td>-0.088623</td>\n",
              "      <td>-0.189885</td>\n",
              "      <td>-0.061873</td>\n",
              "      <td>0.078361</td>\n",
              "      <td>-0.000405</td>\n",
              "      <td>0.046329</td>\n",
              "      <td>0.112180</td>\n",
              "      <td>-0.048273</td>\n",
              "      <td>-0.032067</td>\n",
              "      <td>0.018765</td>\n",
              "      <td>0.041360</td>\n",
              "      <td>-0.143086</td>\n",
              "      <td>-0.129869</td>\n",
              "      <td>0.155053</td>\n",
              "      <td>0.067322</td>\n",
              "      <td>-0.140158</td>\n",
              "      <td>0.145063</td>\n",
              "      <td>0.003965</td>\n",
              "      <td>0.090412</td>\n",
              "      <td>0.222429</td>\n",
              "      <td>-0.122913</td>\n",
              "      <td>0.041998</td>\n",
              "      <td>0.069649</td>\n",
              "      <td>-0.191644</td>\n",
              "      <td>0.100619</td>\n",
              "      <td>-0.010088</td>\n",
              "      <td>doente</td>\n",
              "    </tr>\n",
              "  </tbody>\n",
              "</table>\n",
              "<p>26807 rows × 103 columns</p>\n",
              "</div>\n",
              "      <button class=\"colab-df-convert\" onclick=\"convertToInteractive('df-164b9c10-93f8-4e67-91dd-55154d2d142f')\"\n",
              "              title=\"Convert this dataframe to an interactive table.\"\n",
              "              style=\"display:none;\">\n",
              "        \n",
              "  <svg xmlns=\"http://www.w3.org/2000/svg\" height=\"24px\"viewBox=\"0 0 24 24\"\n",
              "       width=\"24px\">\n",
              "    <path d=\"M0 0h24v24H0V0z\" fill=\"none\"/>\n",
              "    <path d=\"M18.56 5.44l.94 2.06.94-2.06 2.06-.94-2.06-.94-.94-2.06-.94 2.06-2.06.94zm-11 1L8.5 8.5l.94-2.06 2.06-.94-2.06-.94L8.5 2.5l-.94 2.06-2.06.94zm10 10l.94 2.06.94-2.06 2.06-.94-2.06-.94-.94-2.06-.94 2.06-2.06.94z\"/><path d=\"M17.41 7.96l-1.37-1.37c-.4-.4-.92-.59-1.43-.59-.52 0-1.04.2-1.43.59L10.3 9.45l-7.72 7.72c-.78.78-.78 2.05 0 2.83L4 21.41c.39.39.9.59 1.41.59.51 0 1.02-.2 1.41-.59l7.78-7.78 2.81-2.81c.8-.78.8-2.07 0-2.86zM5.41 20L4 18.59l7.72-7.72 1.47 1.35L5.41 20z\"/>\n",
              "  </svg>\n",
              "      </button>\n",
              "      \n",
              "  <style>\n",
              "    .colab-df-container {\n",
              "      display:flex;\n",
              "      flex-wrap:wrap;\n",
              "      gap: 12px;\n",
              "    }\n",
              "\n",
              "    .colab-df-convert {\n",
              "      background-color: #E8F0FE;\n",
              "      border: none;\n",
              "      border-radius: 50%;\n",
              "      cursor: pointer;\n",
              "      display: none;\n",
              "      fill: #1967D2;\n",
              "      height: 32px;\n",
              "      padding: 0 0 0 0;\n",
              "      width: 32px;\n",
              "    }\n",
              "\n",
              "    .colab-df-convert:hover {\n",
              "      background-color: #E2EBFA;\n",
              "      box-shadow: 0px 1px 2px rgba(60, 64, 67, 0.3), 0px 1px 3px 1px rgba(60, 64, 67, 0.15);\n",
              "      fill: #174EA6;\n",
              "    }\n",
              "\n",
              "    [theme=dark] .colab-df-convert {\n",
              "      background-color: #3B4455;\n",
              "      fill: #D2E3FC;\n",
              "    }\n",
              "\n",
              "    [theme=dark] .colab-df-convert:hover {\n",
              "      background-color: #434B5C;\n",
              "      box-shadow: 0px 1px 3px 1px rgba(0, 0, 0, 0.15);\n",
              "      filter: drop-shadow(0px 1px 2px rgba(0, 0, 0, 0.3));\n",
              "      fill: #FFFFFF;\n",
              "    }\n",
              "  </style>\n",
              "\n",
              "      <script>\n",
              "        const buttonEl =\n",
              "          document.querySelector('#df-164b9c10-93f8-4e67-91dd-55154d2d142f button.colab-df-convert');\n",
              "        buttonEl.style.display =\n",
              "          google.colab.kernel.accessAllowed ? 'block' : 'none';\n",
              "\n",
              "        async function convertToInteractive(key) {\n",
              "          const element = document.querySelector('#df-164b9c10-93f8-4e67-91dd-55154d2d142f');\n",
              "          const dataTable =\n",
              "            await google.colab.kernel.invokeFunction('convertToInteractive',\n",
              "                                                     [key], {});\n",
              "          if (!dataTable) return;\n",
              "\n",
              "          const docLinkHtml = 'Like what you see? Visit the ' +\n",
              "            '<a target=\"_blank\" href=https://colab.research.google.com/notebooks/data_table.ipynb>data table notebook</a>'\n",
              "            + ' to learn more about interactive tables.';\n",
              "          element.innerHTML = '';\n",
              "          dataTable['output_type'] = 'display_data';\n",
              "          await google.colab.output.renderOutput(dataTable, element);\n",
              "          const docLink = document.createElement('div');\n",
              "          docLink.innerHTML = docLinkHtml;\n",
              "          element.appendChild(docLink);\n",
              "        }\n",
              "      </script>\n",
              "    </div>\n",
              "  </div>\n",
              "  "
            ],
            "text/plain": [
              "              0         1         2  ...       100       101    classe\n",
              "0     -0.800885 -0.127907 -1.118607  ...  0.077144  0.050618  saudavel\n",
              "1     -1.112906 -0.078094 -0.048163  ...  0.010256  0.074602  saudavel\n",
              "2     -0.418159  0.041575 -1.193468  ...  0.010456  0.053370  saudavel\n",
              "3     -0.168842  0.574866  1.096359  ...  0.068598 -0.011924  saudavel\n",
              "4     -1.373024 -0.206016 -0.346065  ...  0.040463 -0.053570  saudavel\n",
              "...         ...       ...       ...  ...       ...       ...       ...\n",
              "26802  1.083147  0.102716  0.009510  ...  0.038939 -0.187791    doente\n",
              "26803  0.466642 -0.083846  0.618787  ... -0.024077  0.012427    doente\n",
              "26804  1.228830 -0.168165 -0.038274  ...  0.099645  0.046519    doente\n",
              "26805  1.286237 -0.058838 -0.121423  ... -0.008582  0.014531    doente\n",
              "26806 -0.440195  0.538977  0.829856  ...  0.100619 -0.010088    doente\n",
              "\n",
              "[26807 rows x 103 columns]"
            ]
          },
          "metadata": {},
          "execution_count": 7
        }
      ]
    },
    {
      "cell_type": "code",
      "metadata": {
        "colab": {
          "base_uri": "https://localhost:8080/"
        },
        "id": "BiexXIHxIPHh",
        "outputId": "bc9e9bec-a029-4f18-e510-c0ccf3edeed3"
      },
      "source": [
        "label = base_completa[\"classe\"]\n",
        "label"
      ],
      "execution_count": null,
      "outputs": [
        {
          "output_type": "execute_result",
          "data": {
            "text/plain": [
              "0        saudavel\n",
              "1        saudavel\n",
              "2        saudavel\n",
              "3        saudavel\n",
              "4        saudavel\n",
              "           ...   \n",
              "26802      doente\n",
              "26803      doente\n",
              "26804      doente\n",
              "26805      doente\n",
              "26806      doente\n",
              "Name: classe, Length: 26807, dtype: object"
            ]
          },
          "metadata": {},
          "execution_count": 8
        }
      ]
    },
    {
      "cell_type": "code",
      "metadata": {
        "colab": {
          "base_uri": "https://localhost:8080/",
          "height": 423
        },
        "id": "Adoz6mPLJjKc",
        "outputId": "9cbfc0f2-b741-45a7-8a15-866328b35deb"
      },
      "source": [
        "label_temp = pd.get_dummies(label)\n",
        "label_temp"
      ],
      "execution_count": null,
      "outputs": [
        {
          "output_type": "execute_result",
          "data": {
            "text/html": [
              "\n",
              "  <div id=\"df-6ede8025-2c6a-4be9-8a89-5f70a60211a0\">\n",
              "    <div class=\"colab-df-container\">\n",
              "      <div>\n",
              "<style scoped>\n",
              "    .dataframe tbody tr th:only-of-type {\n",
              "        vertical-align: middle;\n",
              "    }\n",
              "\n",
              "    .dataframe tbody tr th {\n",
              "        vertical-align: top;\n",
              "    }\n",
              "\n",
              "    .dataframe thead th {\n",
              "        text-align: right;\n",
              "    }\n",
              "</style>\n",
              "<table border=\"1\" class=\"dataframe\">\n",
              "  <thead>\n",
              "    <tr style=\"text-align: right;\">\n",
              "      <th></th>\n",
              "      <th>doente</th>\n",
              "      <th>saudavel</th>\n",
              "    </tr>\n",
              "  </thead>\n",
              "  <tbody>\n",
              "    <tr>\n",
              "      <th>0</th>\n",
              "      <td>0</td>\n",
              "      <td>1</td>\n",
              "    </tr>\n",
              "    <tr>\n",
              "      <th>1</th>\n",
              "      <td>0</td>\n",
              "      <td>1</td>\n",
              "    </tr>\n",
              "    <tr>\n",
              "      <th>2</th>\n",
              "      <td>0</td>\n",
              "      <td>1</td>\n",
              "    </tr>\n",
              "    <tr>\n",
              "      <th>3</th>\n",
              "      <td>0</td>\n",
              "      <td>1</td>\n",
              "    </tr>\n",
              "    <tr>\n",
              "      <th>4</th>\n",
              "      <td>0</td>\n",
              "      <td>1</td>\n",
              "    </tr>\n",
              "    <tr>\n",
              "      <th>...</th>\n",
              "      <td>...</td>\n",
              "      <td>...</td>\n",
              "    </tr>\n",
              "    <tr>\n",
              "      <th>26802</th>\n",
              "      <td>1</td>\n",
              "      <td>0</td>\n",
              "    </tr>\n",
              "    <tr>\n",
              "      <th>26803</th>\n",
              "      <td>1</td>\n",
              "      <td>0</td>\n",
              "    </tr>\n",
              "    <tr>\n",
              "      <th>26804</th>\n",
              "      <td>1</td>\n",
              "      <td>0</td>\n",
              "    </tr>\n",
              "    <tr>\n",
              "      <th>26805</th>\n",
              "      <td>1</td>\n",
              "      <td>0</td>\n",
              "    </tr>\n",
              "    <tr>\n",
              "      <th>26806</th>\n",
              "      <td>1</td>\n",
              "      <td>0</td>\n",
              "    </tr>\n",
              "  </tbody>\n",
              "</table>\n",
              "<p>26807 rows × 2 columns</p>\n",
              "</div>\n",
              "      <button class=\"colab-df-convert\" onclick=\"convertToInteractive('df-6ede8025-2c6a-4be9-8a89-5f70a60211a0')\"\n",
              "              title=\"Convert this dataframe to an interactive table.\"\n",
              "              style=\"display:none;\">\n",
              "        \n",
              "  <svg xmlns=\"http://www.w3.org/2000/svg\" height=\"24px\"viewBox=\"0 0 24 24\"\n",
              "       width=\"24px\">\n",
              "    <path d=\"M0 0h24v24H0V0z\" fill=\"none\"/>\n",
              "    <path d=\"M18.56 5.44l.94 2.06.94-2.06 2.06-.94-2.06-.94-.94-2.06-.94 2.06-2.06.94zm-11 1L8.5 8.5l.94-2.06 2.06-.94-2.06-.94L8.5 2.5l-.94 2.06-2.06.94zm10 10l.94 2.06.94-2.06 2.06-.94-2.06-.94-.94-2.06-.94 2.06-2.06.94z\"/><path d=\"M17.41 7.96l-1.37-1.37c-.4-.4-.92-.59-1.43-.59-.52 0-1.04.2-1.43.59L10.3 9.45l-7.72 7.72c-.78.78-.78 2.05 0 2.83L4 21.41c.39.39.9.59 1.41.59.51 0 1.02-.2 1.41-.59l7.78-7.78 2.81-2.81c.8-.78.8-2.07 0-2.86zM5.41 20L4 18.59l7.72-7.72 1.47 1.35L5.41 20z\"/>\n",
              "  </svg>\n",
              "      </button>\n",
              "      \n",
              "  <style>\n",
              "    .colab-df-container {\n",
              "      display:flex;\n",
              "      flex-wrap:wrap;\n",
              "      gap: 12px;\n",
              "    }\n",
              "\n",
              "    .colab-df-convert {\n",
              "      background-color: #E8F0FE;\n",
              "      border: none;\n",
              "      border-radius: 50%;\n",
              "      cursor: pointer;\n",
              "      display: none;\n",
              "      fill: #1967D2;\n",
              "      height: 32px;\n",
              "      padding: 0 0 0 0;\n",
              "      width: 32px;\n",
              "    }\n",
              "\n",
              "    .colab-df-convert:hover {\n",
              "      background-color: #E2EBFA;\n",
              "      box-shadow: 0px 1px 2px rgba(60, 64, 67, 0.3), 0px 1px 3px 1px rgba(60, 64, 67, 0.15);\n",
              "      fill: #174EA6;\n",
              "    }\n",
              "\n",
              "    [theme=dark] .colab-df-convert {\n",
              "      background-color: #3B4455;\n",
              "      fill: #D2E3FC;\n",
              "    }\n",
              "\n",
              "    [theme=dark] .colab-df-convert:hover {\n",
              "      background-color: #434B5C;\n",
              "      box-shadow: 0px 1px 3px 1px rgba(0, 0, 0, 0.15);\n",
              "      filter: drop-shadow(0px 1px 2px rgba(0, 0, 0, 0.3));\n",
              "      fill: #FFFFFF;\n",
              "    }\n",
              "  </style>\n",
              "\n",
              "      <script>\n",
              "        const buttonEl =\n",
              "          document.querySelector('#df-6ede8025-2c6a-4be9-8a89-5f70a60211a0 button.colab-df-convert');\n",
              "        buttonEl.style.display =\n",
              "          google.colab.kernel.accessAllowed ? 'block' : 'none';\n",
              "\n",
              "        async function convertToInteractive(key) {\n",
              "          const element = document.querySelector('#df-6ede8025-2c6a-4be9-8a89-5f70a60211a0');\n",
              "          const dataTable =\n",
              "            await google.colab.kernel.invokeFunction('convertToInteractive',\n",
              "                                                     [key], {});\n",
              "          if (!dataTable) return;\n",
              "\n",
              "          const docLinkHtml = 'Like what you see? Visit the ' +\n",
              "            '<a target=\"_blank\" href=https://colab.research.google.com/notebooks/data_table.ipynb>data table notebook</a>'\n",
              "            + ' to learn more about interactive tables.';\n",
              "          element.innerHTML = '';\n",
              "          dataTable['output_type'] = 'display_data';\n",
              "          await google.colab.output.renderOutput(dataTable, element);\n",
              "          const docLink = document.createElement('div');\n",
              "          docLink.innerHTML = docLinkHtml;\n",
              "          element.appendChild(docLink);\n",
              "        }\n",
              "      </script>\n",
              "    </div>\n",
              "  </div>\n",
              "  "
            ],
            "text/plain": [
              "       doente  saudavel\n",
              "0           0         1\n",
              "1           0         1\n",
              "2           0         1\n",
              "3           0         1\n",
              "4           0         1\n",
              "...       ...       ...\n",
              "26802       1         0\n",
              "26803       1         0\n",
              "26804       1         0\n",
              "26805       1         0\n",
              "26806       1         0\n",
              "\n",
              "[26807 rows x 2 columns]"
            ]
          },
          "metadata": {},
          "execution_count": 9
        }
      ]
    },
    {
      "cell_type": "code",
      "metadata": {
        "colab": {
          "base_uri": "https://localhost:8080/",
          "height": 423
        },
        "id": "aQzYRvWLLOsx",
        "outputId": "9d7bee6d-6ae2-4a3b-b5ec-5668beffe373"
      },
      "source": [
        "label_two = pd.concat((label_temp, label), axis=1)\n",
        "label_two"
      ],
      "execution_count": null,
      "outputs": [
        {
          "output_type": "execute_result",
          "data": {
            "text/html": [
              "\n",
              "  <div id=\"df-3c7c6707-1268-4919-9d00-63635d31325e\">\n",
              "    <div class=\"colab-df-container\">\n",
              "      <div>\n",
              "<style scoped>\n",
              "    .dataframe tbody tr th:only-of-type {\n",
              "        vertical-align: middle;\n",
              "    }\n",
              "\n",
              "    .dataframe tbody tr th {\n",
              "        vertical-align: top;\n",
              "    }\n",
              "\n",
              "    .dataframe thead th {\n",
              "        text-align: right;\n",
              "    }\n",
              "</style>\n",
              "<table border=\"1\" class=\"dataframe\">\n",
              "  <thead>\n",
              "    <tr style=\"text-align: right;\">\n",
              "      <th></th>\n",
              "      <th>doente</th>\n",
              "      <th>saudavel</th>\n",
              "      <th>classe</th>\n",
              "    </tr>\n",
              "  </thead>\n",
              "  <tbody>\n",
              "    <tr>\n",
              "      <th>0</th>\n",
              "      <td>0</td>\n",
              "      <td>1</td>\n",
              "      <td>saudavel</td>\n",
              "    </tr>\n",
              "    <tr>\n",
              "      <th>1</th>\n",
              "      <td>0</td>\n",
              "      <td>1</td>\n",
              "      <td>saudavel</td>\n",
              "    </tr>\n",
              "    <tr>\n",
              "      <th>2</th>\n",
              "      <td>0</td>\n",
              "      <td>1</td>\n",
              "      <td>saudavel</td>\n",
              "    </tr>\n",
              "    <tr>\n",
              "      <th>3</th>\n",
              "      <td>0</td>\n",
              "      <td>1</td>\n",
              "      <td>saudavel</td>\n",
              "    </tr>\n",
              "    <tr>\n",
              "      <th>4</th>\n",
              "      <td>0</td>\n",
              "      <td>1</td>\n",
              "      <td>saudavel</td>\n",
              "    </tr>\n",
              "    <tr>\n",
              "      <th>...</th>\n",
              "      <td>...</td>\n",
              "      <td>...</td>\n",
              "      <td>...</td>\n",
              "    </tr>\n",
              "    <tr>\n",
              "      <th>26802</th>\n",
              "      <td>1</td>\n",
              "      <td>0</td>\n",
              "      <td>doente</td>\n",
              "    </tr>\n",
              "    <tr>\n",
              "      <th>26803</th>\n",
              "      <td>1</td>\n",
              "      <td>0</td>\n",
              "      <td>doente</td>\n",
              "    </tr>\n",
              "    <tr>\n",
              "      <th>26804</th>\n",
              "      <td>1</td>\n",
              "      <td>0</td>\n",
              "      <td>doente</td>\n",
              "    </tr>\n",
              "    <tr>\n",
              "      <th>26805</th>\n",
              "      <td>1</td>\n",
              "      <td>0</td>\n",
              "      <td>doente</td>\n",
              "    </tr>\n",
              "    <tr>\n",
              "      <th>26806</th>\n",
              "      <td>1</td>\n",
              "      <td>0</td>\n",
              "      <td>doente</td>\n",
              "    </tr>\n",
              "  </tbody>\n",
              "</table>\n",
              "<p>26807 rows × 3 columns</p>\n",
              "</div>\n",
              "      <button class=\"colab-df-convert\" onclick=\"convertToInteractive('df-3c7c6707-1268-4919-9d00-63635d31325e')\"\n",
              "              title=\"Convert this dataframe to an interactive table.\"\n",
              "              style=\"display:none;\">\n",
              "        \n",
              "  <svg xmlns=\"http://www.w3.org/2000/svg\" height=\"24px\"viewBox=\"0 0 24 24\"\n",
              "       width=\"24px\">\n",
              "    <path d=\"M0 0h24v24H0V0z\" fill=\"none\"/>\n",
              "    <path d=\"M18.56 5.44l.94 2.06.94-2.06 2.06-.94-2.06-.94-.94-2.06-.94 2.06-2.06.94zm-11 1L8.5 8.5l.94-2.06 2.06-.94-2.06-.94L8.5 2.5l-.94 2.06-2.06.94zm10 10l.94 2.06.94-2.06 2.06-.94-2.06-.94-.94-2.06-.94 2.06-2.06.94z\"/><path d=\"M17.41 7.96l-1.37-1.37c-.4-.4-.92-.59-1.43-.59-.52 0-1.04.2-1.43.59L10.3 9.45l-7.72 7.72c-.78.78-.78 2.05 0 2.83L4 21.41c.39.39.9.59 1.41.59.51 0 1.02-.2 1.41-.59l7.78-7.78 2.81-2.81c.8-.78.8-2.07 0-2.86zM5.41 20L4 18.59l7.72-7.72 1.47 1.35L5.41 20z\"/>\n",
              "  </svg>\n",
              "      </button>\n",
              "      \n",
              "  <style>\n",
              "    .colab-df-container {\n",
              "      display:flex;\n",
              "      flex-wrap:wrap;\n",
              "      gap: 12px;\n",
              "    }\n",
              "\n",
              "    .colab-df-convert {\n",
              "      background-color: #E8F0FE;\n",
              "      border: none;\n",
              "      border-radius: 50%;\n",
              "      cursor: pointer;\n",
              "      display: none;\n",
              "      fill: #1967D2;\n",
              "      height: 32px;\n",
              "      padding: 0 0 0 0;\n",
              "      width: 32px;\n",
              "    }\n",
              "\n",
              "    .colab-df-convert:hover {\n",
              "      background-color: #E2EBFA;\n",
              "      box-shadow: 0px 1px 2px rgba(60, 64, 67, 0.3), 0px 1px 3px 1px rgba(60, 64, 67, 0.15);\n",
              "      fill: #174EA6;\n",
              "    }\n",
              "\n",
              "    [theme=dark] .colab-df-convert {\n",
              "      background-color: #3B4455;\n",
              "      fill: #D2E3FC;\n",
              "    }\n",
              "\n",
              "    [theme=dark] .colab-df-convert:hover {\n",
              "      background-color: #434B5C;\n",
              "      box-shadow: 0px 1px 3px 1px rgba(0, 0, 0, 0.15);\n",
              "      filter: drop-shadow(0px 1px 2px rgba(0, 0, 0, 0.3));\n",
              "      fill: #FFFFFF;\n",
              "    }\n",
              "  </style>\n",
              "\n",
              "      <script>\n",
              "        const buttonEl =\n",
              "          document.querySelector('#df-3c7c6707-1268-4919-9d00-63635d31325e button.colab-df-convert');\n",
              "        buttonEl.style.display =\n",
              "          google.colab.kernel.accessAllowed ? 'block' : 'none';\n",
              "\n",
              "        async function convertToInteractive(key) {\n",
              "          const element = document.querySelector('#df-3c7c6707-1268-4919-9d00-63635d31325e');\n",
              "          const dataTable =\n",
              "            await google.colab.kernel.invokeFunction('convertToInteractive',\n",
              "                                                     [key], {});\n",
              "          if (!dataTable) return;\n",
              "\n",
              "          const docLinkHtml = 'Like what you see? Visit the ' +\n",
              "            '<a target=\"_blank\" href=https://colab.research.google.com/notebooks/data_table.ipynb>data table notebook</a>'\n",
              "            + ' to learn more about interactive tables.';\n",
              "          element.innerHTML = '';\n",
              "          dataTable['output_type'] = 'display_data';\n",
              "          await google.colab.output.renderOutput(dataTable, element);\n",
              "          const docLink = document.createElement('div');\n",
              "          docLink.innerHTML = docLinkHtml;\n",
              "          element.appendChild(docLink);\n",
              "        }\n",
              "      </script>\n",
              "    </div>\n",
              "  </div>\n",
              "  "
            ],
            "text/plain": [
              "       doente  saudavel    classe\n",
              "0           0         1  saudavel\n",
              "1           0         1  saudavel\n",
              "2           0         1  saudavel\n",
              "3           0         1  saudavel\n",
              "4           0         1  saudavel\n",
              "...       ...       ...       ...\n",
              "26802       1         0    doente\n",
              "26803       1         0    doente\n",
              "26804       1         0    doente\n",
              "26805       1         0    doente\n",
              "26806       1         0    doente\n",
              "\n",
              "[26807 rows x 3 columns]"
            ]
          },
          "metadata": {},
          "execution_count": 10
        }
      ]
    },
    {
      "cell_type": "code",
      "metadata": {
        "colab": {
          "base_uri": "https://localhost:8080/",
          "height": 423
        },
        "id": "auuxTfFILcRs",
        "outputId": "de7ddb52-01e1-42f4-ee01-6dd6ddd07975"
      },
      "source": [
        "\n",
        "label_two = label_two.drop([\"classe\"], axis=1)\n",
        "label_two = label_two.drop([\"doente\"], axis=1)\n",
        "label = label_two.rename(columns={\"saudavel\": \"classe\"})\n",
        "label"
      ],
      "execution_count": null,
      "outputs": [
        {
          "output_type": "execute_result",
          "data": {
            "text/html": [
              "\n",
              "  <div id=\"df-0360b301-5f6a-4e95-8029-212105e09579\">\n",
              "    <div class=\"colab-df-container\">\n",
              "      <div>\n",
              "<style scoped>\n",
              "    .dataframe tbody tr th:only-of-type {\n",
              "        vertical-align: middle;\n",
              "    }\n",
              "\n",
              "    .dataframe tbody tr th {\n",
              "        vertical-align: top;\n",
              "    }\n",
              "\n",
              "    .dataframe thead th {\n",
              "        text-align: right;\n",
              "    }\n",
              "</style>\n",
              "<table border=\"1\" class=\"dataframe\">\n",
              "  <thead>\n",
              "    <tr style=\"text-align: right;\">\n",
              "      <th></th>\n",
              "      <th>classe</th>\n",
              "    </tr>\n",
              "  </thead>\n",
              "  <tbody>\n",
              "    <tr>\n",
              "      <th>0</th>\n",
              "      <td>1</td>\n",
              "    </tr>\n",
              "    <tr>\n",
              "      <th>1</th>\n",
              "      <td>1</td>\n",
              "    </tr>\n",
              "    <tr>\n",
              "      <th>2</th>\n",
              "      <td>1</td>\n",
              "    </tr>\n",
              "    <tr>\n",
              "      <th>3</th>\n",
              "      <td>1</td>\n",
              "    </tr>\n",
              "    <tr>\n",
              "      <th>4</th>\n",
              "      <td>1</td>\n",
              "    </tr>\n",
              "    <tr>\n",
              "      <th>...</th>\n",
              "      <td>...</td>\n",
              "    </tr>\n",
              "    <tr>\n",
              "      <th>26802</th>\n",
              "      <td>0</td>\n",
              "    </tr>\n",
              "    <tr>\n",
              "      <th>26803</th>\n",
              "      <td>0</td>\n",
              "    </tr>\n",
              "    <tr>\n",
              "      <th>26804</th>\n",
              "      <td>0</td>\n",
              "    </tr>\n",
              "    <tr>\n",
              "      <th>26805</th>\n",
              "      <td>0</td>\n",
              "    </tr>\n",
              "    <tr>\n",
              "      <th>26806</th>\n",
              "      <td>0</td>\n",
              "    </tr>\n",
              "  </tbody>\n",
              "</table>\n",
              "<p>26807 rows × 1 columns</p>\n",
              "</div>\n",
              "      <button class=\"colab-df-convert\" onclick=\"convertToInteractive('df-0360b301-5f6a-4e95-8029-212105e09579')\"\n",
              "              title=\"Convert this dataframe to an interactive table.\"\n",
              "              style=\"display:none;\">\n",
              "        \n",
              "  <svg xmlns=\"http://www.w3.org/2000/svg\" height=\"24px\"viewBox=\"0 0 24 24\"\n",
              "       width=\"24px\">\n",
              "    <path d=\"M0 0h24v24H0V0z\" fill=\"none\"/>\n",
              "    <path d=\"M18.56 5.44l.94 2.06.94-2.06 2.06-.94-2.06-.94-.94-2.06-.94 2.06-2.06.94zm-11 1L8.5 8.5l.94-2.06 2.06-.94-2.06-.94L8.5 2.5l-.94 2.06-2.06.94zm10 10l.94 2.06.94-2.06 2.06-.94-2.06-.94-.94-2.06-.94 2.06-2.06.94z\"/><path d=\"M17.41 7.96l-1.37-1.37c-.4-.4-.92-.59-1.43-.59-.52 0-1.04.2-1.43.59L10.3 9.45l-7.72 7.72c-.78.78-.78 2.05 0 2.83L4 21.41c.39.39.9.59 1.41.59.51 0 1.02-.2 1.41-.59l7.78-7.78 2.81-2.81c.8-.78.8-2.07 0-2.86zM5.41 20L4 18.59l7.72-7.72 1.47 1.35L5.41 20z\"/>\n",
              "  </svg>\n",
              "      </button>\n",
              "      \n",
              "  <style>\n",
              "    .colab-df-container {\n",
              "      display:flex;\n",
              "      flex-wrap:wrap;\n",
              "      gap: 12px;\n",
              "    }\n",
              "\n",
              "    .colab-df-convert {\n",
              "      background-color: #E8F0FE;\n",
              "      border: none;\n",
              "      border-radius: 50%;\n",
              "      cursor: pointer;\n",
              "      display: none;\n",
              "      fill: #1967D2;\n",
              "      height: 32px;\n",
              "      padding: 0 0 0 0;\n",
              "      width: 32px;\n",
              "    }\n",
              "\n",
              "    .colab-df-convert:hover {\n",
              "      background-color: #E2EBFA;\n",
              "      box-shadow: 0px 1px 2px rgba(60, 64, 67, 0.3), 0px 1px 3px 1px rgba(60, 64, 67, 0.15);\n",
              "      fill: #174EA6;\n",
              "    }\n",
              "\n",
              "    [theme=dark] .colab-df-convert {\n",
              "      background-color: #3B4455;\n",
              "      fill: #D2E3FC;\n",
              "    }\n",
              "\n",
              "    [theme=dark] .colab-df-convert:hover {\n",
              "      background-color: #434B5C;\n",
              "      box-shadow: 0px 1px 3px 1px rgba(0, 0, 0, 0.15);\n",
              "      filter: drop-shadow(0px 1px 2px rgba(0, 0, 0, 0.3));\n",
              "      fill: #FFFFFF;\n",
              "    }\n",
              "  </style>\n",
              "\n",
              "      <script>\n",
              "        const buttonEl =\n",
              "          document.querySelector('#df-0360b301-5f6a-4e95-8029-212105e09579 button.colab-df-convert');\n",
              "        buttonEl.style.display =\n",
              "          google.colab.kernel.accessAllowed ? 'block' : 'none';\n",
              "\n",
              "        async function convertToInteractive(key) {\n",
              "          const element = document.querySelector('#df-0360b301-5f6a-4e95-8029-212105e09579');\n",
              "          const dataTable =\n",
              "            await google.colab.kernel.invokeFunction('convertToInteractive',\n",
              "                                                     [key], {});\n",
              "          if (!dataTable) return;\n",
              "\n",
              "          const docLinkHtml = 'Like what you see? Visit the ' +\n",
              "            '<a target=\"_blank\" href=https://colab.research.google.com/notebooks/data_table.ipynb>data table notebook</a>'\n",
              "            + ' to learn more about interactive tables.';\n",
              "          element.innerHTML = '';\n",
              "          dataTable['output_type'] = 'display_data';\n",
              "          await google.colab.output.renderOutput(dataTable, element);\n",
              "          const docLink = document.createElement('div');\n",
              "          docLink.innerHTML = docLinkHtml;\n",
              "          element.appendChild(docLink);\n",
              "        }\n",
              "      </script>\n",
              "    </div>\n",
              "  </div>\n",
              "  "
            ],
            "text/plain": [
              "       classe\n",
              "0           1\n",
              "1           1\n",
              "2           1\n",
              "3           1\n",
              "4           1\n",
              "...       ...\n",
              "26802       0\n",
              "26803       0\n",
              "26804       0\n",
              "26805       0\n",
              "26806       0\n",
              "\n",
              "[26807 rows x 1 columns]"
            ]
          },
          "metadata": {},
          "execution_count": 11
        }
      ]
    },
    {
      "cell_type": "code",
      "metadata": {
        "colab": {
          "base_uri": "https://localhost:8080/"
        },
        "id": "79OeNg9BNJ9V",
        "outputId": "a3c7b5d6-decf-4694-9dc5-a6368acbb1a8"
      },
      "source": [
        "label_70 = base_completa_70[\"classe\"]\n",
        "label_70"
      ],
      "execution_count": null,
      "outputs": [
        {
          "output_type": "execute_result",
          "data": {
            "text/plain": [
              "0        saudavel\n",
              "1        saudavel\n",
              "2        saudavel\n",
              "3        saudavel\n",
              "4        saudavel\n",
              "           ...   \n",
              "26802      doente\n",
              "26803      doente\n",
              "26804      doente\n",
              "26805      doente\n",
              "26806      doente\n",
              "Name: classe, Length: 26807, dtype: object"
            ]
          },
          "metadata": {},
          "execution_count": 12
        }
      ]
    },
    {
      "cell_type": "code",
      "metadata": {
        "colab": {
          "base_uri": "https://localhost:8080/",
          "height": 423
        },
        "id": "MMa300DCOEBB",
        "outputId": "47c02092-0d65-4735-dc81-355c093cf269"
      },
      "source": [
        "label_temp_70 = pd.get_dummies(label_70)\n",
        "label_two_70 = pd.concat((label_temp_70, label_70), axis=1)\n",
        "label_two_70 = label_two_70.drop([\"classe\"], axis=1)\n",
        "label_two_70 = label_two_70.drop([\"doente\"], axis=1)\n",
        "label_70 = label_two_70.rename(columns={\"saudavel\": \"classe\"})\n",
        "label_70"
      ],
      "execution_count": null,
      "outputs": [
        {
          "output_type": "execute_result",
          "data": {
            "text/html": [
              "\n",
              "  <div id=\"df-d4588d84-6cee-49fc-a9d9-02ac537b32af\">\n",
              "    <div class=\"colab-df-container\">\n",
              "      <div>\n",
              "<style scoped>\n",
              "    .dataframe tbody tr th:only-of-type {\n",
              "        vertical-align: middle;\n",
              "    }\n",
              "\n",
              "    .dataframe tbody tr th {\n",
              "        vertical-align: top;\n",
              "    }\n",
              "\n",
              "    .dataframe thead th {\n",
              "        text-align: right;\n",
              "    }\n",
              "</style>\n",
              "<table border=\"1\" class=\"dataframe\">\n",
              "  <thead>\n",
              "    <tr style=\"text-align: right;\">\n",
              "      <th></th>\n",
              "      <th>classe</th>\n",
              "    </tr>\n",
              "  </thead>\n",
              "  <tbody>\n",
              "    <tr>\n",
              "      <th>0</th>\n",
              "      <td>1</td>\n",
              "    </tr>\n",
              "    <tr>\n",
              "      <th>1</th>\n",
              "      <td>1</td>\n",
              "    </tr>\n",
              "    <tr>\n",
              "      <th>2</th>\n",
              "      <td>1</td>\n",
              "    </tr>\n",
              "    <tr>\n",
              "      <th>3</th>\n",
              "      <td>1</td>\n",
              "    </tr>\n",
              "    <tr>\n",
              "      <th>4</th>\n",
              "      <td>1</td>\n",
              "    </tr>\n",
              "    <tr>\n",
              "      <th>...</th>\n",
              "      <td>...</td>\n",
              "    </tr>\n",
              "    <tr>\n",
              "      <th>26802</th>\n",
              "      <td>0</td>\n",
              "    </tr>\n",
              "    <tr>\n",
              "      <th>26803</th>\n",
              "      <td>0</td>\n",
              "    </tr>\n",
              "    <tr>\n",
              "      <th>26804</th>\n",
              "      <td>0</td>\n",
              "    </tr>\n",
              "    <tr>\n",
              "      <th>26805</th>\n",
              "      <td>0</td>\n",
              "    </tr>\n",
              "    <tr>\n",
              "      <th>26806</th>\n",
              "      <td>0</td>\n",
              "    </tr>\n",
              "  </tbody>\n",
              "</table>\n",
              "<p>26807 rows × 1 columns</p>\n",
              "</div>\n",
              "      <button class=\"colab-df-convert\" onclick=\"convertToInteractive('df-d4588d84-6cee-49fc-a9d9-02ac537b32af')\"\n",
              "              title=\"Convert this dataframe to an interactive table.\"\n",
              "              style=\"display:none;\">\n",
              "        \n",
              "  <svg xmlns=\"http://www.w3.org/2000/svg\" height=\"24px\"viewBox=\"0 0 24 24\"\n",
              "       width=\"24px\">\n",
              "    <path d=\"M0 0h24v24H0V0z\" fill=\"none\"/>\n",
              "    <path d=\"M18.56 5.44l.94 2.06.94-2.06 2.06-.94-2.06-.94-.94-2.06-.94 2.06-2.06.94zm-11 1L8.5 8.5l.94-2.06 2.06-.94-2.06-.94L8.5 2.5l-.94 2.06-2.06.94zm10 10l.94 2.06.94-2.06 2.06-.94-2.06-.94-.94-2.06-.94 2.06-2.06.94z\"/><path d=\"M17.41 7.96l-1.37-1.37c-.4-.4-.92-.59-1.43-.59-.52 0-1.04.2-1.43.59L10.3 9.45l-7.72 7.72c-.78.78-.78 2.05 0 2.83L4 21.41c.39.39.9.59 1.41.59.51 0 1.02-.2 1.41-.59l7.78-7.78 2.81-2.81c.8-.78.8-2.07 0-2.86zM5.41 20L4 18.59l7.72-7.72 1.47 1.35L5.41 20z\"/>\n",
              "  </svg>\n",
              "      </button>\n",
              "      \n",
              "  <style>\n",
              "    .colab-df-container {\n",
              "      display:flex;\n",
              "      flex-wrap:wrap;\n",
              "      gap: 12px;\n",
              "    }\n",
              "\n",
              "    .colab-df-convert {\n",
              "      background-color: #E8F0FE;\n",
              "      border: none;\n",
              "      border-radius: 50%;\n",
              "      cursor: pointer;\n",
              "      display: none;\n",
              "      fill: #1967D2;\n",
              "      height: 32px;\n",
              "      padding: 0 0 0 0;\n",
              "      width: 32px;\n",
              "    }\n",
              "\n",
              "    .colab-df-convert:hover {\n",
              "      background-color: #E2EBFA;\n",
              "      box-shadow: 0px 1px 2px rgba(60, 64, 67, 0.3), 0px 1px 3px 1px rgba(60, 64, 67, 0.15);\n",
              "      fill: #174EA6;\n",
              "    }\n",
              "\n",
              "    [theme=dark] .colab-df-convert {\n",
              "      background-color: #3B4455;\n",
              "      fill: #D2E3FC;\n",
              "    }\n",
              "\n",
              "    [theme=dark] .colab-df-convert:hover {\n",
              "      background-color: #434B5C;\n",
              "      box-shadow: 0px 1px 3px 1px rgba(0, 0, 0, 0.15);\n",
              "      filter: drop-shadow(0px 1px 2px rgba(0, 0, 0, 0.3));\n",
              "      fill: #FFFFFF;\n",
              "    }\n",
              "  </style>\n",
              "\n",
              "      <script>\n",
              "        const buttonEl =\n",
              "          document.querySelector('#df-d4588d84-6cee-49fc-a9d9-02ac537b32af button.colab-df-convert');\n",
              "        buttonEl.style.display =\n",
              "          google.colab.kernel.accessAllowed ? 'block' : 'none';\n",
              "\n",
              "        async function convertToInteractive(key) {\n",
              "          const element = document.querySelector('#df-d4588d84-6cee-49fc-a9d9-02ac537b32af');\n",
              "          const dataTable =\n",
              "            await google.colab.kernel.invokeFunction('convertToInteractive',\n",
              "                                                     [key], {});\n",
              "          if (!dataTable) return;\n",
              "\n",
              "          const docLinkHtml = 'Like what you see? Visit the ' +\n",
              "            '<a target=\"_blank\" href=https://colab.research.google.com/notebooks/data_table.ipynb>data table notebook</a>'\n",
              "            + ' to learn more about interactive tables.';\n",
              "          element.innerHTML = '';\n",
              "          dataTable['output_type'] = 'display_data';\n",
              "          await google.colab.output.renderOutput(dataTable, element);\n",
              "          const docLink = document.createElement('div');\n",
              "          docLink.innerHTML = docLinkHtml;\n",
              "          element.appendChild(docLink);\n",
              "        }\n",
              "      </script>\n",
              "    </div>\n",
              "  </div>\n",
              "  "
            ],
            "text/plain": [
              "       classe\n",
              "0           1\n",
              "1           1\n",
              "2           1\n",
              "3           1\n",
              "4           1\n",
              "...       ...\n",
              "26802       0\n",
              "26803       0\n",
              "26804       0\n",
              "26805       0\n",
              "26806       0\n",
              "\n",
              "[26807 rows x 1 columns]"
            ]
          },
          "metadata": {},
          "execution_count": 13
        }
      ]
    },
    {
      "cell_type": "code",
      "metadata": {
        "colab": {
          "base_uri": "https://localhost:8080/"
        },
        "id": "yqWnqpChO_gH",
        "outputId": "553e8664-253c-4aa7-d9f5-3501c0632353"
      },
      "source": [
        "label_30 = base_completa_30[\"classe\"]\n",
        "label_30"
      ],
      "execution_count": null,
      "outputs": [
        {
          "output_type": "execute_result",
          "data": {
            "text/plain": [
              "0        saudavel\n",
              "1        saudavel\n",
              "2        saudavel\n",
              "3        saudavel\n",
              "4        saudavel\n",
              "           ...   \n",
              "26802      doente\n",
              "26803      doente\n",
              "26804      doente\n",
              "26805      doente\n",
              "26806      doente\n",
              "Name: classe, Length: 26807, dtype: object"
            ]
          },
          "metadata": {},
          "execution_count": 14
        }
      ]
    },
    {
      "cell_type": "code",
      "metadata": {
        "colab": {
          "base_uri": "https://localhost:8080/",
          "height": 423
        },
        "id": "-RTjuzeXPEv1",
        "outputId": "0fb3b288-45d6-43d5-b670-d8ed88803e6f"
      },
      "source": [
        "label_temp_30 = pd.get_dummies(label_30)\n",
        "label_two_30 = pd.concat((label_temp_30, label_30), axis=1)\n",
        "label_two_30 = label_two_30.drop([\"classe\"], axis=1)\n",
        "label_two_30 = label_two_30.drop([\"doente\"], axis=1)\n",
        "label_30 = label_two_30.rename(columns={\"saudavel\": \"classe\"})\n",
        "label_30"
      ],
      "execution_count": null,
      "outputs": [
        {
          "output_type": "execute_result",
          "data": {
            "text/html": [
              "\n",
              "  <div id=\"df-9eeb3f89-55fa-4547-8239-445ccf103f84\">\n",
              "    <div class=\"colab-df-container\">\n",
              "      <div>\n",
              "<style scoped>\n",
              "    .dataframe tbody tr th:only-of-type {\n",
              "        vertical-align: middle;\n",
              "    }\n",
              "\n",
              "    .dataframe tbody tr th {\n",
              "        vertical-align: top;\n",
              "    }\n",
              "\n",
              "    .dataframe thead th {\n",
              "        text-align: right;\n",
              "    }\n",
              "</style>\n",
              "<table border=\"1\" class=\"dataframe\">\n",
              "  <thead>\n",
              "    <tr style=\"text-align: right;\">\n",
              "      <th></th>\n",
              "      <th>classe</th>\n",
              "    </tr>\n",
              "  </thead>\n",
              "  <tbody>\n",
              "    <tr>\n",
              "      <th>0</th>\n",
              "      <td>1</td>\n",
              "    </tr>\n",
              "    <tr>\n",
              "      <th>1</th>\n",
              "      <td>1</td>\n",
              "    </tr>\n",
              "    <tr>\n",
              "      <th>2</th>\n",
              "      <td>1</td>\n",
              "    </tr>\n",
              "    <tr>\n",
              "      <th>3</th>\n",
              "      <td>1</td>\n",
              "    </tr>\n",
              "    <tr>\n",
              "      <th>4</th>\n",
              "      <td>1</td>\n",
              "    </tr>\n",
              "    <tr>\n",
              "      <th>...</th>\n",
              "      <td>...</td>\n",
              "    </tr>\n",
              "    <tr>\n",
              "      <th>26802</th>\n",
              "      <td>0</td>\n",
              "    </tr>\n",
              "    <tr>\n",
              "      <th>26803</th>\n",
              "      <td>0</td>\n",
              "    </tr>\n",
              "    <tr>\n",
              "      <th>26804</th>\n",
              "      <td>0</td>\n",
              "    </tr>\n",
              "    <tr>\n",
              "      <th>26805</th>\n",
              "      <td>0</td>\n",
              "    </tr>\n",
              "    <tr>\n",
              "      <th>26806</th>\n",
              "      <td>0</td>\n",
              "    </tr>\n",
              "  </tbody>\n",
              "</table>\n",
              "<p>26807 rows × 1 columns</p>\n",
              "</div>\n",
              "      <button class=\"colab-df-convert\" onclick=\"convertToInteractive('df-9eeb3f89-55fa-4547-8239-445ccf103f84')\"\n",
              "              title=\"Convert this dataframe to an interactive table.\"\n",
              "              style=\"display:none;\">\n",
              "        \n",
              "  <svg xmlns=\"http://www.w3.org/2000/svg\" height=\"24px\"viewBox=\"0 0 24 24\"\n",
              "       width=\"24px\">\n",
              "    <path d=\"M0 0h24v24H0V0z\" fill=\"none\"/>\n",
              "    <path d=\"M18.56 5.44l.94 2.06.94-2.06 2.06-.94-2.06-.94-.94-2.06-.94 2.06-2.06.94zm-11 1L8.5 8.5l.94-2.06 2.06-.94-2.06-.94L8.5 2.5l-.94 2.06-2.06.94zm10 10l.94 2.06.94-2.06 2.06-.94-2.06-.94-.94-2.06-.94 2.06-2.06.94z\"/><path d=\"M17.41 7.96l-1.37-1.37c-.4-.4-.92-.59-1.43-.59-.52 0-1.04.2-1.43.59L10.3 9.45l-7.72 7.72c-.78.78-.78 2.05 0 2.83L4 21.41c.39.39.9.59 1.41.59.51 0 1.02-.2 1.41-.59l7.78-7.78 2.81-2.81c.8-.78.8-2.07 0-2.86zM5.41 20L4 18.59l7.72-7.72 1.47 1.35L5.41 20z\"/>\n",
              "  </svg>\n",
              "      </button>\n",
              "      \n",
              "  <style>\n",
              "    .colab-df-container {\n",
              "      display:flex;\n",
              "      flex-wrap:wrap;\n",
              "      gap: 12px;\n",
              "    }\n",
              "\n",
              "    .colab-df-convert {\n",
              "      background-color: #E8F0FE;\n",
              "      border: none;\n",
              "      border-radius: 50%;\n",
              "      cursor: pointer;\n",
              "      display: none;\n",
              "      fill: #1967D2;\n",
              "      height: 32px;\n",
              "      padding: 0 0 0 0;\n",
              "      width: 32px;\n",
              "    }\n",
              "\n",
              "    .colab-df-convert:hover {\n",
              "      background-color: #E2EBFA;\n",
              "      box-shadow: 0px 1px 2px rgba(60, 64, 67, 0.3), 0px 1px 3px 1px rgba(60, 64, 67, 0.15);\n",
              "      fill: #174EA6;\n",
              "    }\n",
              "\n",
              "    [theme=dark] .colab-df-convert {\n",
              "      background-color: #3B4455;\n",
              "      fill: #D2E3FC;\n",
              "    }\n",
              "\n",
              "    [theme=dark] .colab-df-convert:hover {\n",
              "      background-color: #434B5C;\n",
              "      box-shadow: 0px 1px 3px 1px rgba(0, 0, 0, 0.15);\n",
              "      filter: drop-shadow(0px 1px 2px rgba(0, 0, 0, 0.3));\n",
              "      fill: #FFFFFF;\n",
              "    }\n",
              "  </style>\n",
              "\n",
              "      <script>\n",
              "        const buttonEl =\n",
              "          document.querySelector('#df-9eeb3f89-55fa-4547-8239-445ccf103f84 button.colab-df-convert');\n",
              "        buttonEl.style.display =\n",
              "          google.colab.kernel.accessAllowed ? 'block' : 'none';\n",
              "\n",
              "        async function convertToInteractive(key) {\n",
              "          const element = document.querySelector('#df-9eeb3f89-55fa-4547-8239-445ccf103f84');\n",
              "          const dataTable =\n",
              "            await google.colab.kernel.invokeFunction('convertToInteractive',\n",
              "                                                     [key], {});\n",
              "          if (!dataTable) return;\n",
              "\n",
              "          const docLinkHtml = 'Like what you see? Visit the ' +\n",
              "            '<a target=\"_blank\" href=https://colab.research.google.com/notebooks/data_table.ipynb>data table notebook</a>'\n",
              "            + ' to learn more about interactive tables.';\n",
              "          element.innerHTML = '';\n",
              "          dataTable['output_type'] = 'display_data';\n",
              "          await google.colab.output.renderOutput(dataTable, element);\n",
              "          const docLink = document.createElement('div');\n",
              "          docLink.innerHTML = docLinkHtml;\n",
              "          element.appendChild(docLink);\n",
              "        }\n",
              "      </script>\n",
              "    </div>\n",
              "  </div>\n",
              "  "
            ],
            "text/plain": [
              "       classe\n",
              "0           1\n",
              "1           1\n",
              "2           1\n",
              "3           1\n",
              "4           1\n",
              "...       ...\n",
              "26802       0\n",
              "26803       0\n",
              "26804       0\n",
              "26805       0\n",
              "26806       0\n",
              "\n",
              "[26807 rows x 1 columns]"
            ]
          },
          "metadata": {},
          "execution_count": 15
        }
      ]
    },
    {
      "cell_type": "code",
      "metadata": {
        "colab": {
          "base_uri": "https://localhost:8080/"
        },
        "id": "yRR-ju6uPQWX",
        "outputId": "cc7bd735-b43f-4196-e06d-ae9b21cadfb3"
      },
      "source": [
        "label_10 = base_completa_10[\"classe\"]\n",
        "label_10"
      ],
      "execution_count": null,
      "outputs": [
        {
          "output_type": "execute_result",
          "data": {
            "text/plain": [
              "0        saudavel\n",
              "1        saudavel\n",
              "2        saudavel\n",
              "3        saudavel\n",
              "4        saudavel\n",
              "           ...   \n",
              "26802      doente\n",
              "26803      doente\n",
              "26804      doente\n",
              "26805      doente\n",
              "26806      doente\n",
              "Name: classe, Length: 26807, dtype: object"
            ]
          },
          "metadata": {},
          "execution_count": 16
        }
      ]
    },
    {
      "cell_type": "code",
      "metadata": {
        "colab": {
          "base_uri": "https://localhost:8080/",
          "height": 423
        },
        "id": "IqKZyexhPXf0",
        "outputId": "f81360f7-a3b3-4edf-c3c2-abc86bfb073d"
      },
      "source": [
        "label_temp_10 = pd.get_dummies(label_10)\n",
        "label_two_10 = pd.concat((label_temp_10, label_10), axis=1)\n",
        "label_two_10 = label_two_10.drop([\"classe\"], axis=1)\n",
        "label_two_10 = label_two_10.drop([\"doente\"], axis=1)\n",
        "label_10 = label_two_10.rename(columns={\"saudavel\": \"classe\"})\n",
        "label_10"
      ],
      "execution_count": null,
      "outputs": [
        {
          "output_type": "execute_result",
          "data": {
            "text/html": [
              "\n",
              "  <div id=\"df-33d99b01-407e-4441-be25-d02b2ec05ddf\">\n",
              "    <div class=\"colab-df-container\">\n",
              "      <div>\n",
              "<style scoped>\n",
              "    .dataframe tbody tr th:only-of-type {\n",
              "        vertical-align: middle;\n",
              "    }\n",
              "\n",
              "    .dataframe tbody tr th {\n",
              "        vertical-align: top;\n",
              "    }\n",
              "\n",
              "    .dataframe thead th {\n",
              "        text-align: right;\n",
              "    }\n",
              "</style>\n",
              "<table border=\"1\" class=\"dataframe\">\n",
              "  <thead>\n",
              "    <tr style=\"text-align: right;\">\n",
              "      <th></th>\n",
              "      <th>classe</th>\n",
              "    </tr>\n",
              "  </thead>\n",
              "  <tbody>\n",
              "    <tr>\n",
              "      <th>0</th>\n",
              "      <td>1</td>\n",
              "    </tr>\n",
              "    <tr>\n",
              "      <th>1</th>\n",
              "      <td>1</td>\n",
              "    </tr>\n",
              "    <tr>\n",
              "      <th>2</th>\n",
              "      <td>1</td>\n",
              "    </tr>\n",
              "    <tr>\n",
              "      <th>3</th>\n",
              "      <td>1</td>\n",
              "    </tr>\n",
              "    <tr>\n",
              "      <th>4</th>\n",
              "      <td>1</td>\n",
              "    </tr>\n",
              "    <tr>\n",
              "      <th>...</th>\n",
              "      <td>...</td>\n",
              "    </tr>\n",
              "    <tr>\n",
              "      <th>26802</th>\n",
              "      <td>0</td>\n",
              "    </tr>\n",
              "    <tr>\n",
              "      <th>26803</th>\n",
              "      <td>0</td>\n",
              "    </tr>\n",
              "    <tr>\n",
              "      <th>26804</th>\n",
              "      <td>0</td>\n",
              "    </tr>\n",
              "    <tr>\n",
              "      <th>26805</th>\n",
              "      <td>0</td>\n",
              "    </tr>\n",
              "    <tr>\n",
              "      <th>26806</th>\n",
              "      <td>0</td>\n",
              "    </tr>\n",
              "  </tbody>\n",
              "</table>\n",
              "<p>26807 rows × 1 columns</p>\n",
              "</div>\n",
              "      <button class=\"colab-df-convert\" onclick=\"convertToInteractive('df-33d99b01-407e-4441-be25-d02b2ec05ddf')\"\n",
              "              title=\"Convert this dataframe to an interactive table.\"\n",
              "              style=\"display:none;\">\n",
              "        \n",
              "  <svg xmlns=\"http://www.w3.org/2000/svg\" height=\"24px\"viewBox=\"0 0 24 24\"\n",
              "       width=\"24px\">\n",
              "    <path d=\"M0 0h24v24H0V0z\" fill=\"none\"/>\n",
              "    <path d=\"M18.56 5.44l.94 2.06.94-2.06 2.06-.94-2.06-.94-.94-2.06-.94 2.06-2.06.94zm-11 1L8.5 8.5l.94-2.06 2.06-.94-2.06-.94L8.5 2.5l-.94 2.06-2.06.94zm10 10l.94 2.06.94-2.06 2.06-.94-2.06-.94-.94-2.06-.94 2.06-2.06.94z\"/><path d=\"M17.41 7.96l-1.37-1.37c-.4-.4-.92-.59-1.43-.59-.52 0-1.04.2-1.43.59L10.3 9.45l-7.72 7.72c-.78.78-.78 2.05 0 2.83L4 21.41c.39.39.9.59 1.41.59.51 0 1.02-.2 1.41-.59l7.78-7.78 2.81-2.81c.8-.78.8-2.07 0-2.86zM5.41 20L4 18.59l7.72-7.72 1.47 1.35L5.41 20z\"/>\n",
              "  </svg>\n",
              "      </button>\n",
              "      \n",
              "  <style>\n",
              "    .colab-df-container {\n",
              "      display:flex;\n",
              "      flex-wrap:wrap;\n",
              "      gap: 12px;\n",
              "    }\n",
              "\n",
              "    .colab-df-convert {\n",
              "      background-color: #E8F0FE;\n",
              "      border: none;\n",
              "      border-radius: 50%;\n",
              "      cursor: pointer;\n",
              "      display: none;\n",
              "      fill: #1967D2;\n",
              "      height: 32px;\n",
              "      padding: 0 0 0 0;\n",
              "      width: 32px;\n",
              "    }\n",
              "\n",
              "    .colab-df-convert:hover {\n",
              "      background-color: #E2EBFA;\n",
              "      box-shadow: 0px 1px 2px rgba(60, 64, 67, 0.3), 0px 1px 3px 1px rgba(60, 64, 67, 0.15);\n",
              "      fill: #174EA6;\n",
              "    }\n",
              "\n",
              "    [theme=dark] .colab-df-convert {\n",
              "      background-color: #3B4455;\n",
              "      fill: #D2E3FC;\n",
              "    }\n",
              "\n",
              "    [theme=dark] .colab-df-convert:hover {\n",
              "      background-color: #434B5C;\n",
              "      box-shadow: 0px 1px 3px 1px rgba(0, 0, 0, 0.15);\n",
              "      filter: drop-shadow(0px 1px 2px rgba(0, 0, 0, 0.3));\n",
              "      fill: #FFFFFF;\n",
              "    }\n",
              "  </style>\n",
              "\n",
              "      <script>\n",
              "        const buttonEl =\n",
              "          document.querySelector('#df-33d99b01-407e-4441-be25-d02b2ec05ddf button.colab-df-convert');\n",
              "        buttonEl.style.display =\n",
              "          google.colab.kernel.accessAllowed ? 'block' : 'none';\n",
              "\n",
              "        async function convertToInteractive(key) {\n",
              "          const element = document.querySelector('#df-33d99b01-407e-4441-be25-d02b2ec05ddf');\n",
              "          const dataTable =\n",
              "            await google.colab.kernel.invokeFunction('convertToInteractive',\n",
              "                                                     [key], {});\n",
              "          if (!dataTable) return;\n",
              "\n",
              "          const docLinkHtml = 'Like what you see? Visit the ' +\n",
              "            '<a target=\"_blank\" href=https://colab.research.google.com/notebooks/data_table.ipynb>data table notebook</a>'\n",
              "            + ' to learn more about interactive tables.';\n",
              "          element.innerHTML = '';\n",
              "          dataTable['output_type'] = 'display_data';\n",
              "          await google.colab.output.renderOutput(dataTable, element);\n",
              "          const docLink = document.createElement('div');\n",
              "          docLink.innerHTML = docLinkHtml;\n",
              "          element.appendChild(docLink);\n",
              "        }\n",
              "      </script>\n",
              "    </div>\n",
              "  </div>\n",
              "  "
            ],
            "text/plain": [
              "       classe\n",
              "0           1\n",
              "1           1\n",
              "2           1\n",
              "3           1\n",
              "4           1\n",
              "...       ...\n",
              "26802       0\n",
              "26803       0\n",
              "26804       0\n",
              "26805       0\n",
              "26806       0\n",
              "\n",
              "[26807 rows x 1 columns]"
            ]
          },
          "metadata": {},
          "execution_count": 17
        }
      ]
    },
    {
      "cell_type": "code",
      "metadata": {
        "id": "tLQ71tJyQyYJ"
      },
      "source": [
        "base_completa = base_completa.drop([\"classe\"], axis=1)\n",
        "base_completa_70 = base_completa_70.drop([\"classe\"], axis=1)\n",
        "base_completa_30 = base_completa_30.drop([\"classe\"], axis=1)\n",
        "base_completa_10 = base_completa_10.drop([\"classe\"], axis=1)"
      ],
      "execution_count": null,
      "outputs": []
    },
    {
      "cell_type": "markdown",
      "metadata": {
        "id": "IUBZMdakbrB1"
      },
      "source": [
        "#Building"
      ]
    },
    {
      "cell_type": "markdown",
      "metadata": {
        "id": "fQa0YW9jbvPD"
      },
      "source": [
        "##Hold-out\n"
      ]
    },
    {
      "cell_type": "code",
      "metadata": {
        "id": "Qgoae-mzb6L2",
        "colab": {
          "base_uri": "https://localhost:8080/",
          "height": 423
        },
        "outputId": "cfcd5f64-c4d3-413c-f593-402a5c5b7763"
      },
      "source": [
        "# Dados de treino e teste base_completa\n",
        "X_train,X_test,y_train,y_test = train_test_split(base_completa,label,test_size=0.3)\n",
        "y_test"
      ],
      "execution_count": null,
      "outputs": [
        {
          "output_type": "execute_result",
          "data": {
            "text/html": [
              "\n",
              "  <div id=\"df-6f5afc66-96ca-4062-98c0-d681504c2cd6\">\n",
              "    <div class=\"colab-df-container\">\n",
              "      <div>\n",
              "<style scoped>\n",
              "    .dataframe tbody tr th:only-of-type {\n",
              "        vertical-align: middle;\n",
              "    }\n",
              "\n",
              "    .dataframe tbody tr th {\n",
              "        vertical-align: top;\n",
              "    }\n",
              "\n",
              "    .dataframe thead th {\n",
              "        text-align: right;\n",
              "    }\n",
              "</style>\n",
              "<table border=\"1\" class=\"dataframe\">\n",
              "  <thead>\n",
              "    <tr style=\"text-align: right;\">\n",
              "      <th></th>\n",
              "      <th>classe</th>\n",
              "    </tr>\n",
              "  </thead>\n",
              "  <tbody>\n",
              "    <tr>\n",
              "      <th>17413</th>\n",
              "      <td>0</td>\n",
              "    </tr>\n",
              "    <tr>\n",
              "      <th>13572</th>\n",
              "      <td>0</td>\n",
              "    </tr>\n",
              "    <tr>\n",
              "      <th>382</th>\n",
              "      <td>1</td>\n",
              "    </tr>\n",
              "    <tr>\n",
              "      <th>16839</th>\n",
              "      <td>0</td>\n",
              "    </tr>\n",
              "    <tr>\n",
              "      <th>20897</th>\n",
              "      <td>0</td>\n",
              "    </tr>\n",
              "    <tr>\n",
              "      <th>...</th>\n",
              "      <td>...</td>\n",
              "    </tr>\n",
              "    <tr>\n",
              "      <th>5711</th>\n",
              "      <td>1</td>\n",
              "    </tr>\n",
              "    <tr>\n",
              "      <th>23314</th>\n",
              "      <td>0</td>\n",
              "    </tr>\n",
              "    <tr>\n",
              "      <th>14880</th>\n",
              "      <td>0</td>\n",
              "    </tr>\n",
              "    <tr>\n",
              "      <th>10989</th>\n",
              "      <td>1</td>\n",
              "    </tr>\n",
              "    <tr>\n",
              "      <th>16009</th>\n",
              "      <td>0</td>\n",
              "    </tr>\n",
              "  </tbody>\n",
              "</table>\n",
              "<p>8043 rows × 1 columns</p>\n",
              "</div>\n",
              "      <button class=\"colab-df-convert\" onclick=\"convertToInteractive('df-6f5afc66-96ca-4062-98c0-d681504c2cd6')\"\n",
              "              title=\"Convert this dataframe to an interactive table.\"\n",
              "              style=\"display:none;\">\n",
              "        \n",
              "  <svg xmlns=\"http://www.w3.org/2000/svg\" height=\"24px\"viewBox=\"0 0 24 24\"\n",
              "       width=\"24px\">\n",
              "    <path d=\"M0 0h24v24H0V0z\" fill=\"none\"/>\n",
              "    <path d=\"M18.56 5.44l.94 2.06.94-2.06 2.06-.94-2.06-.94-.94-2.06-.94 2.06-2.06.94zm-11 1L8.5 8.5l.94-2.06 2.06-.94-2.06-.94L8.5 2.5l-.94 2.06-2.06.94zm10 10l.94 2.06.94-2.06 2.06-.94-2.06-.94-.94-2.06-.94 2.06-2.06.94z\"/><path d=\"M17.41 7.96l-1.37-1.37c-.4-.4-.92-.59-1.43-.59-.52 0-1.04.2-1.43.59L10.3 9.45l-7.72 7.72c-.78.78-.78 2.05 0 2.83L4 21.41c.39.39.9.59 1.41.59.51 0 1.02-.2 1.41-.59l7.78-7.78 2.81-2.81c.8-.78.8-2.07 0-2.86zM5.41 20L4 18.59l7.72-7.72 1.47 1.35L5.41 20z\"/>\n",
              "  </svg>\n",
              "      </button>\n",
              "      \n",
              "  <style>\n",
              "    .colab-df-container {\n",
              "      display:flex;\n",
              "      flex-wrap:wrap;\n",
              "      gap: 12px;\n",
              "    }\n",
              "\n",
              "    .colab-df-convert {\n",
              "      background-color: #E8F0FE;\n",
              "      border: none;\n",
              "      border-radius: 50%;\n",
              "      cursor: pointer;\n",
              "      display: none;\n",
              "      fill: #1967D2;\n",
              "      height: 32px;\n",
              "      padding: 0 0 0 0;\n",
              "      width: 32px;\n",
              "    }\n",
              "\n",
              "    .colab-df-convert:hover {\n",
              "      background-color: #E2EBFA;\n",
              "      box-shadow: 0px 1px 2px rgba(60, 64, 67, 0.3), 0px 1px 3px 1px rgba(60, 64, 67, 0.15);\n",
              "      fill: #174EA6;\n",
              "    }\n",
              "\n",
              "    [theme=dark] .colab-df-convert {\n",
              "      background-color: #3B4455;\n",
              "      fill: #D2E3FC;\n",
              "    }\n",
              "\n",
              "    [theme=dark] .colab-df-convert:hover {\n",
              "      background-color: #434B5C;\n",
              "      box-shadow: 0px 1px 3px 1px rgba(0, 0, 0, 0.15);\n",
              "      filter: drop-shadow(0px 1px 2px rgba(0, 0, 0, 0.3));\n",
              "      fill: #FFFFFF;\n",
              "    }\n",
              "  </style>\n",
              "\n",
              "      <script>\n",
              "        const buttonEl =\n",
              "          document.querySelector('#df-6f5afc66-96ca-4062-98c0-d681504c2cd6 button.colab-df-convert');\n",
              "        buttonEl.style.display =\n",
              "          google.colab.kernel.accessAllowed ? 'block' : 'none';\n",
              "\n",
              "        async function convertToInteractive(key) {\n",
              "          const element = document.querySelector('#df-6f5afc66-96ca-4062-98c0-d681504c2cd6');\n",
              "          const dataTable =\n",
              "            await google.colab.kernel.invokeFunction('convertToInteractive',\n",
              "                                                     [key], {});\n",
              "          if (!dataTable) return;\n",
              "\n",
              "          const docLinkHtml = 'Like what you see? Visit the ' +\n",
              "            '<a target=\"_blank\" href=https://colab.research.google.com/notebooks/data_table.ipynb>data table notebook</a>'\n",
              "            + ' to learn more about interactive tables.';\n",
              "          element.innerHTML = '';\n",
              "          dataTable['output_type'] = 'display_data';\n",
              "          await google.colab.output.renderOutput(dataTable, element);\n",
              "          const docLink = document.createElement('div');\n",
              "          docLink.innerHTML = docLinkHtml;\n",
              "          element.appendChild(docLink);\n",
              "        }\n",
              "      </script>\n",
              "    </div>\n",
              "  </div>\n",
              "  "
            ],
            "text/plain": [
              "       classe\n",
              "17413       0\n",
              "13572       0\n",
              "382         1\n",
              "16839       0\n",
              "20897       0\n",
              "...       ...\n",
              "5711        1\n",
              "23314       0\n",
              "14880       0\n",
              "10989       1\n",
              "16009       0\n",
              "\n",
              "[8043 rows x 1 columns]"
            ]
          },
          "metadata": {},
          "execution_count": 19
        }
      ]
    },
    {
      "cell_type": "code",
      "metadata": {
        "colab": {
          "base_uri": "https://localhost:8080/",
          "height": 423
        },
        "id": "fhLJ2qkcpoXA",
        "outputId": "93496344-cb9b-4752-dfff-4793383dea7a"
      },
      "source": [
        "# Dados de treino e teste base_completa_70\n",
        "X_train_70,X_test_70,y_train_70,y_test_70 = train_test_split(base_completa_70,label_70,test_size=0.3)\n",
        "y_test_70"
      ],
      "execution_count": null,
      "outputs": [
        {
          "output_type": "execute_result",
          "data": {
            "text/html": [
              "\n",
              "  <div id=\"df-b6874b8c-bd35-473e-b6ee-4e81d04584dc\">\n",
              "    <div class=\"colab-df-container\">\n",
              "      <div>\n",
              "<style scoped>\n",
              "    .dataframe tbody tr th:only-of-type {\n",
              "        vertical-align: middle;\n",
              "    }\n",
              "\n",
              "    .dataframe tbody tr th {\n",
              "        vertical-align: top;\n",
              "    }\n",
              "\n",
              "    .dataframe thead th {\n",
              "        text-align: right;\n",
              "    }\n",
              "</style>\n",
              "<table border=\"1\" class=\"dataframe\">\n",
              "  <thead>\n",
              "    <tr style=\"text-align: right;\">\n",
              "      <th></th>\n",
              "      <th>classe</th>\n",
              "    </tr>\n",
              "  </thead>\n",
              "  <tbody>\n",
              "    <tr>\n",
              "      <th>19908</th>\n",
              "      <td>0</td>\n",
              "    </tr>\n",
              "    <tr>\n",
              "      <th>19823</th>\n",
              "      <td>0</td>\n",
              "    </tr>\n",
              "    <tr>\n",
              "      <th>11965</th>\n",
              "      <td>1</td>\n",
              "    </tr>\n",
              "    <tr>\n",
              "      <th>23468</th>\n",
              "      <td>0</td>\n",
              "    </tr>\n",
              "    <tr>\n",
              "      <th>20014</th>\n",
              "      <td>0</td>\n",
              "    </tr>\n",
              "    <tr>\n",
              "      <th>...</th>\n",
              "      <td>...</td>\n",
              "    </tr>\n",
              "    <tr>\n",
              "      <th>11369</th>\n",
              "      <td>1</td>\n",
              "    </tr>\n",
              "    <tr>\n",
              "      <th>16939</th>\n",
              "      <td>0</td>\n",
              "    </tr>\n",
              "    <tr>\n",
              "      <th>11043</th>\n",
              "      <td>1</td>\n",
              "    </tr>\n",
              "    <tr>\n",
              "      <th>13930</th>\n",
              "      <td>0</td>\n",
              "    </tr>\n",
              "    <tr>\n",
              "      <th>13246</th>\n",
              "      <td>1</td>\n",
              "    </tr>\n",
              "  </tbody>\n",
              "</table>\n",
              "<p>8043 rows × 1 columns</p>\n",
              "</div>\n",
              "      <button class=\"colab-df-convert\" onclick=\"convertToInteractive('df-b6874b8c-bd35-473e-b6ee-4e81d04584dc')\"\n",
              "              title=\"Convert this dataframe to an interactive table.\"\n",
              "              style=\"display:none;\">\n",
              "        \n",
              "  <svg xmlns=\"http://www.w3.org/2000/svg\" height=\"24px\"viewBox=\"0 0 24 24\"\n",
              "       width=\"24px\">\n",
              "    <path d=\"M0 0h24v24H0V0z\" fill=\"none\"/>\n",
              "    <path d=\"M18.56 5.44l.94 2.06.94-2.06 2.06-.94-2.06-.94-.94-2.06-.94 2.06-2.06.94zm-11 1L8.5 8.5l.94-2.06 2.06-.94-2.06-.94L8.5 2.5l-.94 2.06-2.06.94zm10 10l.94 2.06.94-2.06 2.06-.94-2.06-.94-.94-2.06-.94 2.06-2.06.94z\"/><path d=\"M17.41 7.96l-1.37-1.37c-.4-.4-.92-.59-1.43-.59-.52 0-1.04.2-1.43.59L10.3 9.45l-7.72 7.72c-.78.78-.78 2.05 0 2.83L4 21.41c.39.39.9.59 1.41.59.51 0 1.02-.2 1.41-.59l7.78-7.78 2.81-2.81c.8-.78.8-2.07 0-2.86zM5.41 20L4 18.59l7.72-7.72 1.47 1.35L5.41 20z\"/>\n",
              "  </svg>\n",
              "      </button>\n",
              "      \n",
              "  <style>\n",
              "    .colab-df-container {\n",
              "      display:flex;\n",
              "      flex-wrap:wrap;\n",
              "      gap: 12px;\n",
              "    }\n",
              "\n",
              "    .colab-df-convert {\n",
              "      background-color: #E8F0FE;\n",
              "      border: none;\n",
              "      border-radius: 50%;\n",
              "      cursor: pointer;\n",
              "      display: none;\n",
              "      fill: #1967D2;\n",
              "      height: 32px;\n",
              "      padding: 0 0 0 0;\n",
              "      width: 32px;\n",
              "    }\n",
              "\n",
              "    .colab-df-convert:hover {\n",
              "      background-color: #E2EBFA;\n",
              "      box-shadow: 0px 1px 2px rgba(60, 64, 67, 0.3), 0px 1px 3px 1px rgba(60, 64, 67, 0.15);\n",
              "      fill: #174EA6;\n",
              "    }\n",
              "\n",
              "    [theme=dark] .colab-df-convert {\n",
              "      background-color: #3B4455;\n",
              "      fill: #D2E3FC;\n",
              "    }\n",
              "\n",
              "    [theme=dark] .colab-df-convert:hover {\n",
              "      background-color: #434B5C;\n",
              "      box-shadow: 0px 1px 3px 1px rgba(0, 0, 0, 0.15);\n",
              "      filter: drop-shadow(0px 1px 2px rgba(0, 0, 0, 0.3));\n",
              "      fill: #FFFFFF;\n",
              "    }\n",
              "  </style>\n",
              "\n",
              "      <script>\n",
              "        const buttonEl =\n",
              "          document.querySelector('#df-b6874b8c-bd35-473e-b6ee-4e81d04584dc button.colab-df-convert');\n",
              "        buttonEl.style.display =\n",
              "          google.colab.kernel.accessAllowed ? 'block' : 'none';\n",
              "\n",
              "        async function convertToInteractive(key) {\n",
              "          const element = document.querySelector('#df-b6874b8c-bd35-473e-b6ee-4e81d04584dc');\n",
              "          const dataTable =\n",
              "            await google.colab.kernel.invokeFunction('convertToInteractive',\n",
              "                                                     [key], {});\n",
              "          if (!dataTable) return;\n",
              "\n",
              "          const docLinkHtml = 'Like what you see? Visit the ' +\n",
              "            '<a target=\"_blank\" href=https://colab.research.google.com/notebooks/data_table.ipynb>data table notebook</a>'\n",
              "            + ' to learn more about interactive tables.';\n",
              "          element.innerHTML = '';\n",
              "          dataTable['output_type'] = 'display_data';\n",
              "          await google.colab.output.renderOutput(dataTable, element);\n",
              "          const docLink = document.createElement('div');\n",
              "          docLink.innerHTML = docLinkHtml;\n",
              "          element.appendChild(docLink);\n",
              "        }\n",
              "      </script>\n",
              "    </div>\n",
              "  </div>\n",
              "  "
            ],
            "text/plain": [
              "       classe\n",
              "19908       0\n",
              "19823       0\n",
              "11965       1\n",
              "23468       0\n",
              "20014       0\n",
              "...       ...\n",
              "11369       1\n",
              "16939       0\n",
              "11043       1\n",
              "13930       0\n",
              "13246       1\n",
              "\n",
              "[8043 rows x 1 columns]"
            ]
          },
          "metadata": {},
          "execution_count": 20
        }
      ]
    },
    {
      "cell_type": "code",
      "metadata": {
        "colab": {
          "base_uri": "https://localhost:8080/",
          "height": 423
        },
        "id": "TnALgzukp8Ni",
        "outputId": "f6f1228f-707c-450f-e36a-6927bc533232"
      },
      "source": [
        "# Dados de treino e teste base_completa_30\n",
        "X_train_30,X_test_30,y_train_30,y_test_30 = train_test_split(base_completa_30,label_30,test_size=0.3)\n",
        "y_test_30"
      ],
      "execution_count": null,
      "outputs": [
        {
          "output_type": "execute_result",
          "data": {
            "text/html": [
              "\n",
              "  <div id=\"df-626fc504-666b-44c4-92b3-995ff22f4f9a\">\n",
              "    <div class=\"colab-df-container\">\n",
              "      <div>\n",
              "<style scoped>\n",
              "    .dataframe tbody tr th:only-of-type {\n",
              "        vertical-align: middle;\n",
              "    }\n",
              "\n",
              "    .dataframe tbody tr th {\n",
              "        vertical-align: top;\n",
              "    }\n",
              "\n",
              "    .dataframe thead th {\n",
              "        text-align: right;\n",
              "    }\n",
              "</style>\n",
              "<table border=\"1\" class=\"dataframe\">\n",
              "  <thead>\n",
              "    <tr style=\"text-align: right;\">\n",
              "      <th></th>\n",
              "      <th>classe</th>\n",
              "    </tr>\n",
              "  </thead>\n",
              "  <tbody>\n",
              "    <tr>\n",
              "      <th>22272</th>\n",
              "      <td>0</td>\n",
              "    </tr>\n",
              "    <tr>\n",
              "      <th>18226</th>\n",
              "      <td>0</td>\n",
              "    </tr>\n",
              "    <tr>\n",
              "      <th>6714</th>\n",
              "      <td>1</td>\n",
              "    </tr>\n",
              "    <tr>\n",
              "      <th>18840</th>\n",
              "      <td>0</td>\n",
              "    </tr>\n",
              "    <tr>\n",
              "      <th>13649</th>\n",
              "      <td>0</td>\n",
              "    </tr>\n",
              "    <tr>\n",
              "      <th>...</th>\n",
              "      <td>...</td>\n",
              "    </tr>\n",
              "    <tr>\n",
              "      <th>18106</th>\n",
              "      <td>0</td>\n",
              "    </tr>\n",
              "    <tr>\n",
              "      <th>15199</th>\n",
              "      <td>0</td>\n",
              "    </tr>\n",
              "    <tr>\n",
              "      <th>4297</th>\n",
              "      <td>1</td>\n",
              "    </tr>\n",
              "    <tr>\n",
              "      <th>14517</th>\n",
              "      <td>0</td>\n",
              "    </tr>\n",
              "    <tr>\n",
              "      <th>15040</th>\n",
              "      <td>0</td>\n",
              "    </tr>\n",
              "  </tbody>\n",
              "</table>\n",
              "<p>8043 rows × 1 columns</p>\n",
              "</div>\n",
              "      <button class=\"colab-df-convert\" onclick=\"convertToInteractive('df-626fc504-666b-44c4-92b3-995ff22f4f9a')\"\n",
              "              title=\"Convert this dataframe to an interactive table.\"\n",
              "              style=\"display:none;\">\n",
              "        \n",
              "  <svg xmlns=\"http://www.w3.org/2000/svg\" height=\"24px\"viewBox=\"0 0 24 24\"\n",
              "       width=\"24px\">\n",
              "    <path d=\"M0 0h24v24H0V0z\" fill=\"none\"/>\n",
              "    <path d=\"M18.56 5.44l.94 2.06.94-2.06 2.06-.94-2.06-.94-.94-2.06-.94 2.06-2.06.94zm-11 1L8.5 8.5l.94-2.06 2.06-.94-2.06-.94L8.5 2.5l-.94 2.06-2.06.94zm10 10l.94 2.06.94-2.06 2.06-.94-2.06-.94-.94-2.06-.94 2.06-2.06.94z\"/><path d=\"M17.41 7.96l-1.37-1.37c-.4-.4-.92-.59-1.43-.59-.52 0-1.04.2-1.43.59L10.3 9.45l-7.72 7.72c-.78.78-.78 2.05 0 2.83L4 21.41c.39.39.9.59 1.41.59.51 0 1.02-.2 1.41-.59l7.78-7.78 2.81-2.81c.8-.78.8-2.07 0-2.86zM5.41 20L4 18.59l7.72-7.72 1.47 1.35L5.41 20z\"/>\n",
              "  </svg>\n",
              "      </button>\n",
              "      \n",
              "  <style>\n",
              "    .colab-df-container {\n",
              "      display:flex;\n",
              "      flex-wrap:wrap;\n",
              "      gap: 12px;\n",
              "    }\n",
              "\n",
              "    .colab-df-convert {\n",
              "      background-color: #E8F0FE;\n",
              "      border: none;\n",
              "      border-radius: 50%;\n",
              "      cursor: pointer;\n",
              "      display: none;\n",
              "      fill: #1967D2;\n",
              "      height: 32px;\n",
              "      padding: 0 0 0 0;\n",
              "      width: 32px;\n",
              "    }\n",
              "\n",
              "    .colab-df-convert:hover {\n",
              "      background-color: #E2EBFA;\n",
              "      box-shadow: 0px 1px 2px rgba(60, 64, 67, 0.3), 0px 1px 3px 1px rgba(60, 64, 67, 0.15);\n",
              "      fill: #174EA6;\n",
              "    }\n",
              "\n",
              "    [theme=dark] .colab-df-convert {\n",
              "      background-color: #3B4455;\n",
              "      fill: #D2E3FC;\n",
              "    }\n",
              "\n",
              "    [theme=dark] .colab-df-convert:hover {\n",
              "      background-color: #434B5C;\n",
              "      box-shadow: 0px 1px 3px 1px rgba(0, 0, 0, 0.15);\n",
              "      filter: drop-shadow(0px 1px 2px rgba(0, 0, 0, 0.3));\n",
              "      fill: #FFFFFF;\n",
              "    }\n",
              "  </style>\n",
              "\n",
              "      <script>\n",
              "        const buttonEl =\n",
              "          document.querySelector('#df-626fc504-666b-44c4-92b3-995ff22f4f9a button.colab-df-convert');\n",
              "        buttonEl.style.display =\n",
              "          google.colab.kernel.accessAllowed ? 'block' : 'none';\n",
              "\n",
              "        async function convertToInteractive(key) {\n",
              "          const element = document.querySelector('#df-626fc504-666b-44c4-92b3-995ff22f4f9a');\n",
              "          const dataTable =\n",
              "            await google.colab.kernel.invokeFunction('convertToInteractive',\n",
              "                                                     [key], {});\n",
              "          if (!dataTable) return;\n",
              "\n",
              "          const docLinkHtml = 'Like what you see? Visit the ' +\n",
              "            '<a target=\"_blank\" href=https://colab.research.google.com/notebooks/data_table.ipynb>data table notebook</a>'\n",
              "            + ' to learn more about interactive tables.';\n",
              "          element.innerHTML = '';\n",
              "          dataTable['output_type'] = 'display_data';\n",
              "          await google.colab.output.renderOutput(dataTable, element);\n",
              "          const docLink = document.createElement('div');\n",
              "          docLink.innerHTML = docLinkHtml;\n",
              "          element.appendChild(docLink);\n",
              "        }\n",
              "      </script>\n",
              "    </div>\n",
              "  </div>\n",
              "  "
            ],
            "text/plain": [
              "       classe\n",
              "22272       0\n",
              "18226       0\n",
              "6714        1\n",
              "18840       0\n",
              "13649       0\n",
              "...       ...\n",
              "18106       0\n",
              "15199       0\n",
              "4297        1\n",
              "14517       0\n",
              "15040       0\n",
              "\n",
              "[8043 rows x 1 columns]"
            ]
          },
          "metadata": {},
          "execution_count": 21
        }
      ]
    },
    {
      "cell_type": "code",
      "metadata": {
        "colab": {
          "base_uri": "https://localhost:8080/",
          "height": 423
        },
        "id": "vlq46qC0qaPC",
        "outputId": "d444a350-4889-41ac-c38a-6e6291380abd"
      },
      "source": [
        "# Dados de treino e teste base_completa_10\n",
        "X_train_10,X_test_10,y_train_10,y_test_10 = train_test_split(base_completa_10,label_10,test_size=0.3)\n",
        "y_test_10"
      ],
      "execution_count": null,
      "outputs": [
        {
          "output_type": "execute_result",
          "data": {
            "text/html": [
              "\n",
              "  <div id=\"df-7f1911d7-5434-4b1d-a55f-49cf4ab2b84b\">\n",
              "    <div class=\"colab-df-container\">\n",
              "      <div>\n",
              "<style scoped>\n",
              "    .dataframe tbody tr th:only-of-type {\n",
              "        vertical-align: middle;\n",
              "    }\n",
              "\n",
              "    .dataframe tbody tr th {\n",
              "        vertical-align: top;\n",
              "    }\n",
              "\n",
              "    .dataframe thead th {\n",
              "        text-align: right;\n",
              "    }\n",
              "</style>\n",
              "<table border=\"1\" class=\"dataframe\">\n",
              "  <thead>\n",
              "    <tr style=\"text-align: right;\">\n",
              "      <th></th>\n",
              "      <th>classe</th>\n",
              "    </tr>\n",
              "  </thead>\n",
              "  <tbody>\n",
              "    <tr>\n",
              "      <th>23756</th>\n",
              "      <td>0</td>\n",
              "    </tr>\n",
              "    <tr>\n",
              "      <th>11170</th>\n",
              "      <td>1</td>\n",
              "    </tr>\n",
              "    <tr>\n",
              "      <th>8573</th>\n",
              "      <td>1</td>\n",
              "    </tr>\n",
              "    <tr>\n",
              "      <th>7465</th>\n",
              "      <td>1</td>\n",
              "    </tr>\n",
              "    <tr>\n",
              "      <th>1312</th>\n",
              "      <td>1</td>\n",
              "    </tr>\n",
              "    <tr>\n",
              "      <th>...</th>\n",
              "      <td>...</td>\n",
              "    </tr>\n",
              "    <tr>\n",
              "      <th>9827</th>\n",
              "      <td>1</td>\n",
              "    </tr>\n",
              "    <tr>\n",
              "      <th>1837</th>\n",
              "      <td>1</td>\n",
              "    </tr>\n",
              "    <tr>\n",
              "      <th>26218</th>\n",
              "      <td>0</td>\n",
              "    </tr>\n",
              "    <tr>\n",
              "      <th>18580</th>\n",
              "      <td>0</td>\n",
              "    </tr>\n",
              "    <tr>\n",
              "      <th>14028</th>\n",
              "      <td>0</td>\n",
              "    </tr>\n",
              "  </tbody>\n",
              "</table>\n",
              "<p>8043 rows × 1 columns</p>\n",
              "</div>\n",
              "      <button class=\"colab-df-convert\" onclick=\"convertToInteractive('df-7f1911d7-5434-4b1d-a55f-49cf4ab2b84b')\"\n",
              "              title=\"Convert this dataframe to an interactive table.\"\n",
              "              style=\"display:none;\">\n",
              "        \n",
              "  <svg xmlns=\"http://www.w3.org/2000/svg\" height=\"24px\"viewBox=\"0 0 24 24\"\n",
              "       width=\"24px\">\n",
              "    <path d=\"M0 0h24v24H0V0z\" fill=\"none\"/>\n",
              "    <path d=\"M18.56 5.44l.94 2.06.94-2.06 2.06-.94-2.06-.94-.94-2.06-.94 2.06-2.06.94zm-11 1L8.5 8.5l.94-2.06 2.06-.94-2.06-.94L8.5 2.5l-.94 2.06-2.06.94zm10 10l.94 2.06.94-2.06 2.06-.94-2.06-.94-.94-2.06-.94 2.06-2.06.94z\"/><path d=\"M17.41 7.96l-1.37-1.37c-.4-.4-.92-.59-1.43-.59-.52 0-1.04.2-1.43.59L10.3 9.45l-7.72 7.72c-.78.78-.78 2.05 0 2.83L4 21.41c.39.39.9.59 1.41.59.51 0 1.02-.2 1.41-.59l7.78-7.78 2.81-2.81c.8-.78.8-2.07 0-2.86zM5.41 20L4 18.59l7.72-7.72 1.47 1.35L5.41 20z\"/>\n",
              "  </svg>\n",
              "      </button>\n",
              "      \n",
              "  <style>\n",
              "    .colab-df-container {\n",
              "      display:flex;\n",
              "      flex-wrap:wrap;\n",
              "      gap: 12px;\n",
              "    }\n",
              "\n",
              "    .colab-df-convert {\n",
              "      background-color: #E8F0FE;\n",
              "      border: none;\n",
              "      border-radius: 50%;\n",
              "      cursor: pointer;\n",
              "      display: none;\n",
              "      fill: #1967D2;\n",
              "      height: 32px;\n",
              "      padding: 0 0 0 0;\n",
              "      width: 32px;\n",
              "    }\n",
              "\n",
              "    .colab-df-convert:hover {\n",
              "      background-color: #E2EBFA;\n",
              "      box-shadow: 0px 1px 2px rgba(60, 64, 67, 0.3), 0px 1px 3px 1px rgba(60, 64, 67, 0.15);\n",
              "      fill: #174EA6;\n",
              "    }\n",
              "\n",
              "    [theme=dark] .colab-df-convert {\n",
              "      background-color: #3B4455;\n",
              "      fill: #D2E3FC;\n",
              "    }\n",
              "\n",
              "    [theme=dark] .colab-df-convert:hover {\n",
              "      background-color: #434B5C;\n",
              "      box-shadow: 0px 1px 3px 1px rgba(0, 0, 0, 0.15);\n",
              "      filter: drop-shadow(0px 1px 2px rgba(0, 0, 0, 0.3));\n",
              "      fill: #FFFFFF;\n",
              "    }\n",
              "  </style>\n",
              "\n",
              "      <script>\n",
              "        const buttonEl =\n",
              "          document.querySelector('#df-7f1911d7-5434-4b1d-a55f-49cf4ab2b84b button.colab-df-convert');\n",
              "        buttonEl.style.display =\n",
              "          google.colab.kernel.accessAllowed ? 'block' : 'none';\n",
              "\n",
              "        async function convertToInteractive(key) {\n",
              "          const element = document.querySelector('#df-7f1911d7-5434-4b1d-a55f-49cf4ab2b84b');\n",
              "          const dataTable =\n",
              "            await google.colab.kernel.invokeFunction('convertToInteractive',\n",
              "                                                     [key], {});\n",
              "          if (!dataTable) return;\n",
              "\n",
              "          const docLinkHtml = 'Like what you see? Visit the ' +\n",
              "            '<a target=\"_blank\" href=https://colab.research.google.com/notebooks/data_table.ipynb>data table notebook</a>'\n",
              "            + ' to learn more about interactive tables.';\n",
              "          element.innerHTML = '';\n",
              "          dataTable['output_type'] = 'display_data';\n",
              "          await google.colab.output.renderOutput(dataTable, element);\n",
              "          const docLink = document.createElement('div');\n",
              "          docLink.innerHTML = docLinkHtml;\n",
              "          element.appendChild(docLink);\n",
              "        }\n",
              "      </script>\n",
              "    </div>\n",
              "  </div>\n",
              "  "
            ],
            "text/plain": [
              "       classe\n",
              "23756       0\n",
              "11170       1\n",
              "8573        1\n",
              "7465        1\n",
              "1312        1\n",
              "...       ...\n",
              "9827        1\n",
              "1837        1\n",
              "26218       0\n",
              "18580       0\n",
              "14028       0\n",
              "\n",
              "[8043 rows x 1 columns]"
            ]
          },
          "metadata": {},
          "execution_count": 22
        }
      ]
    },
    {
      "cell_type": "markdown",
      "metadata": {
        "id": "t_Af9C_ncAXe"
      },
      "source": [
        "##Training\n"
      ]
    },
    {
      "cell_type": "markdown",
      "source": [
        "###MLP"
      ],
      "metadata": {
        "id": "-jhlBDj_xJDP"
      }
    },
    {
      "cell_type": "code",
      "source": [
        "#MLP base_completa\n",
        "clf_mlp = MLPClassifier(solver='lbfgs', alpha=1e-5, hidden_layer_sizes=(5, 2), random_state=1)\n",
        "clf_mlp.fit(X_train, y_train)"
      ],
      "metadata": {
        "colab": {
          "base_uri": "https://localhost:8080/"
        },
        "id": "4Tgr8D3_4vQh",
        "outputId": "619bf4b8-0991-4b3f-a01a-ae9f92f26407"
      },
      "execution_count": null,
      "outputs": [
        {
          "output_type": "stream",
          "name": "stderr",
          "text": [
            "/usr/local/lib/python3.7/dist-packages/sklearn/neural_network/_multilayer_perceptron.py:1109: DataConversionWarning: A column-vector y was passed when a 1d array was expected. Please change the shape of y to (n_samples, ), for example using ravel().\n",
            "  y = column_or_1d(y, warn=True)\n"
          ]
        },
        {
          "output_type": "execute_result",
          "data": {
            "text/plain": [
              "MLPClassifier(alpha=1e-05, hidden_layer_sizes=(5, 2), random_state=1,\n",
              "              solver='lbfgs')"
            ]
          },
          "metadata": {},
          "execution_count": 23
        }
      ]
    },
    {
      "cell_type": "code",
      "source": [
        "#MLP base_completa_70\n",
        "clf_mlp_70 = MLPClassifier(solver='lbfgs', alpha=1e-5, hidden_layer_sizes=(5, 2), random_state=1)\n",
        "clf_mlp_70.fit(X_train_70, y_train_70)"
      ],
      "metadata": {
        "colab": {
          "base_uri": "https://localhost:8080/"
        },
        "id": "CHABxRQx4YGz",
        "outputId": "23360945-d4e1-4102-dbee-a8a9ca956d52"
      },
      "execution_count": null,
      "outputs": [
        {
          "output_type": "stream",
          "name": "stderr",
          "text": [
            "/usr/local/lib/python3.7/dist-packages/sklearn/neural_network/_multilayer_perceptron.py:1109: DataConversionWarning: A column-vector y was passed when a 1d array was expected. Please change the shape of y to (n_samples, ), for example using ravel().\n",
            "  y = column_or_1d(y, warn=True)\n",
            "/usr/local/lib/python3.7/dist-packages/sklearn/neural_network/_multilayer_perceptron.py:549: ConvergenceWarning: lbfgs failed to converge (status=1):\n",
            "STOP: TOTAL NO. of ITERATIONS REACHED LIMIT.\n",
            "\n",
            "Increase the number of iterations (max_iter) or scale the data as shown in:\n",
            "    https://scikit-learn.org/stable/modules/preprocessing.html\n",
            "  self.n_iter_ = _check_optimize_result(\"lbfgs\", opt_res, self.max_iter)\n"
          ]
        },
        {
          "output_type": "execute_result",
          "data": {
            "text/plain": [
              "MLPClassifier(alpha=1e-05, hidden_layer_sizes=(5, 2), random_state=1,\n",
              "              solver='lbfgs')"
            ]
          },
          "metadata": {},
          "execution_count": 24
        }
      ]
    },
    {
      "cell_type": "code",
      "source": [
        "#MLP base_completa_30\n",
        "clf_mlp_30 = MLPClassifier(solver='lbfgs', alpha=1e-5, hidden_layer_sizes=(5, 2), random_state=1)\n",
        "clf_mlp_30.fit(X_train_30, y_train_30)"
      ],
      "metadata": {
        "colab": {
          "base_uri": "https://localhost:8080/"
        },
        "id": "-20JNOXa3u99",
        "outputId": "42c4c56b-a61b-44fa-b2c9-d4485e90c86c"
      },
      "execution_count": null,
      "outputs": [
        {
          "output_type": "stream",
          "name": "stderr",
          "text": [
            "/usr/local/lib/python3.7/dist-packages/sklearn/neural_network/_multilayer_perceptron.py:1109: DataConversionWarning: A column-vector y was passed when a 1d array was expected. Please change the shape of y to (n_samples, ), for example using ravel().\n",
            "  y = column_or_1d(y, warn=True)\n",
            "/usr/local/lib/python3.7/dist-packages/sklearn/neural_network/_multilayer_perceptron.py:549: ConvergenceWarning: lbfgs failed to converge (status=1):\n",
            "STOP: TOTAL NO. of ITERATIONS REACHED LIMIT.\n",
            "\n",
            "Increase the number of iterations (max_iter) or scale the data as shown in:\n",
            "    https://scikit-learn.org/stable/modules/preprocessing.html\n",
            "  self.n_iter_ = _check_optimize_result(\"lbfgs\", opt_res, self.max_iter)\n"
          ]
        },
        {
          "output_type": "execute_result",
          "data": {
            "text/plain": [
              "MLPClassifier(alpha=1e-05, hidden_layer_sizes=(5, 2), random_state=1,\n",
              "              solver='lbfgs')"
            ]
          },
          "metadata": {},
          "execution_count": 25
        }
      ]
    },
    {
      "cell_type": "code",
      "source": [
        "#MLP base_completa_10\n",
        "clf_mlp_10 = MLPClassifier(solver='lbfgs', alpha=1e-5, hidden_layer_sizes=(5, 2), random_state=1)\n",
        "clf_mlp_10.fit(X_train_10, y_train_10)"
      ],
      "metadata": {
        "colab": {
          "base_uri": "https://localhost:8080/"
        },
        "id": "x_haf1JSxH97",
        "outputId": "cf1ebb42-4fb7-454f-e3b7-3449e94c2fbc"
      },
      "execution_count": null,
      "outputs": [
        {
          "output_type": "stream",
          "name": "stderr",
          "text": [
            "/usr/local/lib/python3.7/dist-packages/sklearn/neural_network/_multilayer_perceptron.py:1109: DataConversionWarning: A column-vector y was passed when a 1d array was expected. Please change the shape of y to (n_samples, ), for example using ravel().\n",
            "  y = column_or_1d(y, warn=True)\n",
            "/usr/local/lib/python3.7/dist-packages/sklearn/neural_network/_multilayer_perceptron.py:549: ConvergenceWarning: lbfgs failed to converge (status=1):\n",
            "STOP: TOTAL NO. of ITERATIONS REACHED LIMIT.\n",
            "\n",
            "Increase the number of iterations (max_iter) or scale the data as shown in:\n",
            "    https://scikit-learn.org/stable/modules/preprocessing.html\n",
            "  self.n_iter_ = _check_optimize_result(\"lbfgs\", opt_res, self.max_iter)\n"
          ]
        },
        {
          "output_type": "execute_result",
          "data": {
            "text/plain": [
              "MLPClassifier(alpha=1e-05, hidden_layer_sizes=(5, 2), random_state=1,\n",
              "              solver='lbfgs')"
            ]
          },
          "metadata": {},
          "execution_count": 26
        }
      ]
    },
    {
      "cell_type": "markdown",
      "metadata": {
        "id": "2RPol6LndAds"
      },
      "source": [
        "###Tree"
      ]
    },
    {
      "cell_type": "code",
      "metadata": {
        "id": "wYdbJ2CEc_VE",
        "colab": {
          "base_uri": "https://localhost:8080/"
        },
        "outputId": "bb01ba5a-468a-4600-eb12-bc785a5fe25d"
      },
      "source": [
        "#tree base_completa\n",
        "clf_tree = DecisionTreeClassifier()\n",
        "clf_tree.fit(X_train, y_train)"
      ],
      "execution_count": null,
      "outputs": [
        {
          "output_type": "execute_result",
          "data": {
            "text/plain": [
              "DecisionTreeClassifier(ccp_alpha=0.0, class_weight=None, criterion='gini',\n",
              "                       max_depth=None, max_features=None, max_leaf_nodes=None,\n",
              "                       min_impurity_decrease=0.0, min_impurity_split=None,\n",
              "                       min_samples_leaf=1, min_samples_split=2,\n",
              "                       min_weight_fraction_leaf=0.0, presort='deprecated',\n",
              "                       random_state=None, splitter='best')"
            ]
          },
          "metadata": {
            "tags": []
          },
          "execution_count": 25
        }
      ]
    },
    {
      "cell_type": "code",
      "metadata": {
        "id": "RfS8R429qi5P",
        "colab": {
          "base_uri": "https://localhost:8080/"
        },
        "outputId": "4dc634fd-e8fd-421b-d111-704b42990039"
      },
      "source": [
        "#tree base_completa_70\n",
        "clf_tree_70 = DecisionTreeClassifier()\n",
        "clf_tree_70.fit(X_train_70, y_train_70)"
      ],
      "execution_count": null,
      "outputs": [
        {
          "output_type": "execute_result",
          "data": {
            "text/plain": [
              "DecisionTreeClassifier(ccp_alpha=0.0, class_weight=None, criterion='gini',\n",
              "                       max_depth=None, max_features=None, max_leaf_nodes=None,\n",
              "                       min_impurity_decrease=0.0, min_impurity_split=None,\n",
              "                       min_samples_leaf=1, min_samples_split=2,\n",
              "                       min_weight_fraction_leaf=0.0, presort='deprecated',\n",
              "                       random_state=None, splitter='best')"
            ]
          },
          "metadata": {
            "tags": []
          },
          "execution_count": 26
        }
      ]
    },
    {
      "cell_type": "code",
      "metadata": {
        "id": "fv9U8tyTqvP7",
        "colab": {
          "base_uri": "https://localhost:8080/"
        },
        "outputId": "132f2475-b380-4cfc-a648-192ed9b00920"
      },
      "source": [
        "#tree base_completa_30\n",
        "clf_tree_30 = DecisionTreeClassifier()\n",
        "clf_tree_30.fit(X_train_30, y_train_30)"
      ],
      "execution_count": null,
      "outputs": [
        {
          "output_type": "execute_result",
          "data": {
            "text/plain": [
              "DecisionTreeClassifier(ccp_alpha=0.0, class_weight=None, criterion='gini',\n",
              "                       max_depth=None, max_features=None, max_leaf_nodes=None,\n",
              "                       min_impurity_decrease=0.0, min_impurity_split=None,\n",
              "                       min_samples_leaf=1, min_samples_split=2,\n",
              "                       min_weight_fraction_leaf=0.0, presort='deprecated',\n",
              "                       random_state=None, splitter='best')"
            ]
          },
          "metadata": {
            "tags": []
          },
          "execution_count": 27
        }
      ]
    },
    {
      "cell_type": "code",
      "metadata": {
        "id": "jZXiQt1Aq0cl",
        "colab": {
          "base_uri": "https://localhost:8080/"
        },
        "outputId": "14ff7e3b-b3c1-4e2f-920c-de823f35e372"
      },
      "source": [
        "#tree base_completa_10\n",
        "clf_tree_10 = DecisionTreeClassifier()\n",
        "clf_tree_10.fit(X_train_10, y_train_10)"
      ],
      "execution_count": null,
      "outputs": [
        {
          "output_type": "execute_result",
          "data": {
            "text/plain": [
              "DecisionTreeClassifier(ccp_alpha=0.0, class_weight=None, criterion='gini',\n",
              "                       max_depth=None, max_features=None, max_leaf_nodes=None,\n",
              "                       min_impurity_decrease=0.0, min_impurity_split=None,\n",
              "                       min_samples_leaf=1, min_samples_split=2,\n",
              "                       min_weight_fraction_leaf=0.0, presort='deprecated',\n",
              "                       random_state=None, splitter='best')"
            ]
          },
          "metadata": {
            "tags": []
          },
          "execution_count": 28
        }
      ]
    },
    {
      "cell_type": "markdown",
      "metadata": {
        "id": "xThPRtSDdHFA"
      },
      "source": [
        "###SVM"
      ]
    },
    {
      "cell_type": "code",
      "metadata": {
        "id": "_e2JG0jCdMGY",
        "colab": {
          "base_uri": "https://localhost:8080/"
        },
        "outputId": "2985f242-ba4b-4304-f5ff-89bb2ed91e4d"
      },
      "source": [
        "#svm base_completa\n",
        "clf_svm = svm.SVC()\n",
        "clf_svm.fit(X_train, y_train)"
      ],
      "execution_count": null,
      "outputs": [
        {
          "output_type": "stream",
          "text": [
            "/usr/local/lib/python3.7/dist-packages/sklearn/utils/validation.py:760: DataConversionWarning: A column-vector y was passed when a 1d array was expected. Please change the shape of y to (n_samples, ), for example using ravel().\n",
            "  y = column_or_1d(y, warn=True)\n"
          ],
          "name": "stderr"
        },
        {
          "output_type": "execute_result",
          "data": {
            "text/plain": [
              "SVC(C=1.0, break_ties=False, cache_size=200, class_weight=None, coef0=0.0,\n",
              "    decision_function_shape='ovr', degree=3, gamma='scale', kernel='rbf',\n",
              "    max_iter=-1, probability=False, random_state=None, shrinking=True,\n",
              "    tol=0.001, verbose=False)"
            ]
          },
          "metadata": {
            "tags": []
          },
          "execution_count": 29
        }
      ]
    },
    {
      "cell_type": "code",
      "metadata": {
        "id": "r8DsQlaTq7u1",
        "colab": {
          "base_uri": "https://localhost:8080/"
        },
        "outputId": "49bdf28f-5ac3-454f-dda5-3ab1f1a77d00"
      },
      "source": [
        "#svm base_completa_70\n",
        "clf_svm_70 = svm.SVC()\n",
        "clf_svm_70.fit(X_train_70, y_train_70)"
      ],
      "execution_count": null,
      "outputs": [
        {
          "output_type": "stream",
          "text": [
            "/usr/local/lib/python3.7/dist-packages/sklearn/utils/validation.py:760: DataConversionWarning: A column-vector y was passed when a 1d array was expected. Please change the shape of y to (n_samples, ), for example using ravel().\n",
            "  y = column_or_1d(y, warn=True)\n"
          ],
          "name": "stderr"
        },
        {
          "output_type": "execute_result",
          "data": {
            "text/plain": [
              "SVC(C=1.0, break_ties=False, cache_size=200, class_weight=None, coef0=0.0,\n",
              "    decision_function_shape='ovr', degree=3, gamma='scale', kernel='rbf',\n",
              "    max_iter=-1, probability=False, random_state=None, shrinking=True,\n",
              "    tol=0.001, verbose=False)"
            ]
          },
          "metadata": {
            "tags": []
          },
          "execution_count": 30
        }
      ]
    },
    {
      "cell_type": "code",
      "metadata": {
        "id": "WGBol6herL_p",
        "colab": {
          "base_uri": "https://localhost:8080/"
        },
        "outputId": "442415cf-6200-4041-803c-ad22e4eb4bc8"
      },
      "source": [
        "#svm base_completa_30\n",
        "clf_svm_30 = svm.SVC()\n",
        "clf_svm_30.fit(X_train_30, y_train_30)"
      ],
      "execution_count": null,
      "outputs": [
        {
          "output_type": "stream",
          "text": [
            "/usr/local/lib/python3.7/dist-packages/sklearn/utils/validation.py:760: DataConversionWarning: A column-vector y was passed when a 1d array was expected. Please change the shape of y to (n_samples, ), for example using ravel().\n",
            "  y = column_or_1d(y, warn=True)\n"
          ],
          "name": "stderr"
        },
        {
          "output_type": "execute_result",
          "data": {
            "text/plain": [
              "SVC(C=1.0, break_ties=False, cache_size=200, class_weight=None, coef0=0.0,\n",
              "    decision_function_shape='ovr', degree=3, gamma='scale', kernel='rbf',\n",
              "    max_iter=-1, probability=False, random_state=None, shrinking=True,\n",
              "    tol=0.001, verbose=False)"
            ]
          },
          "metadata": {
            "tags": []
          },
          "execution_count": 31
        }
      ]
    },
    {
      "cell_type": "code",
      "metadata": {
        "id": "ANnnTP6yrUit",
        "colab": {
          "base_uri": "https://localhost:8080/"
        },
        "outputId": "001a31bc-0e00-4f6c-fbbf-70a3641c6630"
      },
      "source": [
        "#svm base_completa_10\n",
        "clf_svm_10 = svm.SVC()\n",
        "clf_svm_10.fit(X_train_10, y_train_10)"
      ],
      "execution_count": null,
      "outputs": [
        {
          "output_type": "stream",
          "text": [
            "/usr/local/lib/python3.7/dist-packages/sklearn/utils/validation.py:760: DataConversionWarning: A column-vector y was passed when a 1d array was expected. Please change the shape of y to (n_samples, ), for example using ravel().\n",
            "  y = column_or_1d(y, warn=True)\n"
          ],
          "name": "stderr"
        },
        {
          "output_type": "execute_result",
          "data": {
            "text/plain": [
              "SVC(C=1.0, break_ties=False, cache_size=200, class_weight=None, coef0=0.0,\n",
              "    decision_function_shape='ovr', degree=3, gamma='scale', kernel='rbf',\n",
              "    max_iter=-1, probability=False, random_state=None, shrinking=True,\n",
              "    tol=0.001, verbose=False)"
            ]
          },
          "metadata": {
            "tags": []
          },
          "execution_count": 32
        }
      ]
    },
    {
      "cell_type": "markdown",
      "metadata": {
        "id": "jyjcEGBMdSh4"
      },
      "source": [
        "###K-NN"
      ]
    },
    {
      "cell_type": "markdown",
      "metadata": {
        "id": "t4-zsMAysv6I"
      },
      "source": [
        "####1-NN\n"
      ]
    },
    {
      "cell_type": "code",
      "metadata": {
        "id": "WcroNo67dcfB",
        "colab": {
          "base_uri": "https://localhost:8080/"
        },
        "outputId": "b4371011-998f-489c-9afb-cbe909aa0c43"
      },
      "source": [
        "#1-nn base_completa\n",
        "nn1 = KNeighborsClassifier(n_neighbors=1)\n",
        "nn1.fit(X_train, y_train)"
      ],
      "execution_count": null,
      "outputs": [
        {
          "output_type": "stream",
          "text": [
            "/usr/local/lib/python3.7/dist-packages/ipykernel_launcher.py:3: DataConversionWarning: A column-vector y was passed when a 1d array was expected. Please change the shape of y to (n_samples, ), for example using ravel().\n",
            "  This is separate from the ipykernel package so we can avoid doing imports until\n"
          ],
          "name": "stderr"
        },
        {
          "output_type": "execute_result",
          "data": {
            "text/plain": [
              "KNeighborsClassifier(algorithm='auto', leaf_size=30, metric='minkowski',\n",
              "                     metric_params=None, n_jobs=None, n_neighbors=1, p=2,\n",
              "                     weights='uniform')"
            ]
          },
          "metadata": {
            "tags": []
          },
          "execution_count": 33
        }
      ]
    },
    {
      "cell_type": "code",
      "metadata": {
        "id": "Qqk8xcBSrvzx",
        "colab": {
          "base_uri": "https://localhost:8080/"
        },
        "outputId": "fd897109-8a98-496e-bcf1-d7673debd243"
      },
      "source": [
        "#1-nn base_completa_70\n",
        "nn1_70 = KNeighborsClassifier(n_neighbors=1)\n",
        "nn1_70.fit(X_train_70, y_train_70)"
      ],
      "execution_count": null,
      "outputs": [
        {
          "output_type": "stream",
          "text": [
            "/usr/local/lib/python3.7/dist-packages/ipykernel_launcher.py:3: DataConversionWarning: A column-vector y was passed when a 1d array was expected. Please change the shape of y to (n_samples, ), for example using ravel().\n",
            "  This is separate from the ipykernel package so we can avoid doing imports until\n"
          ],
          "name": "stderr"
        },
        {
          "output_type": "execute_result",
          "data": {
            "text/plain": [
              "KNeighborsClassifier(algorithm='auto', leaf_size=30, metric='minkowski',\n",
              "                     metric_params=None, n_jobs=None, n_neighbors=1, p=2,\n",
              "                     weights='uniform')"
            ]
          },
          "metadata": {
            "tags": []
          },
          "execution_count": 34
        }
      ]
    },
    {
      "cell_type": "code",
      "metadata": {
        "id": "_9v9OzuPr8yr",
        "colab": {
          "base_uri": "https://localhost:8080/"
        },
        "outputId": "96559628-eee0-4472-9d94-670616b244cf"
      },
      "source": [
        "#1-nn base_completa_30\n",
        "nn1_30 = KNeighborsClassifier(n_neighbors=1)\n",
        "nn1_30.fit(X_train_30, y_train_30)"
      ],
      "execution_count": null,
      "outputs": [
        {
          "output_type": "stream",
          "text": [
            "/usr/local/lib/python3.7/dist-packages/ipykernel_launcher.py:3: DataConversionWarning: A column-vector y was passed when a 1d array was expected. Please change the shape of y to (n_samples, ), for example using ravel().\n",
            "  This is separate from the ipykernel package so we can avoid doing imports until\n"
          ],
          "name": "stderr"
        },
        {
          "output_type": "execute_result",
          "data": {
            "text/plain": [
              "KNeighborsClassifier(algorithm='auto', leaf_size=30, metric='minkowski',\n",
              "                     metric_params=None, n_jobs=None, n_neighbors=1, p=2,\n",
              "                     weights='uniform')"
            ]
          },
          "metadata": {
            "tags": []
          },
          "execution_count": 35
        }
      ]
    },
    {
      "cell_type": "code",
      "metadata": {
        "id": "2-f7fx0TsDYg",
        "colab": {
          "base_uri": "https://localhost:8080/"
        },
        "outputId": "d62023c2-3892-46eb-e9ca-9c9ceedefc90"
      },
      "source": [
        "#1-nn base_completa_10\n",
        "nn1_10 = KNeighborsClassifier(n_neighbors=1)\n",
        "nn1_10.fit(X_train_10, y_train_10)"
      ],
      "execution_count": null,
      "outputs": [
        {
          "output_type": "stream",
          "text": [
            "/usr/local/lib/python3.7/dist-packages/ipykernel_launcher.py:3: DataConversionWarning: A column-vector y was passed when a 1d array was expected. Please change the shape of y to (n_samples, ), for example using ravel().\n",
            "  This is separate from the ipykernel package so we can avoid doing imports until\n"
          ],
          "name": "stderr"
        },
        {
          "output_type": "execute_result",
          "data": {
            "text/plain": [
              "KNeighborsClassifier(algorithm='auto', leaf_size=30, metric='minkowski',\n",
              "                     metric_params=None, n_jobs=None, n_neighbors=1, p=2,\n",
              "                     weights='uniform')"
            ]
          },
          "metadata": {
            "tags": []
          },
          "execution_count": 36
        }
      ]
    },
    {
      "cell_type": "markdown",
      "metadata": {
        "id": "MJeKHh4ls8yo"
      },
      "source": [
        "####2-NN\n"
      ]
    },
    {
      "cell_type": "code",
      "metadata": {
        "id": "WrFFfY3gduQt",
        "colab": {
          "base_uri": "https://localhost:8080/"
        },
        "outputId": "c447aff8-e4f1-49bf-81a3-27b6f455e8d3"
      },
      "source": [
        "#2-nn base_completa\n",
        "nn2 = KNeighborsClassifier(n_neighbors=2)\n",
        "nn2.fit(X_train, y_train)"
      ],
      "execution_count": null,
      "outputs": [
        {
          "output_type": "stream",
          "text": [
            "/usr/local/lib/python3.7/dist-packages/ipykernel_launcher.py:3: DataConversionWarning: A column-vector y was passed when a 1d array was expected. Please change the shape of y to (n_samples, ), for example using ravel().\n",
            "  This is separate from the ipykernel package so we can avoid doing imports until\n"
          ],
          "name": "stderr"
        },
        {
          "output_type": "execute_result",
          "data": {
            "text/plain": [
              "KNeighborsClassifier(algorithm='auto', leaf_size=30, metric='minkowski',\n",
              "                     metric_params=None, n_jobs=None, n_neighbors=2, p=2,\n",
              "                     weights='uniform')"
            ]
          },
          "metadata": {
            "tags": []
          },
          "execution_count": 37
        }
      ]
    },
    {
      "cell_type": "code",
      "metadata": {
        "id": "vdC-p5KGsQ7D",
        "colab": {
          "base_uri": "https://localhost:8080/"
        },
        "outputId": "1b93640d-49e2-4bf7-cac2-afb495ec836c"
      },
      "source": [
        "#2-nn base_completa_70\n",
        "nn2_70 = KNeighborsClassifier(n_neighbors=2)\n",
        "nn2_70.fit(X_train_70, y_train_70)"
      ],
      "execution_count": null,
      "outputs": [
        {
          "output_type": "stream",
          "text": [
            "/usr/local/lib/python3.7/dist-packages/ipykernel_launcher.py:3: DataConversionWarning: A column-vector y was passed when a 1d array was expected. Please change the shape of y to (n_samples, ), for example using ravel().\n",
            "  This is separate from the ipykernel package so we can avoid doing imports until\n"
          ],
          "name": "stderr"
        },
        {
          "output_type": "execute_result",
          "data": {
            "text/plain": [
              "KNeighborsClassifier(algorithm='auto', leaf_size=30, metric='minkowski',\n",
              "                     metric_params=None, n_jobs=None, n_neighbors=2, p=2,\n",
              "                     weights='uniform')"
            ]
          },
          "metadata": {
            "tags": []
          },
          "execution_count": 38
        }
      ]
    },
    {
      "cell_type": "code",
      "metadata": {
        "id": "65qzhRQmsWng",
        "colab": {
          "base_uri": "https://localhost:8080/"
        },
        "outputId": "a9d212ee-1b33-4828-b706-7c492bd258f2"
      },
      "source": [
        "#2-nn base_completa_30\n",
        "nn2_30 = KNeighborsClassifier(n_neighbors=2)\n",
        "nn2_30.fit(X_train_30, y_train_30)"
      ],
      "execution_count": null,
      "outputs": [
        {
          "output_type": "stream",
          "text": [
            "/usr/local/lib/python3.7/dist-packages/ipykernel_launcher.py:3: DataConversionWarning: A column-vector y was passed when a 1d array was expected. Please change the shape of y to (n_samples, ), for example using ravel().\n",
            "  This is separate from the ipykernel package so we can avoid doing imports until\n"
          ],
          "name": "stderr"
        },
        {
          "output_type": "execute_result",
          "data": {
            "text/plain": [
              "KNeighborsClassifier(algorithm='auto', leaf_size=30, metric='minkowski',\n",
              "                     metric_params=None, n_jobs=None, n_neighbors=2, p=2,\n",
              "                     weights='uniform')"
            ]
          },
          "metadata": {
            "tags": []
          },
          "execution_count": 39
        }
      ]
    },
    {
      "cell_type": "code",
      "metadata": {
        "id": "7UOczgGqsphE",
        "colab": {
          "base_uri": "https://localhost:8080/"
        },
        "outputId": "c3356c52-c13a-4e03-9618-d2451504e7ac"
      },
      "source": [
        "#2-nn base_completa_10\n",
        "nn2_10 = KNeighborsClassifier(n_neighbors=2)\n",
        "nn2_10.fit(X_train_10, y_train_10)"
      ],
      "execution_count": null,
      "outputs": [
        {
          "output_type": "stream",
          "text": [
            "/usr/local/lib/python3.7/dist-packages/ipykernel_launcher.py:3: DataConversionWarning: A column-vector y was passed when a 1d array was expected. Please change the shape of y to (n_samples, ), for example using ravel().\n",
            "  This is separate from the ipykernel package so we can avoid doing imports until\n"
          ],
          "name": "stderr"
        },
        {
          "output_type": "execute_result",
          "data": {
            "text/plain": [
              "KNeighborsClassifier(algorithm='auto', leaf_size=30, metric='minkowski',\n",
              "                     metric_params=None, n_jobs=None, n_neighbors=2, p=2,\n",
              "                     weights='uniform')"
            ]
          },
          "metadata": {
            "tags": []
          },
          "execution_count": 40
        }
      ]
    },
    {
      "cell_type": "markdown",
      "metadata": {
        "id": "O_1eEp4btAni"
      },
      "source": [
        "####3-NN"
      ]
    },
    {
      "cell_type": "code",
      "metadata": {
        "id": "EPUjD76sdkSG",
        "colab": {
          "base_uri": "https://localhost:8080/"
        },
        "outputId": "25af5874-d2d4-4765-9643-8f1cfebb1d8a"
      },
      "source": [
        "#3-nn base_completa\n",
        "nn3 = KNeighborsClassifier(n_neighbors=3)\n",
        "nn3.fit(X_train, y_train)"
      ],
      "execution_count": null,
      "outputs": [
        {
          "output_type": "stream",
          "text": [
            "/usr/local/lib/python3.7/dist-packages/ipykernel_launcher.py:3: DataConversionWarning: A column-vector y was passed when a 1d array was expected. Please change the shape of y to (n_samples, ), for example using ravel().\n",
            "  This is separate from the ipykernel package so we can avoid doing imports until\n"
          ],
          "name": "stderr"
        },
        {
          "output_type": "execute_result",
          "data": {
            "text/plain": [
              "KNeighborsClassifier(algorithm='auto', leaf_size=30, metric='minkowski',\n",
              "                     metric_params=None, n_jobs=None, n_neighbors=3, p=2,\n",
              "                     weights='uniform')"
            ]
          },
          "metadata": {
            "tags": []
          },
          "execution_count": 41
        }
      ]
    },
    {
      "cell_type": "code",
      "metadata": {
        "id": "uLTfRnw5tfQL",
        "colab": {
          "base_uri": "https://localhost:8080/"
        },
        "outputId": "ab2c963b-5a3c-49eb-80ac-690d3edf211f"
      },
      "source": [
        "#3-nn base_completa_70\n",
        "nn3_70 = KNeighborsClassifier(n_neighbors=3)\n",
        "nn3_70.fit(X_train_70, y_train_70)"
      ],
      "execution_count": null,
      "outputs": [
        {
          "output_type": "stream",
          "text": [
            "/usr/local/lib/python3.7/dist-packages/ipykernel_launcher.py:3: DataConversionWarning: A column-vector y was passed when a 1d array was expected. Please change the shape of y to (n_samples, ), for example using ravel().\n",
            "  This is separate from the ipykernel package so we can avoid doing imports until\n"
          ],
          "name": "stderr"
        },
        {
          "output_type": "execute_result",
          "data": {
            "text/plain": [
              "KNeighborsClassifier(algorithm='auto', leaf_size=30, metric='minkowski',\n",
              "                     metric_params=None, n_jobs=None, n_neighbors=3, p=2,\n",
              "                     weights='uniform')"
            ]
          },
          "metadata": {
            "tags": []
          },
          "execution_count": 42
        }
      ]
    },
    {
      "cell_type": "code",
      "metadata": {
        "id": "N0OIUTgztizd",
        "colab": {
          "base_uri": "https://localhost:8080/"
        },
        "outputId": "33843ef2-62da-43a3-c904-5d0d87d68383"
      },
      "source": [
        "#3-nn base_completa_30\n",
        "nn3_30 = KNeighborsClassifier(n_neighbors=3)\n",
        "nn3_30.fit(X_train_30, y_train_30)"
      ],
      "execution_count": null,
      "outputs": [
        {
          "output_type": "stream",
          "text": [
            "/usr/local/lib/python3.7/dist-packages/ipykernel_launcher.py:3: DataConversionWarning: A column-vector y was passed when a 1d array was expected. Please change the shape of y to (n_samples, ), for example using ravel().\n",
            "  This is separate from the ipykernel package so we can avoid doing imports until\n"
          ],
          "name": "stderr"
        },
        {
          "output_type": "execute_result",
          "data": {
            "text/plain": [
              "KNeighborsClassifier(algorithm='auto', leaf_size=30, metric='minkowski',\n",
              "                     metric_params=None, n_jobs=None, n_neighbors=3, p=2,\n",
              "                     weights='uniform')"
            ]
          },
          "metadata": {
            "tags": []
          },
          "execution_count": 43
        }
      ]
    },
    {
      "cell_type": "code",
      "metadata": {
        "id": "PS9K4Qh-t4qg",
        "colab": {
          "base_uri": "https://localhost:8080/"
        },
        "outputId": "8ec66fa2-89e2-4053-8e16-91dafa130090"
      },
      "source": [
        "#3-nn base_completa_10\n",
        "nn3_10 = KNeighborsClassifier(n_neighbors=3)\n",
        "nn3_10.fit(X_train_10, y_train_10)"
      ],
      "execution_count": null,
      "outputs": [
        {
          "output_type": "stream",
          "text": [
            "/usr/local/lib/python3.7/dist-packages/ipykernel_launcher.py:3: DataConversionWarning: A column-vector y was passed when a 1d array was expected. Please change the shape of y to (n_samples, ), for example using ravel().\n",
            "  This is separate from the ipykernel package so we can avoid doing imports until\n"
          ],
          "name": "stderr"
        },
        {
          "output_type": "execute_result",
          "data": {
            "text/plain": [
              "KNeighborsClassifier(algorithm='auto', leaf_size=30, metric='minkowski',\n",
              "                     metric_params=None, n_jobs=None, n_neighbors=3, p=2,\n",
              "                     weights='uniform')"
            ]
          },
          "metadata": {
            "tags": []
          },
          "execution_count": 44
        }
      ]
    },
    {
      "cell_type": "markdown",
      "metadata": {
        "id": "5_KUnTgvtC7w"
      },
      "source": [
        "####5-NN"
      ]
    },
    {
      "cell_type": "code",
      "metadata": {
        "id": "IDwkdM7-dzDz",
        "colab": {
          "base_uri": "https://localhost:8080/"
        },
        "outputId": "d50190cd-68f9-4e08-96d4-8f2f24aa6de9"
      },
      "source": [
        "#5-nn base_completa\n",
        "nn5 = KNeighborsClassifier(n_neighbors=5)\n",
        "nn5.fit(X_train, y_train)"
      ],
      "execution_count": null,
      "outputs": [
        {
          "output_type": "stream",
          "text": [
            "/usr/local/lib/python3.7/dist-packages/ipykernel_launcher.py:3: DataConversionWarning: A column-vector y was passed when a 1d array was expected. Please change the shape of y to (n_samples, ), for example using ravel().\n",
            "  This is separate from the ipykernel package so we can avoid doing imports until\n"
          ],
          "name": "stderr"
        },
        {
          "output_type": "execute_result",
          "data": {
            "text/plain": [
              "KNeighborsClassifier(algorithm='auto', leaf_size=30, metric='minkowski',\n",
              "                     metric_params=None, n_jobs=None, n_neighbors=5, p=2,\n",
              "                     weights='uniform')"
            ]
          },
          "metadata": {
            "tags": []
          },
          "execution_count": 45
        }
      ]
    },
    {
      "cell_type": "code",
      "metadata": {
        "id": "ZSRxpH6euFE7",
        "colab": {
          "base_uri": "https://localhost:8080/"
        },
        "outputId": "56e4119e-fdc4-441b-9eef-6067315e47d8"
      },
      "source": [
        "#5-nn base_completa_70\n",
        "nn5_70 = KNeighborsClassifier(n_neighbors=5)\n",
        "nn5_70.fit(X_train_70, y_train_70)"
      ],
      "execution_count": null,
      "outputs": [
        {
          "output_type": "stream",
          "text": [
            "/usr/local/lib/python3.7/dist-packages/ipykernel_launcher.py:3: DataConversionWarning: A column-vector y was passed when a 1d array was expected. Please change the shape of y to (n_samples, ), for example using ravel().\n",
            "  This is separate from the ipykernel package so we can avoid doing imports until\n"
          ],
          "name": "stderr"
        },
        {
          "output_type": "execute_result",
          "data": {
            "text/plain": [
              "KNeighborsClassifier(algorithm='auto', leaf_size=30, metric='minkowski',\n",
              "                     metric_params=None, n_jobs=None, n_neighbors=5, p=2,\n",
              "                     weights='uniform')"
            ]
          },
          "metadata": {
            "tags": []
          },
          "execution_count": 46
        }
      ]
    },
    {
      "cell_type": "code",
      "metadata": {
        "id": "Swh56ucBuKMC",
        "colab": {
          "base_uri": "https://localhost:8080/"
        },
        "outputId": "64d0514c-21d8-44e4-e1a2-2c820ba385d0"
      },
      "source": [
        "#5-nn base_completa_30\n",
        "nn5_30 = KNeighborsClassifier(n_neighbors=5)\n",
        "nn5_30.fit(X_train_30, y_train_30)"
      ],
      "execution_count": null,
      "outputs": [
        {
          "output_type": "stream",
          "text": [
            "/usr/local/lib/python3.7/dist-packages/ipykernel_launcher.py:3: DataConversionWarning: A column-vector y was passed when a 1d array was expected. Please change the shape of y to (n_samples, ), for example using ravel().\n",
            "  This is separate from the ipykernel package so we can avoid doing imports until\n"
          ],
          "name": "stderr"
        },
        {
          "output_type": "execute_result",
          "data": {
            "text/plain": [
              "KNeighborsClassifier(algorithm='auto', leaf_size=30, metric='minkowski',\n",
              "                     metric_params=None, n_jobs=None, n_neighbors=5, p=2,\n",
              "                     weights='uniform')"
            ]
          },
          "metadata": {
            "tags": []
          },
          "execution_count": 47
        }
      ]
    },
    {
      "cell_type": "code",
      "metadata": {
        "id": "THFpQ2ivuPqQ",
        "colab": {
          "base_uri": "https://localhost:8080/"
        },
        "outputId": "0b90083d-a28b-4a74-84d6-15a3ea9b3914"
      },
      "source": [
        "#5-nn base_completa_10\n",
        "nn5_10 = KNeighborsClassifier(n_neighbors=5)\n",
        "nn5_10.fit(X_train_10, y_train_10)"
      ],
      "execution_count": null,
      "outputs": [
        {
          "output_type": "stream",
          "text": [
            "/usr/local/lib/python3.7/dist-packages/ipykernel_launcher.py:3: DataConversionWarning: A column-vector y was passed when a 1d array was expected. Please change the shape of y to (n_samples, ), for example using ravel().\n",
            "  This is separate from the ipykernel package so we can avoid doing imports until\n"
          ],
          "name": "stderr"
        },
        {
          "output_type": "execute_result",
          "data": {
            "text/plain": [
              "KNeighborsClassifier(algorithm='auto', leaf_size=30, metric='minkowski',\n",
              "                     metric_params=None, n_jobs=None, n_neighbors=5, p=2,\n",
              "                     weights='uniform')"
            ]
          },
          "metadata": {
            "tags": []
          },
          "execution_count": 48
        }
      ]
    },
    {
      "cell_type": "markdown",
      "metadata": {
        "id": "WB3AsyPoeSEr"
      },
      "source": [
        "##Prediction"
      ]
    },
    {
      "cell_type": "markdown",
      "source": [
        "###MLP"
      ],
      "metadata": {
        "id": "DWMrYTxPyfaW"
      }
    },
    {
      "cell_type": "code",
      "source": [
        "#mlp base_completa\n",
        "pred_mlp = clf_mlp.predict([X_test.iloc[1]])\n",
        "pred_mlp"
      ],
      "metadata": {
        "colab": {
          "base_uri": "https://localhost:8080/"
        },
        "id": "NRBdWHyR4-HS",
        "outputId": "49a30042-3938-4c33-f399-2ca98128acb8"
      },
      "execution_count": null,
      "outputs": [
        {
          "output_type": "stream",
          "name": "stderr",
          "text": [
            "/usr/local/lib/python3.7/dist-packages/sklearn/base.py:451: UserWarning: X does not have valid feature names, but MLPClassifier was fitted with feature names\n",
            "  \"X does not have valid feature names, but\"\n"
          ]
        },
        {
          "output_type": "execute_result",
          "data": {
            "text/plain": [
              "array([0], dtype=uint8)"
            ]
          },
          "metadata": {},
          "execution_count": 27
        }
      ]
    },
    {
      "cell_type": "code",
      "source": [
        "#mlp base_completa_70\n",
        "pred_mlp_70 = clf_mlp_70.predict([X_test_70.iloc[1]])\n",
        "pred_mlp_70"
      ],
      "metadata": {
        "colab": {
          "base_uri": "https://localhost:8080/"
        },
        "id": "zy81l6ep4fsX",
        "outputId": "12ad0b23-5cb6-4f32-b70b-b796f2c84836"
      },
      "execution_count": null,
      "outputs": [
        {
          "output_type": "stream",
          "name": "stderr",
          "text": [
            "/usr/local/lib/python3.7/dist-packages/sklearn/base.py:451: UserWarning: X does not have valid feature names, but MLPClassifier was fitted with feature names\n",
            "  \"X does not have valid feature names, but\"\n"
          ]
        },
        {
          "output_type": "execute_result",
          "data": {
            "text/plain": [
              "array([0], dtype=uint8)"
            ]
          },
          "metadata": {},
          "execution_count": 28
        }
      ]
    },
    {
      "cell_type": "code",
      "source": [
        "#mlp base_completa_30\n",
        "pred_mlp_30 = clf_mlp_30.predict([X_test_30.iloc[1]])\n",
        "pred_mlp_30"
      ],
      "metadata": {
        "colab": {
          "base_uri": "https://localhost:8080/"
        },
        "id": "YaUuzNDW4Ew2",
        "outputId": "6a1575df-021a-40f1-faa7-68a417de1746"
      },
      "execution_count": null,
      "outputs": [
        {
          "output_type": "stream",
          "name": "stderr",
          "text": [
            "/usr/local/lib/python3.7/dist-packages/sklearn/base.py:451: UserWarning: X does not have valid feature names, but MLPClassifier was fitted with feature names\n",
            "  \"X does not have valid feature names, but\"\n"
          ]
        },
        {
          "output_type": "execute_result",
          "data": {
            "text/plain": [
              "array([0], dtype=uint8)"
            ]
          },
          "metadata": {},
          "execution_count": 29
        }
      ]
    },
    {
      "cell_type": "code",
      "source": [
        "#mlp base_completa_10\n",
        "pred_mlp_10 = clf_mlp_10.predict([X_test_10.iloc[1]])\n",
        "pred_mlp_10"
      ],
      "metadata": {
        "colab": {
          "base_uri": "https://localhost:8080/"
        },
        "id": "WIawFMotyg0V",
        "outputId": "0b28e93b-1920-4848-f582-8766dca374cd"
      },
      "execution_count": null,
      "outputs": [
        {
          "output_type": "stream",
          "name": "stderr",
          "text": [
            "/usr/local/lib/python3.7/dist-packages/sklearn/base.py:451: UserWarning: X does not have valid feature names, but MLPClassifier was fitted with feature names\n",
            "  \"X does not have valid feature names, but\"\n"
          ]
        },
        {
          "output_type": "execute_result",
          "data": {
            "text/plain": [
              "array([1], dtype=uint8)"
            ]
          },
          "metadata": {},
          "execution_count": 30
        }
      ]
    },
    {
      "cell_type": "markdown",
      "metadata": {
        "id": "oEkOmE3YeqZN"
      },
      "source": [
        "###Tree"
      ]
    },
    {
      "cell_type": "code",
      "metadata": {
        "id": "vIQr0MwAet26",
        "colab": {
          "base_uri": "https://localhost:8080/"
        },
        "outputId": "830c7545-7f3a-406d-ecaa-066445866ff0"
      },
      "source": [
        "#tree base_completa\n",
        "pred_tree = clf_tree.predict([X_test.iloc[1]])\n",
        "pred_tree"
      ],
      "execution_count": null,
      "outputs": [
        {
          "output_type": "execute_result",
          "data": {
            "text/plain": [
              "array([1], dtype=uint8)"
            ]
          },
          "metadata": {
            "tags": []
          },
          "execution_count": 49
        }
      ]
    },
    {
      "cell_type": "code",
      "metadata": {
        "id": "IaRF9P_5ucxa",
        "colab": {
          "base_uri": "https://localhost:8080/"
        },
        "outputId": "24fd9891-b83b-44cd-e432-48d0cbdceb9d"
      },
      "source": [
        "#tree base_completa_70\n",
        "pred_tree_70 = clf_tree_70.predict([X_test_70.iloc[1]])\n",
        "pred_tree_70"
      ],
      "execution_count": null,
      "outputs": [
        {
          "output_type": "execute_result",
          "data": {
            "text/plain": [
              "array([1], dtype=uint8)"
            ]
          },
          "metadata": {
            "tags": []
          },
          "execution_count": 50
        }
      ]
    },
    {
      "cell_type": "code",
      "metadata": {
        "id": "nCGpFHHjuibK",
        "colab": {
          "base_uri": "https://localhost:8080/"
        },
        "outputId": "bfb93250-ccab-471f-cfa8-98a3f59ccf97"
      },
      "source": [
        "#tree base_completa_30\n",
        "pred_tree_30 = clf_tree_30.predict([X_test_30.iloc[1]])\n",
        "pred_tree_30"
      ],
      "execution_count": null,
      "outputs": [
        {
          "output_type": "execute_result",
          "data": {
            "text/plain": [
              "array([1], dtype=uint8)"
            ]
          },
          "metadata": {
            "tags": []
          },
          "execution_count": 51
        }
      ]
    },
    {
      "cell_type": "code",
      "metadata": {
        "id": "5jv1JM1yuzIb",
        "colab": {
          "base_uri": "https://localhost:8080/"
        },
        "outputId": "367e16d9-3026-4271-998e-c55168cadaaf"
      },
      "source": [
        "#tree base_completa_10\n",
        "pred_tree_10 = clf_tree_10.predict([X_test_10.iloc[1]])\n",
        "pred_tree_10"
      ],
      "execution_count": null,
      "outputs": [
        {
          "output_type": "execute_result",
          "data": {
            "text/plain": [
              "array([0], dtype=uint8)"
            ]
          },
          "metadata": {
            "tags": []
          },
          "execution_count": 52
        }
      ]
    },
    {
      "cell_type": "markdown",
      "metadata": {
        "id": "45fumMxVewWu"
      },
      "source": [
        "###SVM"
      ]
    },
    {
      "cell_type": "code",
      "metadata": {
        "id": "1La3kqjieykI",
        "colab": {
          "base_uri": "https://localhost:8080/"
        },
        "outputId": "9cba7597-d023-44a8-ef3b-4c6632bf35cf"
      },
      "source": [
        "#svm base_completa\n",
        "pred_svm = clf_svm.predict([X_test.iloc[1]])\n",
        "pred_svm"
      ],
      "execution_count": null,
      "outputs": [
        {
          "output_type": "execute_result",
          "data": {
            "text/plain": [
              "array([1], dtype=uint8)"
            ]
          },
          "metadata": {
            "tags": []
          },
          "execution_count": 53
        }
      ]
    },
    {
      "cell_type": "code",
      "metadata": {
        "id": "GZkpCOHYu4p9",
        "colab": {
          "base_uri": "https://localhost:8080/"
        },
        "outputId": "32dde810-a95f-4fec-a30c-8a422efb5845"
      },
      "source": [
        "#svm base_completa_70\n",
        "pred_svm_70 = clf_svm_70.predict([X_test_70.iloc[1]])\n",
        "pred_svm_70"
      ],
      "execution_count": null,
      "outputs": [
        {
          "output_type": "execute_result",
          "data": {
            "text/plain": [
              "array([1], dtype=uint8)"
            ]
          },
          "metadata": {
            "tags": []
          },
          "execution_count": 54
        }
      ]
    },
    {
      "cell_type": "code",
      "metadata": {
        "id": "c4Kb_awfu-M1",
        "colab": {
          "base_uri": "https://localhost:8080/"
        },
        "outputId": "b5e26b87-d23e-4278-abf3-81fef44679e6"
      },
      "source": [
        "#svm base_completa_30\n",
        "pred_svm_30 = clf_svm_30.predict([X_test_30.iloc[1]])\n",
        "pred_svm_30"
      ],
      "execution_count": null,
      "outputs": [
        {
          "output_type": "execute_result",
          "data": {
            "text/plain": [
              "array([1], dtype=uint8)"
            ]
          },
          "metadata": {
            "tags": []
          },
          "execution_count": 55
        }
      ]
    },
    {
      "cell_type": "code",
      "metadata": {
        "id": "2kbvqmYlvKnp",
        "colab": {
          "base_uri": "https://localhost:8080/"
        },
        "outputId": "7f14dd68-ac76-4348-a54e-db1f909b590f"
      },
      "source": [
        "#svm base_completa_10\n",
        "pred_svm_10 = clf_svm_10.predict([X_test_10.iloc[1]])\n",
        "pred_svm_10"
      ],
      "execution_count": null,
      "outputs": [
        {
          "output_type": "execute_result",
          "data": {
            "text/plain": [
              "array([0], dtype=uint8)"
            ]
          },
          "metadata": {
            "tags": []
          },
          "execution_count": 56
        }
      ]
    },
    {
      "cell_type": "markdown",
      "metadata": {
        "id": "mzM_-HXge-Ce"
      },
      "source": [
        "###K-NN"
      ]
    },
    {
      "cell_type": "markdown",
      "metadata": {
        "id": "PVzePQ4CvXwn"
      },
      "source": [
        "####1-NN"
      ]
    },
    {
      "cell_type": "code",
      "metadata": {
        "id": "YR3g11MkfLuw",
        "colab": {
          "base_uri": "https://localhost:8080/"
        },
        "outputId": "2e720100-737b-412c-bb3c-b35b3e9b74ed"
      },
      "source": [
        "#1-nn base_completa\n",
        "pred_1nn = nn1.predict([X_test.iloc[1]])\n",
        "pred_1nn"
      ],
      "execution_count": null,
      "outputs": [
        {
          "output_type": "execute_result",
          "data": {
            "text/plain": [
              "array([1], dtype=uint8)"
            ]
          },
          "metadata": {
            "tags": []
          },
          "execution_count": 57
        }
      ]
    },
    {
      "cell_type": "code",
      "metadata": {
        "id": "Ew-VLu38vlNh",
        "colab": {
          "base_uri": "https://localhost:8080/"
        },
        "outputId": "640c49fd-e86b-4cbd-dcd8-16903e196028"
      },
      "source": [
        "#1-nn base_completa_70\n",
        "pred_1nn_70 = nn1_70.predict([X_test_70.iloc[1]])\n",
        "pred_1nn_70"
      ],
      "execution_count": null,
      "outputs": [
        {
          "output_type": "execute_result",
          "data": {
            "text/plain": [
              "array([1], dtype=uint8)"
            ]
          },
          "metadata": {
            "tags": []
          },
          "execution_count": 58
        }
      ]
    },
    {
      "cell_type": "code",
      "metadata": {
        "id": "odjMrVnkvr7T",
        "colab": {
          "base_uri": "https://localhost:8080/"
        },
        "outputId": "0b36aa5b-c0c5-4c8b-cdd5-1b15c2fa708f"
      },
      "source": [
        "#1-nn base_completa_30\n",
        "pred_1nn_30 = nn1_30.predict([X_test_30.iloc[1]])\n",
        "pred_1nn_30"
      ],
      "execution_count": null,
      "outputs": [
        {
          "output_type": "execute_result",
          "data": {
            "text/plain": [
              "array([1], dtype=uint8)"
            ]
          },
          "metadata": {
            "tags": []
          },
          "execution_count": 59
        }
      ]
    },
    {
      "cell_type": "code",
      "metadata": {
        "id": "d52uq4Guvwl4",
        "colab": {
          "base_uri": "https://localhost:8080/"
        },
        "outputId": "e0272a3d-7537-4655-af2f-9dc9ecb2c124"
      },
      "source": [
        "#1-nn base_completa_10\n",
        "pred_1nn_10 = nn1_10.predict([X_test_10.iloc[1]])\n",
        "pred_1nn_10"
      ],
      "execution_count": null,
      "outputs": [
        {
          "output_type": "execute_result",
          "data": {
            "text/plain": [
              "array([0], dtype=uint8)"
            ]
          },
          "metadata": {
            "tags": []
          },
          "execution_count": 60
        }
      ]
    },
    {
      "cell_type": "markdown",
      "metadata": {
        "id": "7Mw-A2YovaFc"
      },
      "source": [
        "####2-NN"
      ]
    },
    {
      "cell_type": "code",
      "metadata": {
        "id": "GwzfS_66fYgy",
        "colab": {
          "base_uri": "https://localhost:8080/"
        },
        "outputId": "3f96ac4d-5d74-490a-9019-180a83dce109"
      },
      "source": [
        "#2-nn base_completa\n",
        "pred_2nn = nn2.predict([X_test.iloc[1]])\n",
        "pred_2nn"
      ],
      "execution_count": null,
      "outputs": [
        {
          "output_type": "execute_result",
          "data": {
            "text/plain": [
              "array([1], dtype=uint8)"
            ]
          },
          "metadata": {
            "tags": []
          },
          "execution_count": 61
        }
      ]
    },
    {
      "cell_type": "code",
      "metadata": {
        "id": "zy7N_jDo4RbH",
        "colab": {
          "base_uri": "https://localhost:8080/"
        },
        "outputId": "d7d53f0b-9dca-4114-c4f4-6066b1f5500d"
      },
      "source": [
        "#2-nn base_completa_70\n",
        "pred_2nn_70 = nn2_70.predict([X_test_70.iloc[1]])\n",
        "pred_2nn_70"
      ],
      "execution_count": null,
      "outputs": [
        {
          "output_type": "execute_result",
          "data": {
            "text/plain": [
              "array([1], dtype=uint8)"
            ]
          },
          "metadata": {
            "tags": []
          },
          "execution_count": 62
        }
      ]
    },
    {
      "cell_type": "code",
      "metadata": {
        "id": "n0qPuCX24zA4",
        "colab": {
          "base_uri": "https://localhost:8080/"
        },
        "outputId": "03c5cdee-93bc-4d5b-b065-d75642cc98c0"
      },
      "source": [
        "#2-nn base_completa_30\n",
        "pred_2nn_30 = nn2_30.predict([X_test_30.iloc[1]])\n",
        "pred_2nn_30"
      ],
      "execution_count": null,
      "outputs": [
        {
          "output_type": "execute_result",
          "data": {
            "text/plain": [
              "array([1], dtype=uint8)"
            ]
          },
          "metadata": {
            "tags": []
          },
          "execution_count": 63
        }
      ]
    },
    {
      "cell_type": "code",
      "metadata": {
        "id": "UsGSRGlz45eF",
        "colab": {
          "base_uri": "https://localhost:8080/"
        },
        "outputId": "6aa4a7e1-59b5-41c5-c41b-5bef883f0c92"
      },
      "source": [
        "#2-nn base_completa_10\n",
        "pred_2nn_10 = nn2_10.predict([X_test_10.iloc[1]])\n",
        "pred_2nn_10"
      ],
      "execution_count": null,
      "outputs": [
        {
          "output_type": "execute_result",
          "data": {
            "text/plain": [
              "array([0], dtype=uint8)"
            ]
          },
          "metadata": {
            "tags": []
          },
          "execution_count": 64
        }
      ]
    },
    {
      "cell_type": "code",
      "metadata": {
        "id": "mIL_Y2dW45UJ"
      },
      "source": [],
      "execution_count": null,
      "outputs": []
    },
    {
      "cell_type": "markdown",
      "metadata": {
        "id": "8aIGr79bvdNF"
      },
      "source": [
        "####3-NN"
      ]
    },
    {
      "cell_type": "code",
      "metadata": {
        "id": "HI5yefPlfc9A",
        "colab": {
          "base_uri": "https://localhost:8080/"
        },
        "outputId": "73f6df51-739c-4afe-a823-9ca8da8991cd"
      },
      "source": [
        "#3-nn base_completa\n",
        "pred_3nn = nn3.predict([X_test.iloc[1]])\n",
        "pred_3nn"
      ],
      "execution_count": null,
      "outputs": [
        {
          "output_type": "execute_result",
          "data": {
            "text/plain": [
              "array([1], dtype=uint8)"
            ]
          },
          "metadata": {
            "tags": []
          },
          "execution_count": 65
        }
      ]
    },
    {
      "cell_type": "code",
      "metadata": {
        "id": "oQ_jlm-S5BJL",
        "colab": {
          "base_uri": "https://localhost:8080/"
        },
        "outputId": "4ceb2ee3-2100-4fde-9702-690148c4524b"
      },
      "source": [
        "#3-nn base_completa_70\n",
        "pred_3nn_70 = nn3_70.predict([X_test_70.iloc[1]])\n",
        "pred_3nn_70"
      ],
      "execution_count": null,
      "outputs": [
        {
          "output_type": "execute_result",
          "data": {
            "text/plain": [
              "array([1], dtype=uint8)"
            ]
          },
          "metadata": {
            "tags": []
          },
          "execution_count": 66
        }
      ]
    },
    {
      "cell_type": "code",
      "metadata": {
        "id": "imQef4KL5HJW",
        "colab": {
          "base_uri": "https://localhost:8080/"
        },
        "outputId": "9db7cb11-0768-4eb4-9296-07fc7efa48b4"
      },
      "source": [
        "#3-nn base_completa_30\n",
        "pred_3nn_30 = nn3_30.predict([X_test_30.iloc[1]])\n",
        "pred_3nn_30"
      ],
      "execution_count": null,
      "outputs": [
        {
          "output_type": "execute_result",
          "data": {
            "text/plain": [
              "array([1], dtype=uint8)"
            ]
          },
          "metadata": {
            "tags": []
          },
          "execution_count": 67
        }
      ]
    },
    {
      "cell_type": "code",
      "metadata": {
        "id": "ZFL4-R1l5Ybl",
        "colab": {
          "base_uri": "https://localhost:8080/"
        },
        "outputId": "5bd889d2-0fcf-42ae-a7f8-d88b66f9424c"
      },
      "source": [
        "#3-nn base_completa_10\n",
        "pred_3nn_10 = nn3_10.predict([X_test_10.iloc[1]])\n",
        "pred_3nn_10"
      ],
      "execution_count": null,
      "outputs": [
        {
          "output_type": "execute_result",
          "data": {
            "text/plain": [
              "array([0], dtype=uint8)"
            ]
          },
          "metadata": {
            "tags": []
          },
          "execution_count": 68
        }
      ]
    },
    {
      "cell_type": "markdown",
      "metadata": {
        "id": "seZfvjMYvfuF"
      },
      "source": [
        "####5-NN"
      ]
    },
    {
      "cell_type": "code",
      "metadata": {
        "id": "WOWpzhf4fexA",
        "colab": {
          "base_uri": "https://localhost:8080/"
        },
        "outputId": "76131c0d-c3f6-49a5-971b-8e1d822e7e54"
      },
      "source": [
        "#5-nn base_completa\n",
        "pred_5nn = nn5.predict([X_test.iloc[1]])\n",
        "pred_5nn"
      ],
      "execution_count": null,
      "outputs": [
        {
          "output_type": "execute_result",
          "data": {
            "text/plain": [
              "array([1], dtype=uint8)"
            ]
          },
          "metadata": {
            "tags": []
          },
          "execution_count": 69
        }
      ]
    },
    {
      "cell_type": "code",
      "metadata": {
        "id": "D-91mBiD5sof",
        "colab": {
          "base_uri": "https://localhost:8080/"
        },
        "outputId": "c5ec20b0-fb45-473d-9532-6bf582b052d1"
      },
      "source": [
        "#5-nn base_completa_70\n",
        "pred_5nn_70 = nn5_70.predict([X_test_70.iloc[1]])\n",
        "pred_5nn_70"
      ],
      "execution_count": null,
      "outputs": [
        {
          "output_type": "execute_result",
          "data": {
            "text/plain": [
              "array([1], dtype=uint8)"
            ]
          },
          "metadata": {
            "tags": []
          },
          "execution_count": 70
        }
      ]
    },
    {
      "cell_type": "code",
      "metadata": {
        "id": "VUVrgKL56H9N",
        "colab": {
          "base_uri": "https://localhost:8080/"
        },
        "outputId": "537f990d-fa7e-4d0e-92bb-53d97e3fb8c6"
      },
      "source": [
        "#5-nn base_completa_30\n",
        "pred_5nn_30 = nn5_30.predict([X_test_30.iloc[1]])\n",
        "pred_5nn_30"
      ],
      "execution_count": null,
      "outputs": [
        {
          "output_type": "execute_result",
          "data": {
            "text/plain": [
              "array([1], dtype=uint8)"
            ]
          },
          "metadata": {
            "tags": []
          },
          "execution_count": 71
        }
      ]
    },
    {
      "cell_type": "code",
      "metadata": {
        "id": "kVYbyG1R6SO1",
        "colab": {
          "base_uri": "https://localhost:8080/"
        },
        "outputId": "9eaef323-bd02-4150-e3e6-72b614388d94"
      },
      "source": [
        "#5-nn base_completa_10\n",
        "pred_5nn_10 = nn5_10.predict([X_test_10.iloc[1]])\n",
        "pred_5nn_10"
      ],
      "execution_count": null,
      "outputs": [
        {
          "output_type": "execute_result",
          "data": {
            "text/plain": [
              "array([0], dtype=uint8)"
            ]
          },
          "metadata": {
            "tags": []
          },
          "execution_count": 72
        }
      ]
    },
    {
      "cell_type": "markdown",
      "metadata": {
        "id": "aEdkqNY1fmSy"
      },
      "source": [
        "##Evaluating Performance"
      ]
    },
    {
      "cell_type": "markdown",
      "metadata": {
        "id": "HTuhnSlNfqWA"
      },
      "source": [
        "###Hold-out Accuracy"
      ]
    },
    {
      "cell_type": "markdown",
      "source": [
        "####MLP"
      ],
      "metadata": {
        "id": "uw8GWM4zzDFZ"
      }
    },
    {
      "cell_type": "code",
      "source": [
        "#testando mlp base_completa\n",
        "accuracy_score(y_test, clf_mlp.predict(X_test))"
      ],
      "metadata": {
        "colab": {
          "base_uri": "https://localhost:8080/"
        },
        "id": "eGD0Satc5DF1",
        "outputId": "7cd0f4a4-02dd-41b7-e3ee-3f858ee611d4"
      },
      "execution_count": null,
      "outputs": [
        {
          "output_type": "execute_result",
          "data": {
            "text/plain": [
              "0.4921049359691657"
            ]
          },
          "metadata": {},
          "execution_count": 31
        }
      ]
    },
    {
      "cell_type": "code",
      "source": [
        "#testando mlp base_completa_70\n",
        "accuracy_score(y_test_70, clf_mlp_70.predict(X_test_70))"
      ],
      "metadata": {
        "colab": {
          "base_uri": "https://localhost:8080/"
        },
        "id": "IYRWbp4l4lTK",
        "outputId": "a541454b-70aa-437e-a047-dbc0b94da447"
      },
      "execution_count": null,
      "outputs": [
        {
          "output_type": "execute_result",
          "data": {
            "text/plain": [
              "0.9736416759915455"
            ]
          },
          "metadata": {},
          "execution_count": 32
        }
      ]
    },
    {
      "cell_type": "code",
      "source": [
        "#testando mlp base_completa_30\n",
        "accuracy_score(y_test_30, clf_mlp_30.predict(X_test_30))"
      ],
      "metadata": {
        "colab": {
          "base_uri": "https://localhost:8080/"
        },
        "id": "E151i6sX4Q8g",
        "outputId": "b5ed4d2a-f46b-44fd-a015-b8c727c70ea0"
      },
      "execution_count": null,
      "outputs": [
        {
          "output_type": "execute_result",
          "data": {
            "text/plain": [
              "0.8295412159641925"
            ]
          },
          "metadata": {},
          "execution_count": 33
        }
      ]
    },
    {
      "cell_type": "code",
      "source": [
        "#testando mlp base_completa_10\n",
        "accuracy_score(y_test_10, clf_mlp_10.predict(X_test_10))"
      ],
      "metadata": {
        "colab": {
          "base_uri": "https://localhost:8080/"
        },
        "id": "vpFh14rszCTK",
        "outputId": "acd4a93f-1dbc-4466-972f-6ba8bcf95926"
      },
      "execution_count": null,
      "outputs": [
        {
          "output_type": "execute_result",
          "data": {
            "text/plain": [
              "0.8223299763769738"
            ]
          },
          "metadata": {},
          "execution_count": 34
        }
      ]
    },
    {
      "cell_type": "markdown",
      "metadata": {
        "id": "E2aEzzSNftut"
      },
      "source": [
        "####Tree"
      ]
    },
    {
      "cell_type": "code",
      "metadata": {
        "id": "AbG48VnSgQD8",
        "colab": {
          "base_uri": "https://localhost:8080/"
        },
        "outputId": "2a91446b-4d80-478f-d981-80344b47eaaa"
      },
      "source": [
        "#testando tree base_completa\n",
        "accuracy_score(y_test, clf_tree.predict(X_test))"
      ],
      "execution_count": null,
      "outputs": [
        {
          "output_type": "execute_result",
          "data": {
            "text/plain": [
              "0.6874300634091757"
            ]
          },
          "metadata": {
            "tags": []
          },
          "execution_count": 73
        }
      ]
    },
    {
      "cell_type": "code",
      "metadata": {
        "id": "G-i82rVB63-e",
        "colab": {
          "base_uri": "https://localhost:8080/"
        },
        "outputId": "19e9c2e2-8a02-4acd-c102-4d0dc5cd4c58"
      },
      "source": [
        "#testando tree base_completa_70\n",
        "accuracy_score(y_test_70, clf_tree_70.predict(X_test_70))"
      ],
      "execution_count": null,
      "outputs": [
        {
          "output_type": "execute_result",
          "data": {
            "text/plain": [
              "0.9421857515852294"
            ]
          },
          "metadata": {
            "tags": []
          },
          "execution_count": 74
        }
      ]
    },
    {
      "cell_type": "code",
      "metadata": {
        "id": "W_lN-Q1S77EL",
        "colab": {
          "base_uri": "https://localhost:8080/"
        },
        "outputId": "1da9ef85-6a5d-4183-88a5-5408bb303f0e"
      },
      "source": [
        "#testando tree base_completa_30\n",
        "accuracy_score(y_test_30, clf_tree_30.predict(X_test_30))"
      ],
      "execution_count": null,
      "outputs": [
        {
          "output_type": "execute_result",
          "data": {
            "text/plain": [
              "0.9433047370384186"
            ]
          },
          "metadata": {
            "tags": []
          },
          "execution_count": 75
        }
      ]
    },
    {
      "cell_type": "code",
      "metadata": {
        "id": "Lc5yLDW48aKv",
        "colab": {
          "base_uri": "https://localhost:8080/"
        },
        "outputId": "9306e660-736b-480d-8383-b0c45d45f203"
      },
      "source": [
        "#testando tree base_completa_10\n",
        "accuracy_score(y_test_10, clf_tree_10.predict(X_test_10))"
      ],
      "execution_count": null,
      "outputs": [
        {
          "output_type": "execute_result",
          "data": {
            "text/plain": [
              "0.9526296158149944"
            ]
          },
          "metadata": {
            "tags": []
          },
          "execution_count": 76
        }
      ]
    },
    {
      "cell_type": "markdown",
      "metadata": {
        "id": "lZQlc_H8fzrk"
      },
      "source": [
        "####SVM"
      ]
    },
    {
      "cell_type": "code",
      "metadata": {
        "id": "5fz5Lf46gRU2",
        "colab": {
          "base_uri": "https://localhost:8080/"
        },
        "outputId": "dd4fdbef-e89a-4db6-e07b-4621c8b2b501"
      },
      "source": [
        "#testando svm base_completa\n",
        "accuracy_score(y_test, clf_svm.predict(X_test))"
      ],
      "execution_count": null,
      "outputs": [
        {
          "output_type": "execute_result",
          "data": {
            "text/plain": [
              "0.794479671764267"
            ]
          },
          "metadata": {
            "tags": []
          },
          "execution_count": 77
        }
      ]
    },
    {
      "cell_type": "code",
      "metadata": {
        "id": "6UeaqCYO9IfG",
        "colab": {
          "base_uri": "https://localhost:8080/"
        },
        "outputId": "5c804213-27d0-4585-a08e-e0f5a7643702"
      },
      "source": [
        "#testando svm base_completa_70\n",
        "accuracy_score(y_test_70, clf_svm_70.predict(X_test_70))"
      ],
      "execution_count": null,
      "outputs": [
        {
          "output_type": "execute_result",
          "data": {
            "text/plain": [
              "1.0"
            ]
          },
          "metadata": {
            "tags": []
          },
          "execution_count": 78
        }
      ]
    },
    {
      "cell_type": "code",
      "metadata": {
        "id": "3x404rrW9OyC",
        "colab": {
          "base_uri": "https://localhost:8080/"
        },
        "outputId": "4d16404e-8d5a-467d-b0d3-bfd2afd22484"
      },
      "source": [
        "#testando svm base_completa_30\n",
        "accuracy_score(y_test_30, clf_svm_30.predict(X_test_30))"
      ],
      "execution_count": null,
      "outputs": [
        {
          "output_type": "execute_result",
          "data": {
            "text/plain": [
              "1.0"
            ]
          },
          "metadata": {
            "tags": []
          },
          "execution_count": 79
        }
      ]
    },
    {
      "cell_type": "code",
      "metadata": {
        "id": "D8TK0f8P9Wf9",
        "colab": {
          "base_uri": "https://localhost:8080/"
        },
        "outputId": "65718d6d-f751-4a18-e0f3-a0033858725c"
      },
      "source": [
        "#testando svm base_completa_10\n",
        "accuracy_score(y_test_10, clf_svm_10.predict(X_test_10))"
      ],
      "execution_count": null,
      "outputs": [
        {
          "output_type": "execute_result",
          "data": {
            "text/plain": [
              "1.0"
            ]
          },
          "metadata": {
            "tags": []
          },
          "execution_count": 80
        }
      ]
    },
    {
      "cell_type": "markdown",
      "metadata": {
        "id": "GUcx_jLpgUq5"
      },
      "source": [
        "####K-NN\n"
      ]
    },
    {
      "cell_type": "markdown",
      "metadata": {
        "id": "1hQ-LiJW9geE"
      },
      "source": [
        "#####1-NN"
      ]
    },
    {
      "cell_type": "code",
      "metadata": {
        "id": "QwpE5RH3gWdJ",
        "colab": {
          "base_uri": "https://localhost:8080/"
        },
        "outputId": "c00ae8dd-c619-4429-f7b3-ed555c0c66ea"
      },
      "source": [
        "#1-nn base_completa\n",
        "accuracy_score(y_test, nn1.predict(X_test))"
      ],
      "execution_count": null,
      "outputs": [
        {
          "output_type": "execute_result",
          "data": {
            "text/plain": [
              "0.6117120477433793"
            ]
          },
          "metadata": {
            "tags": []
          },
          "execution_count": 81
        }
      ]
    },
    {
      "cell_type": "code",
      "metadata": {
        "id": "4PYL3Efa9ykq",
        "colab": {
          "base_uri": "https://localhost:8080/"
        },
        "outputId": "1d75759b-9f20-41de-ee79-527f67817d47"
      },
      "source": [
        "#1-nn base_completa_70\n",
        "accuracy_score(y_test_70, nn1_70.predict(X_test_70))"
      ],
      "execution_count": null,
      "outputs": [
        {
          "output_type": "execute_result",
          "data": {
            "text/plain": [
              "0.9988810145468109"
            ]
          },
          "metadata": {
            "tags": []
          },
          "execution_count": 82
        }
      ]
    },
    {
      "cell_type": "code",
      "metadata": {
        "id": "bH7jRSfK96M1",
        "colab": {
          "base_uri": "https://localhost:8080/"
        },
        "outputId": "c2dca7fa-f0cf-408f-a2a2-f7dadbd53ce4"
      },
      "source": [
        "#1-nn base_completa_30\n",
        "accuracy_score(y_test_30, nn1_30.predict(X_test_30))"
      ],
      "execution_count": null,
      "outputs": [
        {
          "output_type": "execute_result",
          "data": {
            "text/plain": [
              "0.999627004848937"
            ]
          },
          "metadata": {
            "tags": []
          },
          "execution_count": 83
        }
      ]
    },
    {
      "cell_type": "code",
      "metadata": {
        "id": "Tz5Emzjw-C6m",
        "colab": {
          "base_uri": "https://localhost:8080/"
        },
        "outputId": "b5e418ef-d1e4-42a3-d904-3b1ed3722e4a"
      },
      "source": [
        "#1-nn base_completa_10\n",
        "accuracy_score(y_test_10, nn1_10.predict(X_test_10))"
      ],
      "execution_count": null,
      "outputs": [
        {
          "output_type": "execute_result",
          "data": {
            "text/plain": [
              "1.0"
            ]
          },
          "metadata": {
            "tags": []
          },
          "execution_count": 84
        }
      ]
    },
    {
      "cell_type": "markdown",
      "metadata": {
        "id": "2HzWSfq19lgP"
      },
      "source": [
        "#####2-NN"
      ]
    },
    {
      "cell_type": "code",
      "metadata": {
        "id": "CyhwH8xQgXgU",
        "colab": {
          "base_uri": "https://localhost:8080/"
        },
        "outputId": "1a2de6d1-f6d3-4634-a993-93e45547293c"
      },
      "source": [
        "#2-nn base_completa\n",
        "accuracy_score(y_test, nn2.predict(X_test))"
      ],
      "execution_count": null,
      "outputs": [
        {
          "output_type": "execute_result",
          "data": {
            "text/plain": [
              "0.6273778440880269"
            ]
          },
          "metadata": {
            "tags": []
          },
          "execution_count": 85
        }
      ]
    },
    {
      "cell_type": "code",
      "metadata": {
        "id": "QccELkfx-LVi",
        "colab": {
          "base_uri": "https://localhost:8080/"
        },
        "outputId": "394653e2-fa80-4b39-ef8e-dad39d5102bf"
      },
      "source": [
        "#2-nn base_completa_70\n",
        "accuracy_score(y_test_70, nn2_70.predict(X_test_70))"
      ],
      "execution_count": null,
      "outputs": [
        {
          "output_type": "execute_result",
          "data": {
            "text/plain": [
              "0.9985080193957478"
            ]
          },
          "metadata": {
            "tags": []
          },
          "execution_count": 86
        }
      ]
    },
    {
      "cell_type": "code",
      "metadata": {
        "id": "LBqKwq5U-PXN",
        "colab": {
          "base_uri": "https://localhost:8080/"
        },
        "outputId": "816fdcff-7311-413d-e7fd-4f0ee3366957"
      },
      "source": [
        "#2-nn base_completa_30\n",
        "accuracy_score(y_test_30, nn2_30.predict(X_test_30))"
      ],
      "execution_count": null,
      "outputs": [
        {
          "output_type": "execute_result",
          "data": {
            "text/plain": [
              "0.999627004848937"
            ]
          },
          "metadata": {
            "tags": []
          },
          "execution_count": 87
        }
      ]
    },
    {
      "cell_type": "code",
      "metadata": {
        "id": "f-c6Af4x-TP4",
        "colab": {
          "base_uri": "https://localhost:8080/"
        },
        "outputId": "1b26e733-f2ed-4516-876d-5966b25ed922"
      },
      "source": [
        "#2-nn base_completa_10\n",
        "accuracy_score(y_test_10, nn2_10.predict(X_test_10))"
      ],
      "execution_count": null,
      "outputs": [
        {
          "output_type": "execute_result",
          "data": {
            "text/plain": [
              "1.0"
            ]
          },
          "metadata": {
            "tags": []
          },
          "execution_count": 88
        }
      ]
    },
    {
      "cell_type": "markdown",
      "metadata": {
        "id": "nWsUYgPF9od3"
      },
      "source": [
        "#####3-NN"
      ]
    },
    {
      "cell_type": "code",
      "metadata": {
        "id": "YSb7g4YpgY5c",
        "colab": {
          "base_uri": "https://localhost:8080/"
        },
        "outputId": "3426a96a-7475-4fa5-93c1-e99a12df4df3"
      },
      "source": [
        "#3-nn base_completa\n",
        "accuracy_score(y_test, nn3.predict(X_test))"
      ],
      "execution_count": null,
      "outputs": [
        {
          "output_type": "execute_result",
          "data": {
            "text/plain": [
              "0.6165609847071988"
            ]
          },
          "metadata": {
            "tags": []
          },
          "execution_count": 89
        }
      ]
    },
    {
      "cell_type": "code",
      "metadata": {
        "id": "aRspqlFt-drZ",
        "colab": {
          "base_uri": "https://localhost:8080/"
        },
        "outputId": "6bb9cbea-688e-4bec-fbf1-5ceb321c2856"
      },
      "source": [
        "#3-nn base_completa_70\n",
        "accuracy_score(y_test_70, nn3_70.predict(X_test_70))"
      ],
      "execution_count": null,
      "outputs": [
        {
          "output_type": "execute_result",
          "data": {
            "text/plain": [
              "0.9981350242446848"
            ]
          },
          "metadata": {
            "tags": []
          },
          "execution_count": 90
        }
      ]
    },
    {
      "cell_type": "code",
      "metadata": {
        "id": "VExMvg3A-i6Q",
        "colab": {
          "base_uri": "https://localhost:8080/"
        },
        "outputId": "c4358907-53b7-48aa-a61e-08c9c5e597d1"
      },
      "source": [
        "#3-nn base_completa_30\n",
        "accuracy_score(y_test_30, nn3_30.predict(X_test_30))"
      ],
      "execution_count": null,
      "outputs": [
        {
          "output_type": "execute_result",
          "data": {
            "text/plain": [
              "0.9992540096978739"
            ]
          },
          "metadata": {
            "tags": []
          },
          "execution_count": 91
        }
      ]
    },
    {
      "cell_type": "code",
      "metadata": {
        "id": "fQFzzH3L-onS",
        "colab": {
          "base_uri": "https://localhost:8080/"
        },
        "outputId": "f1e3aabf-d30f-4fa6-8cd5-60ab90ae1316"
      },
      "source": [
        "#3-nn base_completa_10\n",
        "accuracy_score(y_test_10, nn3_10.predict(X_test_10))"
      ],
      "execution_count": null,
      "outputs": [
        {
          "output_type": "execute_result",
          "data": {
            "text/plain": [
              "1.0"
            ]
          },
          "metadata": {
            "tags": []
          },
          "execution_count": 92
        }
      ]
    },
    {
      "cell_type": "markdown",
      "metadata": {
        "id": "ZgVuF9Sc9rGS"
      },
      "source": [
        "#####5-NN"
      ]
    },
    {
      "cell_type": "code",
      "metadata": {
        "id": "d9Qd1JdLgaPa",
        "colab": {
          "base_uri": "https://localhost:8080/"
        },
        "outputId": "87637c25-2089-44dd-8f68-9e15b2fab22d"
      },
      "source": [
        "#5-nn base_completa\n",
        "accuracy_score(y_test, nn5.predict(X_test))"
      ],
      "execution_count": null,
      "outputs": [
        {
          "output_type": "execute_result",
          "data": {
            "text/plain": [
              "0.6072361059306229"
            ]
          },
          "metadata": {
            "tags": []
          },
          "execution_count": 93
        }
      ]
    },
    {
      "cell_type": "code",
      "metadata": {
        "id": "Ph46DMkp-5ov",
        "colab": {
          "base_uri": "https://localhost:8080/"
        },
        "outputId": "6359a089-00de-4f0f-e191-de8beefbbdfa"
      },
      "source": [
        "#5-nn base_completa_70\n",
        "accuracy_score(y_test_70, nn5_70.predict(X_test_70))"
      ],
      "execution_count": null,
      "outputs": [
        {
          "output_type": "execute_result",
          "data": {
            "text/plain": [
              "0.9970160387914957"
            ]
          },
          "metadata": {
            "tags": []
          },
          "execution_count": 94
        }
      ]
    },
    {
      "cell_type": "code",
      "metadata": {
        "id": "y11FibBe--g2",
        "colab": {
          "base_uri": "https://localhost:8080/"
        },
        "outputId": "96918ce9-ccb0-4d29-987c-5758c2a6c07e"
      },
      "source": [
        "#5-nn base_completa_30\n",
        "accuracy_score(y_test_30, nn5_30.predict(X_test_30))"
      ],
      "execution_count": null,
      "outputs": [
        {
          "output_type": "execute_result",
          "data": {
            "text/plain": [
              "0.9988810145468109"
            ]
          },
          "metadata": {
            "tags": []
          },
          "execution_count": 95
        }
      ]
    },
    {
      "cell_type": "code",
      "metadata": {
        "id": "_29LBBmO_EDC",
        "colab": {
          "base_uri": "https://localhost:8080/"
        },
        "outputId": "8f88a940-72fc-4510-eb99-b9d2c59c38e7"
      },
      "source": [
        "#5-nn base_completa_10\n",
        "accuracy_score(y_test_10, nn5_10.predict(X_test_10))"
      ],
      "execution_count": null,
      "outputs": [
        {
          "output_type": "execute_result",
          "data": {
            "text/plain": [
              "1.0"
            ]
          },
          "metadata": {
            "tags": []
          },
          "execution_count": 96
        }
      ]
    }
  ]
}